{
 "cells": [
  {
   "cell_type": "markdown",
   "id": "e541a39b",
   "metadata": {},
   "source": [
    "## Packages importing "
   ]
  },
  {
   "cell_type": "code",
   "execution_count": 1,
   "id": "7db938e2",
   "metadata": {},
   "outputs": [
    {
     "name": "stdout",
     "output_type": "stream",
     "text": [
      "Requirement already satisfied: matplotlib in /Users/wasiflatifhussain/anaconda3/lib/python3.11/site-packages (3.9.0)\n",
      "Requirement already satisfied: seaborn in /Users/wasiflatifhussain/anaconda3/lib/python3.11/site-packages (0.13.2)\n",
      "Requirement already satisfied: pandas in /Users/wasiflatifhussain/anaconda3/lib/python3.11/site-packages (2.1.1)\n",
      "Requirement already satisfied: numpy in /Users/wasiflatifhussain/anaconda3/lib/python3.11/site-packages (1.26.0)\n",
      "Requirement already satisfied: scikit-learn in /Users/wasiflatifhussain/anaconda3/lib/python3.11/site-packages (1.5.0)\n",
      "Requirement already satisfied: datasist in /Users/wasiflatifhussain/anaconda3/lib/python3.11/site-packages (1.5.3)\n",
      "Requirement already satisfied: imbalanced-learn in /Users/wasiflatifhussain/anaconda3/lib/python3.11/site-packages (0.12.3)\n",
      "Requirement already satisfied: category-encoders in /Users/wasiflatifhussain/anaconda3/lib/python3.11/site-packages (2.6.3)\n",
      "Requirement already satisfied: xgboost in /Users/wasiflatifhussain/anaconda3/lib/python3.11/site-packages (2.1.0)\n",
      "Requirement already satisfied: joblib in /Users/wasiflatifhussain/anaconda3/lib/python3.11/site-packages (1.4.2)\n",
      "Requirement already satisfied: contourpy>=1.0.1 in /Users/wasiflatifhussain/anaconda3/lib/python3.11/site-packages (from matplotlib) (1.2.1)\n",
      "Requirement already satisfied: cycler>=0.10 in /Users/wasiflatifhussain/anaconda3/lib/python3.11/site-packages (from matplotlib) (0.12.1)\n",
      "Requirement already satisfied: fonttools>=4.22.0 in /Users/wasiflatifhussain/anaconda3/lib/python3.11/site-packages (from matplotlib) (4.53.0)\n",
      "Requirement already satisfied: kiwisolver>=1.3.1 in /Users/wasiflatifhussain/anaconda3/lib/python3.11/site-packages (from matplotlib) (1.4.5)\n",
      "Requirement already satisfied: packaging>=20.0 in /Users/wasiflatifhussain/anaconda3/lib/python3.11/site-packages (from matplotlib) (23.1)\n",
      "Requirement already satisfied: pillow>=8 in /Users/wasiflatifhussain/anaconda3/lib/python3.11/site-packages (from matplotlib) (9.4.0)\n",
      "Requirement already satisfied: pyparsing>=2.3.1 in /Users/wasiflatifhussain/anaconda3/lib/python3.11/site-packages (from matplotlib) (3.1.2)\n",
      "Requirement already satisfied: python-dateutil>=2.7 in /Users/wasiflatifhussain/anaconda3/lib/python3.11/site-packages (from matplotlib) (2.8.2)\n",
      "Requirement already satisfied: pytz>=2020.1 in /Users/wasiflatifhussain/anaconda3/lib/python3.11/site-packages (from pandas) (2023.3.post1)\n",
      "Requirement already satisfied: tzdata>=2022.1 in /Users/wasiflatifhussain/anaconda3/lib/python3.11/site-packages (from pandas) (2023.3)\n",
      "Requirement already satisfied: scipy>=1.6.0 in /Users/wasiflatifhussain/anaconda3/lib/python3.11/site-packages (from scikit-learn) (1.13.1)\n",
      "Requirement already satisfied: threadpoolctl>=3.1.0 in /Users/wasiflatifhussain/anaconda3/lib/python3.11/site-packages (from scikit-learn) (3.5.0)\n",
      "Requirement already satisfied: jupyter in /Users/wasiflatifhussain/anaconda3/lib/python3.11/site-packages (from datasist) (1.0.0)\n",
      "Requirement already satisfied: nltk in /Users/wasiflatifhussain/anaconda3/lib/python3.11/site-packages (from datasist) (3.8.1)\n",
      "Requirement already satisfied: statsmodels>=0.9.0 in /Users/wasiflatifhussain/anaconda3/lib/python3.11/site-packages (from category-encoders) (0.14.2)\n",
      "Requirement already satisfied: patsy>=0.5.1 in /Users/wasiflatifhussain/anaconda3/lib/python3.11/site-packages (from category-encoders) (0.5.6)\n",
      "Requirement already satisfied: six in /Users/wasiflatifhussain/anaconda3/lib/python3.11/site-packages (from patsy>=0.5.1->category-encoders) (1.16.0)\n",
      "Requirement already satisfied: notebook in /Users/wasiflatifhussain/anaconda3/lib/python3.11/site-packages (from jupyter->datasist) (7.2.1)\n",
      "Requirement already satisfied: qtconsole in /Users/wasiflatifhussain/anaconda3/lib/python3.11/site-packages (from jupyter->datasist) (5.5.2)\n",
      "Requirement already satisfied: jupyter-console in /Users/wasiflatifhussain/anaconda3/lib/python3.11/site-packages (from jupyter->datasist) (6.6.3)\n",
      "Requirement already satisfied: nbconvert in /Users/wasiflatifhussain/anaconda3/lib/python3.11/site-packages (from jupyter->datasist) (7.9.2)\n",
      "Requirement already satisfied: ipykernel in /Users/wasiflatifhussain/anaconda3/lib/python3.11/site-packages (from jupyter->datasist) (6.25.2)\n",
      "Requirement already satisfied: ipywidgets in /Users/wasiflatifhussain/anaconda3/lib/python3.11/site-packages (from jupyter->datasist) (8.1.3)\n",
      "Requirement already satisfied: click in /Users/wasiflatifhussain/anaconda3/lib/python3.11/site-packages (from nltk->datasist) (8.1.7)\n",
      "Requirement already satisfied: regex>=2021.8.3 in /Users/wasiflatifhussain/anaconda3/lib/python3.11/site-packages (from nltk->datasist) (2024.5.15)\n",
      "Requirement already satisfied: tqdm in /Users/wasiflatifhussain/anaconda3/lib/python3.11/site-packages (from nltk->datasist) (4.66.4)\n",
      "Requirement already satisfied: appnope in /Users/wasiflatifhussain/anaconda3/lib/python3.11/site-packages (from ipykernel->jupyter->datasist) (0.1.3)\n",
      "Requirement already satisfied: comm>=0.1.1 in /Users/wasiflatifhussain/anaconda3/lib/python3.11/site-packages (from ipykernel->jupyter->datasist) (0.1.4)\n",
      "Requirement already satisfied: debugpy>=1.6.5 in /Users/wasiflatifhussain/anaconda3/lib/python3.11/site-packages (from ipykernel->jupyter->datasist) (1.8.0)\n",
      "Requirement already satisfied: ipython>=7.23.1 in /Users/wasiflatifhussain/anaconda3/lib/python3.11/site-packages (from ipykernel->jupyter->datasist) (8.16.1)\n",
      "Requirement already satisfied: jupyter-client>=6.1.12 in /Users/wasiflatifhussain/anaconda3/lib/python3.11/site-packages (from ipykernel->jupyter->datasist) (8.3.1)\n",
      "Requirement already satisfied: jupyter-core!=5.0.*,>=4.12 in /Users/wasiflatifhussain/anaconda3/lib/python3.11/site-packages (from ipykernel->jupyter->datasist) (5.3.0)\n",
      "Requirement already satisfied: matplotlib-inline>=0.1 in /Users/wasiflatifhussain/anaconda3/lib/python3.11/site-packages (from ipykernel->jupyter->datasist) (0.1.6)\n",
      "Requirement already satisfied: nest-asyncio in /Users/wasiflatifhussain/anaconda3/lib/python3.11/site-packages (from ipykernel->jupyter->datasist) (1.5.8)\n",
      "Requirement already satisfied: psutil in /Users/wasiflatifhussain/anaconda3/lib/python3.11/site-packages (from ipykernel->jupyter->datasist) (5.9.0)\n",
      "Requirement already satisfied: pyzmq>=20 in /Users/wasiflatifhussain/anaconda3/lib/python3.11/site-packages (from ipykernel->jupyter->datasist) (25.1.1)\n",
      "Requirement already satisfied: tornado>=6.1 in /Users/wasiflatifhussain/anaconda3/lib/python3.11/site-packages (from ipykernel->jupyter->datasist) (6.3.2)\n",
      "Requirement already satisfied: traitlets>=5.4.0 in /Users/wasiflatifhussain/anaconda3/lib/python3.11/site-packages (from ipykernel->jupyter->datasist) (5.7.1)\n",
      "Requirement already satisfied: widgetsnbextension~=4.0.11 in /Users/wasiflatifhussain/anaconda3/lib/python3.11/site-packages (from ipywidgets->jupyter->datasist) (4.0.11)\n",
      "Requirement already satisfied: jupyterlab-widgets~=3.0.11 in /Users/wasiflatifhussain/anaconda3/lib/python3.11/site-packages (from ipywidgets->jupyter->datasist) (3.0.11)\n",
      "Requirement already satisfied: prompt-toolkit>=3.0.30 in /Users/wasiflatifhussain/anaconda3/lib/python3.11/site-packages (from jupyter-console->jupyter->datasist) (3.0.39)\n",
      "Requirement already satisfied: pygments in /Users/wasiflatifhussain/anaconda3/lib/python3.11/site-packages (from jupyter-console->jupyter->datasist) (2.16.1)\n",
      "Requirement already satisfied: beautifulsoup4 in /Users/wasiflatifhussain/anaconda3/lib/python3.11/site-packages (from nbconvert->jupyter->datasist) (4.12.2)\n",
      "Requirement already satisfied: bleach!=5.0.0 in /Users/wasiflatifhussain/anaconda3/lib/python3.11/site-packages (from nbconvert->jupyter->datasist) (6.1.0)\n",
      "Requirement already satisfied: defusedxml in /Users/wasiflatifhussain/anaconda3/lib/python3.11/site-packages (from nbconvert->jupyter->datasist) (0.7.1)\n",
      "Requirement already satisfied: jinja2>=3.0 in /Users/wasiflatifhussain/anaconda3/lib/python3.11/site-packages (from nbconvert->jupyter->datasist) (3.1.2)\n",
      "Requirement already satisfied: jupyterlab-pygments in /Users/wasiflatifhussain/anaconda3/lib/python3.11/site-packages (from nbconvert->jupyter->datasist) (0.2.2)\n",
      "Requirement already satisfied: markupsafe>=2.0 in /Users/wasiflatifhussain/anaconda3/lib/python3.11/site-packages (from nbconvert->jupyter->datasist) (2.1.1)\n",
      "Requirement already satisfied: mistune<4,>=2.0.3 in /Users/wasiflatifhussain/anaconda3/lib/python3.11/site-packages (from nbconvert->jupyter->datasist) (3.0.2)\n",
      "Requirement already satisfied: nbclient>=0.5.0 in /Users/wasiflatifhussain/anaconda3/lib/python3.11/site-packages (from nbconvert->jupyter->datasist) (0.8.0)\n",
      "Requirement already satisfied: nbformat>=5.7 in /Users/wasiflatifhussain/anaconda3/lib/python3.11/site-packages (from nbconvert->jupyter->datasist) (5.9.2)\n",
      "Requirement already satisfied: pandocfilters>=1.4.1 in /Users/wasiflatifhussain/anaconda3/lib/python3.11/site-packages (from nbconvert->jupyter->datasist) (1.5.0)\n",
      "Requirement already satisfied: tinycss2 in /Users/wasiflatifhussain/anaconda3/lib/python3.11/site-packages (from nbconvert->jupyter->datasist) (1.2.1)\n",
      "Requirement already satisfied: jupyter-server<3,>=2.4.0 in /Users/wasiflatifhussain/anaconda3/lib/python3.11/site-packages (from notebook->jupyter->datasist) (2.7.3)\n",
      "Requirement already satisfied: jupyterlab-server<3,>=2.27.1 in /Users/wasiflatifhussain/anaconda3/lib/python3.11/site-packages (from notebook->jupyter->datasist) (2.27.2)\n",
      "Requirement already satisfied: jupyterlab<4.3,>=4.2.0 in /Users/wasiflatifhussain/anaconda3/lib/python3.11/site-packages (from notebook->jupyter->datasist) (4.2.3)\n",
      "Requirement already satisfied: notebook-shim<0.3,>=0.2 in /Users/wasiflatifhussain/anaconda3/lib/python3.11/site-packages (from notebook->jupyter->datasist) (0.2.3)\n",
      "Requirement already satisfied: qtpy>=2.4.0 in /Users/wasiflatifhussain/anaconda3/lib/python3.11/site-packages (from qtconsole->jupyter->datasist) (2.4.1)\n",
      "Requirement already satisfied: webencodings in /Users/wasiflatifhussain/anaconda3/lib/python3.11/site-packages (from bleach!=5.0.0->nbconvert->jupyter->datasist) (0.5.1)\n",
      "Requirement already satisfied: backcall in /Users/wasiflatifhussain/anaconda3/lib/python3.11/site-packages (from ipython>=7.23.1->ipykernel->jupyter->datasist) (0.2.0)\n",
      "Requirement already satisfied: decorator in /Users/wasiflatifhussain/anaconda3/lib/python3.11/site-packages (from ipython>=7.23.1->ipykernel->jupyter->datasist) (5.1.1)\n",
      "Requirement already satisfied: jedi>=0.16 in /Users/wasiflatifhussain/anaconda3/lib/python3.11/site-packages (from ipython>=7.23.1->ipykernel->jupyter->datasist) (0.19.1)\n",
      "Requirement already satisfied: pickleshare in /Users/wasiflatifhussain/anaconda3/lib/python3.11/site-packages (from ipython>=7.23.1->ipykernel->jupyter->datasist) (0.7.5)\n",
      "Requirement already satisfied: stack-data in /Users/wasiflatifhussain/anaconda3/lib/python3.11/site-packages (from ipython>=7.23.1->ipykernel->jupyter->datasist) (0.6.3)\n",
      "Requirement already satisfied: pexpect>4.3 in /Users/wasiflatifhussain/anaconda3/lib/python3.11/site-packages (from ipython>=7.23.1->ipykernel->jupyter->datasist) (4.8.0)\n",
      "Requirement already satisfied: platformdirs>=2.5 in /Users/wasiflatifhussain/anaconda3/lib/python3.11/site-packages (from jupyter-core!=5.0.*,>=4.12->ipykernel->jupyter->datasist) (3.10.0)\n",
      "Requirement already satisfied: anyio>=3.1.0 in /Users/wasiflatifhussain/anaconda3/lib/python3.11/site-packages (from jupyter-server<3,>=2.4.0->notebook->jupyter->datasist) (4.0.0)\n",
      "Requirement already satisfied: argon2-cffi in /Users/wasiflatifhussain/anaconda3/lib/python3.11/site-packages (from jupyter-server<3,>=2.4.0->notebook->jupyter->datasist) (23.1.0)\n",
      "Requirement already satisfied: jupyter-events>=0.6.0 in /Users/wasiflatifhussain/anaconda3/lib/python3.11/site-packages (from jupyter-server<3,>=2.4.0->notebook->jupyter->datasist) (0.7.0)\n",
      "Requirement already satisfied: jupyter-server-terminals in /Users/wasiflatifhussain/anaconda3/lib/python3.11/site-packages (from jupyter-server<3,>=2.4.0->notebook->jupyter->datasist) (0.4.4)\n",
      "Requirement already satisfied: overrides in /Users/wasiflatifhussain/anaconda3/lib/python3.11/site-packages (from jupyter-server<3,>=2.4.0->notebook->jupyter->datasist) (7.4.0)\n",
      "Requirement already satisfied: prometheus-client in /Users/wasiflatifhussain/anaconda3/lib/python3.11/site-packages (from jupyter-server<3,>=2.4.0->notebook->jupyter->datasist) (0.17.1)\n",
      "Requirement already satisfied: send2trash>=1.8.2 in /Users/wasiflatifhussain/anaconda3/lib/python3.11/site-packages (from jupyter-server<3,>=2.4.0->notebook->jupyter->datasist) (1.8.2)\n",
      "Requirement already satisfied: terminado>=0.8.3 in /Users/wasiflatifhussain/anaconda3/lib/python3.11/site-packages (from jupyter-server<3,>=2.4.0->notebook->jupyter->datasist) (0.17.1)\n",
      "Requirement already satisfied: websocket-client in /Users/wasiflatifhussain/anaconda3/lib/python3.11/site-packages (from jupyter-server<3,>=2.4.0->notebook->jupyter->datasist) (1.6.4)\n",
      "Requirement already satisfied: async-lru>=1.0.0 in /Users/wasiflatifhussain/anaconda3/lib/python3.11/site-packages (from jupyterlab<4.3,>=4.2.0->notebook->jupyter->datasist) (2.0.4)\n",
      "Requirement already satisfied: httpx>=0.25.0 in /Users/wasiflatifhussain/anaconda3/lib/python3.11/site-packages (from jupyterlab<4.3,>=4.2.0->notebook->jupyter->datasist) (0.27.0)\n",
      "Requirement already satisfied: jupyter-lsp>=2.0.0 in /Users/wasiflatifhussain/anaconda3/lib/python3.11/site-packages (from jupyterlab<4.3,>=4.2.0->notebook->jupyter->datasist) (2.2.0)\n",
      "Requirement already satisfied: setuptools>=40.1.0 in /Users/wasiflatifhussain/anaconda3/lib/python3.11/site-packages (from jupyterlab<4.3,>=4.2.0->notebook->jupyter->datasist) (68.0.0)\n",
      "Requirement already satisfied: babel>=2.10 in /Users/wasiflatifhussain/anaconda3/lib/python3.11/site-packages (from jupyterlab-server<3,>=2.27.1->notebook->jupyter->datasist) (2.13.0)\n",
      "Requirement already satisfied: json5>=0.9.0 in /Users/wasiflatifhussain/anaconda3/lib/python3.11/site-packages (from jupyterlab-server<3,>=2.27.1->notebook->jupyter->datasist) (0.9.14)\n",
      "Requirement already satisfied: jsonschema>=4.18.0 in /Users/wasiflatifhussain/anaconda3/lib/python3.11/site-packages (from jupyterlab-server<3,>=2.27.1->notebook->jupyter->datasist) (4.19.1)\n",
      "Requirement already satisfied: requests>=2.31 in /Users/wasiflatifhussain/anaconda3/lib/python3.11/site-packages (from jupyterlab-server<3,>=2.27.1->notebook->jupyter->datasist) (2.32.3)\n",
      "Requirement already satisfied: fastjsonschema in /Users/wasiflatifhussain/anaconda3/lib/python3.11/site-packages (from nbformat>=5.7->nbconvert->jupyter->datasist) (2.16.2)\n",
      "Requirement already satisfied: wcwidth in /Users/wasiflatifhussain/anaconda3/lib/python3.11/site-packages (from prompt-toolkit>=3.0.30->jupyter-console->jupyter->datasist) (0.2.8)\n",
      "Requirement already satisfied: soupsieve>1.2 in /Users/wasiflatifhussain/anaconda3/lib/python3.11/site-packages (from beautifulsoup4->nbconvert->jupyter->datasist) (2.5)\n",
      "Requirement already satisfied: idna>=2.8 in /Users/wasiflatifhussain/anaconda3/lib/python3.11/site-packages (from anyio>=3.1.0->jupyter-server<3,>=2.4.0->notebook->jupyter->datasist) (3.4)\n",
      "Requirement already satisfied: sniffio>=1.1 in /Users/wasiflatifhussain/anaconda3/lib/python3.11/site-packages (from anyio>=3.1.0->jupyter-server<3,>=2.4.0->notebook->jupyter->datasist) (1.3.0)\n",
      "Requirement already satisfied: certifi in /Users/wasiflatifhussain/anaconda3/lib/python3.11/site-packages (from httpx>=0.25.0->jupyterlab<4.3,>=4.2.0->notebook->jupyter->datasist) (2023.7.22)\n",
      "Requirement already satisfied: httpcore==1.* in /Users/wasiflatifhussain/anaconda3/lib/python3.11/site-packages (from httpx>=0.25.0->jupyterlab<4.3,>=4.2.0->notebook->jupyter->datasist) (1.0.5)\n",
      "Requirement already satisfied: h11<0.15,>=0.13 in /Users/wasiflatifhussain/anaconda3/lib/python3.11/site-packages (from httpcore==1.*->httpx>=0.25.0->jupyterlab<4.3,>=4.2.0->notebook->jupyter->datasist) (0.14.0)\n",
      "Requirement already satisfied: parso<0.9.0,>=0.8.3 in /Users/wasiflatifhussain/anaconda3/lib/python3.11/site-packages (from jedi>=0.16->ipython>=7.23.1->ipykernel->jupyter->datasist) (0.8.3)\n",
      "Requirement already satisfied: attrs>=22.2.0 in /Users/wasiflatifhussain/anaconda3/lib/python3.11/site-packages (from jsonschema>=4.18.0->jupyterlab-server<3,>=2.27.1->notebook->jupyter->datasist) (23.1.0)\n",
      "Requirement already satisfied: jsonschema-specifications>=2023.03.6 in /Users/wasiflatifhussain/anaconda3/lib/python3.11/site-packages (from jsonschema>=4.18.0->jupyterlab-server<3,>=2.27.1->notebook->jupyter->datasist) (2023.7.1)\n",
      "Requirement already satisfied: referencing>=0.28.4 in /Users/wasiflatifhussain/anaconda3/lib/python3.11/site-packages (from jsonschema>=4.18.0->jupyterlab-server<3,>=2.27.1->notebook->jupyter->datasist) (0.30.2)\n",
      "Requirement already satisfied: rpds-py>=0.7.1 in /Users/wasiflatifhussain/anaconda3/lib/python3.11/site-packages (from jsonschema>=4.18.0->jupyterlab-server<3,>=2.27.1->notebook->jupyter->datasist) (0.10.4)\n",
      "Requirement already satisfied: python-json-logger>=2.0.4 in /Users/wasiflatifhussain/anaconda3/lib/python3.11/site-packages (from jupyter-events>=0.6.0->jupyter-server<3,>=2.4.0->notebook->jupyter->datasist) (2.0.7)\n",
      "Requirement already satisfied: pyyaml>=5.3 in /Users/wasiflatifhussain/anaconda3/lib/python3.11/site-packages (from jupyter-events>=0.6.0->jupyter-server<3,>=2.4.0->notebook->jupyter->datasist) (6.0)\n",
      "Requirement already satisfied: rfc3339-validator in /Users/wasiflatifhussain/anaconda3/lib/python3.11/site-packages (from jupyter-events>=0.6.0->jupyter-server<3,>=2.4.0->notebook->jupyter->datasist) (0.1.4)\n",
      "Requirement already satisfied: rfc3986-validator>=0.1.1 in /Users/wasiflatifhussain/anaconda3/lib/python3.11/site-packages (from jupyter-events>=0.6.0->jupyter-server<3,>=2.4.0->notebook->jupyter->datasist) (0.1.1)\n",
      "Requirement already satisfied: ptyprocess>=0.5 in /Users/wasiflatifhussain/anaconda3/lib/python3.11/site-packages (from pexpect>4.3->ipython>=7.23.1->ipykernel->jupyter->datasist) (0.7.0)\n",
      "Requirement already satisfied: charset-normalizer<4,>=2 in /Users/wasiflatifhussain/anaconda3/lib/python3.11/site-packages (from requests>=2.31->jupyterlab-server<3,>=2.27.1->notebook->jupyter->datasist) (2.0.4)\n",
      "Requirement already satisfied: urllib3<3,>=1.21.1 in /Users/wasiflatifhussain/anaconda3/lib/python3.11/site-packages (from requests>=2.31->jupyterlab-server<3,>=2.27.1->notebook->jupyter->datasist) (1.26.16)\n",
      "Requirement already satisfied: argon2-cffi-bindings in /Users/wasiflatifhussain/anaconda3/lib/python3.11/site-packages (from argon2-cffi->jupyter-server<3,>=2.4.0->notebook->jupyter->datasist) (21.2.0)\n",
      "Requirement already satisfied: executing>=1.2.0 in /Users/wasiflatifhussain/anaconda3/lib/python3.11/site-packages (from stack-data->ipython>=7.23.1->ipykernel->jupyter->datasist) (2.0.0)\n",
      "Requirement already satisfied: asttokens>=2.1.0 in /Users/wasiflatifhussain/anaconda3/lib/python3.11/site-packages (from stack-data->ipython>=7.23.1->ipykernel->jupyter->datasist) (2.4.0)\n",
      "Requirement already satisfied: pure-eval in /Users/wasiflatifhussain/anaconda3/lib/python3.11/site-packages (from stack-data->ipython>=7.23.1->ipykernel->jupyter->datasist) (0.2.2)\n",
      "Requirement already satisfied: fqdn in /Users/wasiflatifhussain/anaconda3/lib/python3.11/site-packages (from jsonschema>=4.18.0->jupyterlab-server<3,>=2.27.1->notebook->jupyter->datasist) (1.5.1)\n",
      "Requirement already satisfied: isoduration in /Users/wasiflatifhussain/anaconda3/lib/python3.11/site-packages (from jsonschema>=4.18.0->jupyterlab-server<3,>=2.27.1->notebook->jupyter->datasist) (20.11.0)\n",
      "Requirement already satisfied: jsonpointer>1.13 in /Users/wasiflatifhussain/anaconda3/lib/python3.11/site-packages (from jsonschema>=4.18.0->jupyterlab-server<3,>=2.27.1->notebook->jupyter->datasist) (2.1)\n",
      "Requirement already satisfied: uri-template in /Users/wasiflatifhussain/anaconda3/lib/python3.11/site-packages (from jsonschema>=4.18.0->jupyterlab-server<3,>=2.27.1->notebook->jupyter->datasist) (1.3.0)\n",
      "Requirement already satisfied: webcolors>=1.11 in /Users/wasiflatifhussain/anaconda3/lib/python3.11/site-packages (from jsonschema>=4.18.0->jupyterlab-server<3,>=2.27.1->notebook->jupyter->datasist) (1.13)\n",
      "Requirement already satisfied: cffi>=1.0.1 in /Users/wasiflatifhussain/anaconda3/lib/python3.11/site-packages (from argon2-cffi-bindings->argon2-cffi->jupyter-server<3,>=2.4.0->notebook->jupyter->datasist) (1.15.1)\n",
      "Requirement already satisfied: pycparser in /Users/wasiflatifhussain/anaconda3/lib/python3.11/site-packages (from cffi>=1.0.1->argon2-cffi-bindings->argon2-cffi->jupyter-server<3,>=2.4.0->notebook->jupyter->datasist) (2.21)\n",
      "Requirement already satisfied: arrow>=0.15.0 in /Users/wasiflatifhussain/anaconda3/lib/python3.11/site-packages (from isoduration->jsonschema>=4.18.0->jupyterlab-server<3,>=2.27.1->notebook->jupyter->datasist) (1.3.0)\n",
      "Requirement already satisfied: types-python-dateutil>=2.8.10 in /Users/wasiflatifhussain/anaconda3/lib/python3.11/site-packages (from arrow>=0.15.0->isoduration->jsonschema>=4.18.0->jupyterlab-server<3,>=2.27.1->notebook->jupyter->datasist) (2.8.19.14)\n"
     ]
    }
   ],
   "source": [
    "!pip install matplotlib seaborn pandas numpy scikit-learn datasist imbalanced-learn category-encoders xgboost joblib"
   ]
  },
  {
   "cell_type": "code",
   "execution_count": 2,
   "id": "59947c84-3614-48f1-9057-3e12a21739da",
   "metadata": {},
   "outputs": [
    {
     "name": "stderr",
     "output_type": "stream",
     "text": [
      "/Users/wasiflatifhussain/anaconda3/lib/python3.11/site-packages/sklearn/experimental/enable_hist_gradient_boosting.py:16: UserWarning: Since version 1.0, it is not needed to import enable_hist_gradient_boosting anymore. HistGradientBoostingClassifier and HistGradientBoostingRegressor are now stable and can be normally imported from sklearn.ensemble.\n",
      "  warnings.warn(\n"
     ]
    }
   ],
   "source": [
    "# Packages for EDA \n",
    "import matplotlib.pyplot as plt\n",
    "import seaborn as sns \n",
    "import pandas as pd \n",
    "import numpy as np \n",
    "\n",
    "# Data Preprocessing\n",
    "from sklearn.model_selection import train_test_split\n",
    "from sklearn.preprocessing import PowerTransformer\n",
    "from datasist.structdata import detect_outliers\n",
    "from sklearn.metrics import mean_squared_error\n",
    "from imblearn.over_sampling import SMOTE\n",
    "from sklearn.impute import SimpleImputer\n",
    "import category_encoders as ce\n",
    "import re \n",
    "\n",
    "# Modeling and evaluation \n",
    "from sklearn.experimental import enable_hist_gradient_boosting\n",
    "from sklearn.ensemble import (\n",
    "    BaggingClassifier,\n",
    "    ExtraTreesClassifier,\n",
    "    RandomForestClassifier,\n",
    "    StackingClassifier,\n",
    "    HistGradientBoostingClassifier\n",
    ")\n",
    "from xgboost import XGBClassifier\n",
    "from sklearn.metrics import classification_report \n",
    "import joblib\n",
    "\n",
    "# Packages options \n",
    "sns.set(rc={'figure.figsize': [14, 7]}, font_scale=1.2) # Standard figure size for all \n",
    "np.seterr(divide='ignore', invalid='ignore', over='ignore') ;\n",
    "\n",
    "import warnings \n",
    "warnings.filterwarnings(\"ignore\")"
   ]
  },
  {
   "cell_type": "markdown",
   "id": "19fb0b7b",
   "metadata": {},
   "source": [
    "## Reading Data "
   ]
  },
  {
   "cell_type": "code",
   "execution_count": 3,
   "id": "8c587189",
   "metadata": {},
   "outputs": [],
   "source": [
    "df = pd.read_csv(\"train.csv\",low_memory=False)"
   ]
  },
  {
   "cell_type": "code",
   "execution_count": 300,
   "id": "79c5dc49",
   "metadata": {},
   "outputs": [
    {
     "data": {
      "text/html": [
       "<div>\n",
       "<style scoped>\n",
       "    .dataframe tbody tr th:only-of-type {\n",
       "        vertical-align: middle;\n",
       "    }\n",
       "\n",
       "    .dataframe tbody tr th {\n",
       "        vertical-align: top;\n",
       "    }\n",
       "\n",
       "    .dataframe thead th {\n",
       "        text-align: right;\n",
       "    }\n",
       "</style>\n",
       "<table border=\"1\" class=\"dataframe\">\n",
       "  <thead>\n",
       "    <tr style=\"text-align: right;\">\n",
       "      <th></th>\n",
       "      <th>ID</th>\n",
       "      <th>Customer_ID</th>\n",
       "      <th>Month</th>\n",
       "      <th>Name</th>\n",
       "      <th>Age</th>\n",
       "      <th>SSN</th>\n",
       "      <th>Occupation</th>\n",
       "      <th>Annual_Income</th>\n",
       "      <th>Monthly_Inhand_Salary</th>\n",
       "      <th>Num_Bank_Accounts</th>\n",
       "      <th>...</th>\n",
       "      <th>Credit_Mix</th>\n",
       "      <th>Outstanding_Debt</th>\n",
       "      <th>Credit_Utilization_Ratio</th>\n",
       "      <th>Credit_History_Age</th>\n",
       "      <th>Payment_of_Min_Amount</th>\n",
       "      <th>Total_EMI_per_month</th>\n",
       "      <th>Amount_invested_monthly</th>\n",
       "      <th>Payment_Behaviour</th>\n",
       "      <th>Monthly_Balance</th>\n",
       "      <th>Credit_Score</th>\n",
       "    </tr>\n",
       "  </thead>\n",
       "  <tbody>\n",
       "    <tr>\n",
       "      <th>33528</th>\n",
       "      <td>0xda76</td>\n",
       "      <td>CUS_0x14f5</td>\n",
       "      <td>January</td>\n",
       "      <td>Richard Leongd</td>\n",
       "      <td>40</td>\n",
       "      <td>497-15-6333</td>\n",
       "      <td>Doctor</td>\n",
       "      <td>36348.06</td>\n",
       "      <td>NaN</td>\n",
       "      <td>1779</td>\n",
       "      <td>...</td>\n",
       "      <td>_</td>\n",
       "      <td>4974.81</td>\n",
       "      <td>35.917870</td>\n",
       "      <td>NaN</td>\n",
       "      <td>NM</td>\n",
       "      <td>149.399918</td>\n",
       "      <td>194.82989838367072</td>\n",
       "      <td>Low_spent_Large_value_payments</td>\n",
       "      <td>252.27068341833728</td>\n",
       "      <td>Poor</td>\n",
       "    </tr>\n",
       "    <tr>\n",
       "      <th>99878</th>\n",
       "      <td>0x25f38</td>\n",
       "      <td>CUS_0x3855</td>\n",
       "      <td>July</td>\n",
       "      <td>NaN</td>\n",
       "      <td>27</td>\n",
       "      <td>963-55-7106</td>\n",
       "      <td>Scientist</td>\n",
       "      <td>118677.54</td>\n",
       "      <td>9963.795000</td>\n",
       "      <td>4</td>\n",
       "      <td>...</td>\n",
       "      <td>Good</td>\n",
       "      <td>995.47</td>\n",
       "      <td>36.246273</td>\n",
       "      <td>30 Years and 5 Months</td>\n",
       "      <td>No</td>\n",
       "      <td>237.106366</td>\n",
       "      <td>198.7625260677193</td>\n",
       "      <td>!@9#%8</td>\n",
       "      <td>810.5106080578134</td>\n",
       "      <td>Good</td>\n",
       "    </tr>\n",
       "    <tr>\n",
       "      <th>13109</th>\n",
       "      <td>0x62cf</td>\n",
       "      <td>CUS_0x2b2c</td>\n",
       "      <td>June</td>\n",
       "      <td>Perryy</td>\n",
       "      <td>52</td>\n",
       "      <td>676-48-0117</td>\n",
       "      <td>Entrepreneur</td>\n",
       "      <td>43312.78</td>\n",
       "      <td>3423.398333</td>\n",
       "      <td>4</td>\n",
       "      <td>...</td>\n",
       "      <td>Good</td>\n",
       "      <td>208.96</td>\n",
       "      <td>28.707389</td>\n",
       "      <td>19 Years and 1 Months</td>\n",
       "      <td>No</td>\n",
       "      <td>25.348420</td>\n",
       "      <td>440.2365317224337</td>\n",
       "      <td>Low_spent_Small_value_payments</td>\n",
       "      <td>166.75488166138192</td>\n",
       "      <td>Standard</td>\n",
       "    </tr>\n",
       "    <tr>\n",
       "      <th>9411</th>\n",
       "      <td>0x4d25</td>\n",
       "      <td>CUS_0x333c</td>\n",
       "      <td>April</td>\n",
       "      <td>Matthewj</td>\n",
       "      <td>20</td>\n",
       "      <td>835-38-7010</td>\n",
       "      <td>Manager</td>\n",
       "      <td>46640.82</td>\n",
       "      <td>3824.735000</td>\n",
       "      <td>3</td>\n",
       "      <td>...</td>\n",
       "      <td>_</td>\n",
       "      <td>816.11</td>\n",
       "      <td>38.283557</td>\n",
       "      <td>29 Years and 8 Months</td>\n",
       "      <td>No</td>\n",
       "      <td>75.535767</td>\n",
       "      <td>310.5987692629687</td>\n",
       "      <td>Low_spent_Large_value_payments</td>\n",
       "      <td>266.33896376725016</td>\n",
       "      <td>Good</td>\n",
       "    </tr>\n",
       "    <tr>\n",
       "      <th>52351</th>\n",
       "      <td>0x148bd</td>\n",
       "      <td>CUS_0xbedd</td>\n",
       "      <td>August</td>\n",
       "      <td>Flynnp</td>\n",
       "      <td>39</td>\n",
       "      <td>215-69-2225</td>\n",
       "      <td>Accountant</td>\n",
       "      <td>68824.42</td>\n",
       "      <td>4924.658801</td>\n",
       "      <td>4</td>\n",
       "      <td>...</td>\n",
       "      <td>Good</td>\n",
       "      <td>1455.38</td>\n",
       "      <td>25.836516</td>\n",
       "      <td>19 Years and 4 Months</td>\n",
       "      <td>No</td>\n",
       "      <td>835.717525</td>\n",
       "      <td>305.84577592922113</td>\n",
       "      <td>!@9#%8</td>\n",
       "      <td>496.28306465110893</td>\n",
       "      <td>Good</td>\n",
       "    </tr>\n",
       "    <tr>\n",
       "      <th>51781</th>\n",
       "      <td>0x14567</td>\n",
       "      <td>CUS_0x3be5</td>\n",
       "      <td>June</td>\n",
       "      <td>Copleyk</td>\n",
       "      <td>43</td>\n",
       "      <td>075-06-4820</td>\n",
       "      <td>Engineer</td>\n",
       "      <td>11900.03</td>\n",
       "      <td>NaN</td>\n",
       "      <td>3</td>\n",
       "      <td>...</td>\n",
       "      <td>Standard</td>\n",
       "      <td>399.01</td>\n",
       "      <td>31.095041</td>\n",
       "      <td>NaN</td>\n",
       "      <td>No</td>\n",
       "      <td>35.546222</td>\n",
       "      <td>109.91358234857678</td>\n",
       "      <td>Low_spent_Small_value_payments</td>\n",
       "      <td>271.0071126588615</td>\n",
       "      <td>Standard</td>\n",
       "    </tr>\n",
       "    <tr>\n",
       "      <th>47242</th>\n",
       "      <td>0x12ad0</td>\n",
       "      <td>CUS_0x446</td>\n",
       "      <td>March</td>\n",
       "      <td>Edwardso</td>\n",
       "      <td>44</td>\n",
       "      <td>767-35-3133</td>\n",
       "      <td>Architect</td>\n",
       "      <td>17327.28</td>\n",
       "      <td>1716.940000</td>\n",
       "      <td>6</td>\n",
       "      <td>...</td>\n",
       "      <td>Bad</td>\n",
       "      <td>2291.35</td>\n",
       "      <td>36.611802</td>\n",
       "      <td>NaN</td>\n",
       "      <td>Yes</td>\n",
       "      <td>55.438498</td>\n",
       "      <td>NaN</td>\n",
       "      <td>High_spent_Small_value_payments</td>\n",
       "      <td>263.1682013889278</td>\n",
       "      <td>Poor</td>\n",
       "    </tr>\n",
       "    <tr>\n",
       "      <th>61124</th>\n",
       "      <td>0x17c26</td>\n",
       "      <td>CUS_0x60ec</td>\n",
       "      <td>May</td>\n",
       "      <td>Shalal-Esar</td>\n",
       "      <td>42</td>\n",
       "      <td>211-05-3339</td>\n",
       "      <td>Musician</td>\n",
       "      <td>41975.0</td>\n",
       "      <td>3761.916667</td>\n",
       "      <td>2</td>\n",
       "      <td>...</td>\n",
       "      <td>Good</td>\n",
       "      <td>72.24</td>\n",
       "      <td>28.454613</td>\n",
       "      <td>25 Years and 1 Months</td>\n",
       "      <td>No</td>\n",
       "      <td>0.000000</td>\n",
       "      <td>187.9421880031073</td>\n",
       "      <td>!@9#%8</td>\n",
       "      <td>448.2494786635593</td>\n",
       "      <td>Good</td>\n",
       "    </tr>\n",
       "    <tr>\n",
       "      <th>40082</th>\n",
       "      <td>0x100dc</td>\n",
       "      <td>CUS_0x5cdb</td>\n",
       "      <td>March</td>\n",
       "      <td>Barta</td>\n",
       "      <td>36</td>\n",
       "      <td>358-85-5659</td>\n",
       "      <td>Lawyer</td>\n",
       "      <td>12338.465</td>\n",
       "      <td>738.205417</td>\n",
       "      <td>5</td>\n",
       "      <td>...</td>\n",
       "      <td>Good</td>\n",
       "      <td>352.92</td>\n",
       "      <td>27.951894</td>\n",
       "      <td>31 Years and 10 Months</td>\n",
       "      <td>No</td>\n",
       "      <td>10.218511</td>\n",
       "      <td>40.86913407758903</td>\n",
       "      <td>Low_spent_Large_value_payments</td>\n",
       "      <td>292.7328968314193</td>\n",
       "      <td>Poor</td>\n",
       "    </tr>\n",
       "    <tr>\n",
       "      <th>28363</th>\n",
       "      <td>0xbc31</td>\n",
       "      <td>CUS_0xb1dd</td>\n",
       "      <td>April</td>\n",
       "      <td>Thomask</td>\n",
       "      <td>56</td>\n",
       "      <td>061-81-4991</td>\n",
       "      <td>Doctor</td>\n",
       "      <td>12151.75</td>\n",
       "      <td>1187.645833</td>\n",
       "      <td>5</td>\n",
       "      <td>...</td>\n",
       "      <td>Standard</td>\n",
       "      <td>1011.03</td>\n",
       "      <td>37.147449</td>\n",
       "      <td>23 Years and 1 Months</td>\n",
       "      <td>No</td>\n",
       "      <td>7.249926</td>\n",
       "      <td>158.0496122341931</td>\n",
       "      <td>Low_spent_Small_value_payments</td>\n",
       "      <td>243.46504491725312</td>\n",
       "      <td>Standard</td>\n",
       "    </tr>\n",
       "  </tbody>\n",
       "</table>\n",
       "<p>10 rows × 28 columns</p>\n",
       "</div>"
      ],
      "text/plain": [
       "            ID Customer_ID    Month            Name Age          SSN  \\\n",
       "33528   0xda76  CUS_0x14f5  January  Richard Leongd  40  497-15-6333   \n",
       "99878  0x25f38  CUS_0x3855     July             NaN  27  963-55-7106   \n",
       "13109   0x62cf  CUS_0x2b2c     June          Perryy  52  676-48-0117   \n",
       "9411    0x4d25  CUS_0x333c    April        Matthewj  20  835-38-7010   \n",
       "52351  0x148bd  CUS_0xbedd   August          Flynnp  39  215-69-2225   \n",
       "51781  0x14567  CUS_0x3be5     June         Copleyk  43  075-06-4820   \n",
       "47242  0x12ad0   CUS_0x446    March        Edwardso  44  767-35-3133   \n",
       "61124  0x17c26  CUS_0x60ec      May     Shalal-Esar  42  211-05-3339   \n",
       "40082  0x100dc  CUS_0x5cdb    March           Barta  36  358-85-5659   \n",
       "28363   0xbc31  CUS_0xb1dd    April         Thomask  56  061-81-4991   \n",
       "\n",
       "         Occupation Annual_Income  Monthly_Inhand_Salary  Num_Bank_Accounts  \\\n",
       "33528        Doctor      36348.06                    NaN               1779   \n",
       "99878     Scientist     118677.54            9963.795000                  4   \n",
       "13109  Entrepreneur      43312.78            3423.398333                  4   \n",
       "9411        Manager      46640.82            3824.735000                  3   \n",
       "52351    Accountant      68824.42            4924.658801                  4   \n",
       "51781      Engineer      11900.03                    NaN                  3   \n",
       "47242     Architect      17327.28            1716.940000                  6   \n",
       "61124      Musician       41975.0            3761.916667                  2   \n",
       "40082        Lawyer     12338.465             738.205417                  5   \n",
       "28363        Doctor      12151.75            1187.645833                  5   \n",
       "\n",
       "       ...  Credit_Mix  Outstanding_Debt Credit_Utilization_Ratio  \\\n",
       "33528  ...           _           4974.81                35.917870   \n",
       "99878  ...        Good            995.47                36.246273   \n",
       "13109  ...        Good            208.96                28.707389   \n",
       "9411   ...           _            816.11                38.283557   \n",
       "52351  ...        Good           1455.38                25.836516   \n",
       "51781  ...    Standard            399.01                31.095041   \n",
       "47242  ...         Bad           2291.35                36.611802   \n",
       "61124  ...        Good             72.24                28.454613   \n",
       "40082  ...        Good            352.92                27.951894   \n",
       "28363  ...    Standard           1011.03                37.147449   \n",
       "\n",
       "           Credit_History_Age  Payment_of_Min_Amount Total_EMI_per_month  \\\n",
       "33528                     NaN                     NM          149.399918   \n",
       "99878   30 Years and 5 Months                     No          237.106366   \n",
       "13109   19 Years and 1 Months                     No           25.348420   \n",
       "9411    29 Years and 8 Months                     No           75.535767   \n",
       "52351   19 Years and 4 Months                     No          835.717525   \n",
       "51781                     NaN                     No           35.546222   \n",
       "47242                     NaN                    Yes           55.438498   \n",
       "61124   25 Years and 1 Months                     No            0.000000   \n",
       "40082  31 Years and 10 Months                     No           10.218511   \n",
       "28363   23 Years and 1 Months                     No            7.249926   \n",
       "\n",
       "      Amount_invested_monthly                Payment_Behaviour  \\\n",
       "33528      194.82989838367072   Low_spent_Large_value_payments   \n",
       "99878       198.7625260677193                           !@9#%8   \n",
       "13109       440.2365317224337   Low_spent_Small_value_payments   \n",
       "9411        310.5987692629687   Low_spent_Large_value_payments   \n",
       "52351      305.84577592922113                           !@9#%8   \n",
       "51781      109.91358234857678   Low_spent_Small_value_payments   \n",
       "47242                     NaN  High_spent_Small_value_payments   \n",
       "61124       187.9421880031073                           !@9#%8   \n",
       "40082       40.86913407758903   Low_spent_Large_value_payments   \n",
       "28363       158.0496122341931   Low_spent_Small_value_payments   \n",
       "\n",
       "          Monthly_Balance Credit_Score  \n",
       "33528  252.27068341833728         Poor  \n",
       "99878   810.5106080578134         Good  \n",
       "13109  166.75488166138192     Standard  \n",
       "9411   266.33896376725016         Good  \n",
       "52351  496.28306465110893         Good  \n",
       "51781   271.0071126588615     Standard  \n",
       "47242   263.1682013889278         Poor  \n",
       "61124   448.2494786635593         Good  \n",
       "40082   292.7328968314193         Poor  \n",
       "28363  243.46504491725312     Standard  \n",
       "\n",
       "[10 rows x 28 columns]"
      ]
     },
     "execution_count": 300,
     "metadata": {},
     "output_type": "execute_result"
    }
   ],
   "source": [
    "df.sample(10)"
   ]
  },
  {
   "cell_type": "markdown",
   "id": "d47af114",
   "metadata": {},
   "source": [
    "### Issues with this dataset: \n",
    "1. The following headings are supposed to be numerical but appear as categorical datatypes: Age, Annual_Income, Num_of_Loan, Num_of_Delayed_Payment, Changed_Credit_Limit, Amount_invested_monthly, Outstanding_Debt Credit_Mix, Monthly_Balance\n",
    "2. Remove these headings: ID, Name and SSN (Not useful)\n",
    "3. Remove missing data\n",
    "4. Credit_Mix has value a value \"-\" which needs to be removed/fixed\n",
    "5. Num_Credit_Card has __zeros__\n",
    "6. Type_of_Loan nees to be rewritten\n",
    "7. Negative values exist in the header: Num_Bank_Accounts\n",
    "8. Outliers need to be removed\n",
    "9. Missing data need to be filled/removed\n",
    "10. Target column does not have even balance of outputs\n",
    "11. Following headers need more fixing to balance out dataset: Credit_History_Age,Payment_of_Min_Amount,Payment_Behaviour,'Credit_Mix'"
   ]
  },
  {
   "cell_type": "markdown",
   "id": "6a7f044b",
   "metadata": {},
   "source": [
    "## Data cleaning"
   ]
  },
  {
   "cell_type": "code",
   "execution_count": 320,
   "id": "928f3bac",
   "metadata": {},
   "outputs": [],
   "source": [
    "del df['ID'] # Identification \n",
    "del df['Name'] # Name of client \n",
    "del df['SSN'] # SSN (social security number of a person)"
   ]
  },
  {
   "cell_type": "markdown",
   "id": "867ca7b3",
   "metadata": {},
   "source": [
    "#### Fixing Numerical Columns to be of float data-type and removing \"-\" columns"
   ]
  },
  {
   "cell_type": "markdown",
   "id": "0c3eac3c",
   "metadata": {},
   "source": [
    "1. replace _  \n",
    "2. convert into float "
   ]
  },
  {
   "cell_type": "code",
   "execution_count": 321,
   "id": "5533aaf4",
   "metadata": {},
   "outputs": [],
   "source": [
    "to_be_fixed = ['Age', 'Annual_Income', 'Num_of_Loan', 'Num_of_Delayed_Payment', 'Changed_Credit_Limit', 'Amount_invested_monthly', 'Outstanding_Debt' , 'Monthly_Balance']"
   ]
  },
  {
   "cell_type": "code",
   "execution_count": 322,
   "id": "46eb009b",
   "metadata": {},
   "outputs": [],
   "source": [
    "def fix_nums(num):\n",
    "    try : \n",
    "        return float(num.replace(\"_\",\"\"))\n",
    "    except :\n",
    "        return np.nan"
   ]
  },
  {
   "cell_type": "code",
   "execution_count": 323,
   "id": "16652fd2",
   "metadata": {},
   "outputs": [],
   "source": [
    "for col in to_be_fixed :\n",
    "    df[col] = df[col].apply(fix_nums)"
   ]
  },
  {
   "cell_type": "markdown",
   "id": "4b58c2b0",
   "metadata": {},
   "source": [
    "### Transform Type_of_Loan header"
   ]
  },
  {
   "cell_type": "code",
   "execution_count": 324,
   "id": "32d870fe",
   "metadata": {},
   "outputs": [],
   "source": [
    "## transform the Type_of_Loan column, which contains categorical data, into multiple binary columns.\n",
    "for i in df['Type_of_Loan'].value_counts().head(9).index[1:] : \n",
    "    df[i] = df['Type_of_Loan'].str.contains(i)\n",
    "\n",
    "del df['Type_of_Loan']"
   ]
  },
  {
   "cell_type": "markdown",
   "id": "550cad9d",
   "metadata": {},
   "source": [
    "#### Make Num_Bank_Accounts to be positive always"
   ]
  },
  {
   "cell_type": "code",
   "execution_count": 325,
   "id": "c5289aa1",
   "metadata": {},
   "outputs": [],
   "source": [
    "# number of bank accounts must be positive\n",
    "df['Num_Bank_Accounts'] = df['Num_Bank_Accounts'].apply(lambda x :abs (x))"
   ]
  },
  {
   "cell_type": "markdown",
   "id": "30dd5218",
   "metadata": {},
   "source": [
    "#### Non-Zero for Num_Credit_Card"
   ]
  },
  {
   "cell_type": "code",
   "execution_count": 326,
   "id": "44de7914",
   "metadata": {},
   "outputs": [],
   "source": [
    "# number of credit cards must be atleast 1\n",
    "df['Num_Credit_Card'].replace(0,1,inplace=True)"
   ]
  },
  {
   "cell_type": "markdown",
   "id": "03d6e5fd",
   "metadata": {},
   "source": [
    "#### Convert credit history ages under Credit_History_Age to all integers"
   ]
  },
  {
   "cell_type": "code",
   "execution_count": 327,
   "id": "14ed7bff",
   "metadata": {},
   "outputs": [],
   "source": [
    "def history_age(age):\n",
    "    try : \n",
    "        years = int(\"\".join(re.findall('[0-9]',''.join(age.split(\"and\")[0]))))\n",
    "        month = int(\"\".join(re.findall('[0-9]',''.join(age.split(\"and\")[1]))))\n",
    "        return years*12 + month\n",
    "    except :\n",
    "        return np.nan"
   ]
  },
  {
   "cell_type": "code",
   "execution_count": 328,
   "id": "dd788b83",
   "metadata": {},
   "outputs": [],
   "source": [
    "df['Credit_History_Age'] = df['Credit_History_Age'].apply(history_age)"
   ]
  },
  {
   "cell_type": "markdown",
   "id": "8d0f9da3",
   "metadata": {},
   "source": [
    "#### Payment_of_Min_Amount"
   ]
  },
  {
   "cell_type": "code",
   "execution_count": 329,
   "id": "168c4854",
   "metadata": {},
   "outputs": [],
   "source": [
    "df['Payment_of_Min_Amount'].replace(\"NM\",\"No\",inplace=True)"
   ]
  },
  {
   "cell_type": "code",
   "execution_count": 330,
   "id": "43643658",
   "metadata": {},
   "outputs": [
    {
     "data": {
      "text/plain": [
       "Payment_of_Min_Amount\n",
       "Yes    52326\n",
       "No     47674\n",
       "Name: count, dtype: int64"
      ]
     },
     "execution_count": 330,
     "metadata": {},
     "output_type": "execute_result"
    }
   ],
   "source": [
    "df['Payment_of_Min_Amount'].value_counts()"
   ]
  },
  {
   "cell_type": "markdown",
   "id": "b8d07d06",
   "metadata": {},
   "source": [
    "#### Payment_Behaviour"
   ]
  },
  {
   "cell_type": "code",
   "execution_count": 331,
   "id": "480b3b20",
   "metadata": {},
   "outputs": [],
   "source": [
    "df['Payment_Behaviour']= df['Payment_Behaviour'].replace(\"!@9#%8\",np.nan)"
   ]
  },
  {
   "cell_type": "code",
   "execution_count": 332,
   "id": "742c5f6e",
   "metadata": {},
   "outputs": [
    {
     "data": {
      "text/plain": [
       "Payment_Behaviour\n",
       "Low_spent_Small_value_payments      25513\n",
       "High_spent_Medium_value_payments    17540\n",
       "Low_spent_Medium_value_payments     13861\n",
       "High_spent_Large_value_payments     13721\n",
       "High_spent_Small_value_payments     11340\n",
       "Low_spent_Large_value_payments      10425\n",
       "Name: count, dtype: int64"
      ]
     },
     "execution_count": 332,
     "metadata": {},
     "output_type": "execute_result"
    }
   ],
   "source": [
    "df['Payment_Behaviour'].value_counts()"
   ]
  },
  {
   "cell_type": "markdown",
   "id": "b5298e9d",
   "metadata": {},
   "source": [
    "### Occupation"
   ]
  },
  {
   "cell_type": "code",
   "execution_count": 333,
   "id": "ad849f29",
   "metadata": {},
   "outputs": [
    {
     "data": {
      "text/plain": [
       "Occupation\n",
       "_______          7062\n",
       "Lawyer           6575\n",
       "Architect        6355\n",
       "Engineer         6350\n",
       "Scientist        6299\n",
       "Mechanic         6291\n",
       "Accountant       6271\n",
       "Developer        6235\n",
       "Media_Manager    6232\n",
       "Teacher          6215\n",
       "Entrepreneur     6174\n",
       "Doctor           6087\n",
       "Journalist       6085\n",
       "Manager          5973\n",
       "Musician         5911\n",
       "Writer           5885\n",
       "Name: count, dtype: int64"
      ]
     },
     "execution_count": 333,
     "metadata": {},
     "output_type": "execute_result"
    }
   ],
   "source": [
    "df['Occupation'].value_counts()"
   ]
  },
  {
   "cell_type": "code",
   "execution_count": 334,
   "id": "e965cd52",
   "metadata": {},
   "outputs": [
    {
     "data": {
      "text/plain": [
       "Index(['Lawyer', 'Architect', 'Engineer', 'Scientist', 'Mechanic',\n",
       "       'Accountant', 'Developer', 'Media_Manager', 'Teacher', 'Entrepreneur',\n",
       "       'Doctor', 'Journalist', 'Manager', 'Musician', 'Writer'],\n",
       "      dtype='object', name='Occupation')"
      ]
     },
     "execution_count": 334,
     "metadata": {},
     "output_type": "execute_result"
    }
   ],
   "source": [
    "occs = df['Occupation'].value_counts().index[1:]\n",
    "occs"
   ]
  },
  {
   "cell_type": "code",
   "execution_count": 335,
   "id": "23392df4",
   "metadata": {},
   "outputs": [
    {
     "data": {
      "text/html": [
       "<div>\n",
       "<style scoped>\n",
       "    .dataframe tbody tr th:only-of-type {\n",
       "        vertical-align: middle;\n",
       "    }\n",
       "\n",
       "    .dataframe tbody tr th {\n",
       "        vertical-align: top;\n",
       "    }\n",
       "\n",
       "    .dataframe thead th {\n",
       "        text-align: right;\n",
       "    }\n",
       "</style>\n",
       "<table border=\"1\" class=\"dataframe\">\n",
       "  <thead>\n",
       "    <tr style=\"text-align: right;\">\n",
       "      <th></th>\n",
       "      <th>Customer_ID</th>\n",
       "      <th>Month</th>\n",
       "      <th>Age</th>\n",
       "      <th>Occupation</th>\n",
       "      <th>Annual_Income</th>\n",
       "      <th>Monthly_Inhand_Salary</th>\n",
       "      <th>Num_Bank_Accounts</th>\n",
       "      <th>Num_Credit_Card</th>\n",
       "      <th>Interest_Rate</th>\n",
       "      <th>Num_of_Loan</th>\n",
       "      <th>...</th>\n",
       "      <th>Monthly_Balance</th>\n",
       "      <th>Credit_Score</th>\n",
       "      <th>Credit-Builder Loan</th>\n",
       "      <th>Personal Loan</th>\n",
       "      <th>Debt Consolidation Loan</th>\n",
       "      <th>Student Loan</th>\n",
       "      <th>Payday Loan</th>\n",
       "      <th>Mortgage Loan</th>\n",
       "      <th>Auto Loan</th>\n",
       "      <th>Home Equity Loan</th>\n",
       "    </tr>\n",
       "  </thead>\n",
       "  <tbody>\n",
       "    <tr>\n",
       "      <th>24</th>\n",
       "      <td>CUS_0xb891</td>\n",
       "      <td>January</td>\n",
       "      <td>54.0</td>\n",
       "      <td>Entrepreneur</td>\n",
       "      <td>30689.89</td>\n",
       "      <td>2612.490833</td>\n",
       "      <td>2</td>\n",
       "      <td>5</td>\n",
       "      <td>4</td>\n",
       "      <td>1.0</td>\n",
       "      <td>...</td>\n",
       "      <td>433.604773</td>\n",
       "      <td>Standard</td>\n",
       "      <td>False</td>\n",
       "      <td>False</td>\n",
       "      <td>False</td>\n",
       "      <td>False</td>\n",
       "      <td>False</td>\n",
       "      <td>False</td>\n",
       "      <td>False</td>\n",
       "      <td>False</td>\n",
       "    </tr>\n",
       "    <tr>\n",
       "      <th>25</th>\n",
       "      <td>CUS_0xb891</td>\n",
       "      <td>February</td>\n",
       "      <td>54.0</td>\n",
       "      <td>Entrepreneur</td>\n",
       "      <td>30689.89</td>\n",
       "      <td>2612.490833</td>\n",
       "      <td>2</td>\n",
       "      <td>5</td>\n",
       "      <td>4</td>\n",
       "      <td>1.0</td>\n",
       "      <td>...</td>\n",
       "      <td>409.951812</td>\n",
       "      <td>Standard</td>\n",
       "      <td>False</td>\n",
       "      <td>False</td>\n",
       "      <td>False</td>\n",
       "      <td>False</td>\n",
       "      <td>False</td>\n",
       "      <td>False</td>\n",
       "      <td>False</td>\n",
       "      <td>False</td>\n",
       "    </tr>\n",
       "    <tr>\n",
       "      <th>26</th>\n",
       "      <td>CUS_0xb891</td>\n",
       "      <td>March</td>\n",
       "      <td>55.0</td>\n",
       "      <td>Entrepreneur</td>\n",
       "      <td>30689.89</td>\n",
       "      <td>2612.490833</td>\n",
       "      <td>2</td>\n",
       "      <td>5</td>\n",
       "      <td>4</td>\n",
       "      <td>1.0</td>\n",
       "      <td>...</td>\n",
       "      <td>411.427123</td>\n",
       "      <td>Standard</td>\n",
       "      <td>False</td>\n",
       "      <td>False</td>\n",
       "      <td>False</td>\n",
       "      <td>False</td>\n",
       "      <td>False</td>\n",
       "      <td>False</td>\n",
       "      <td>False</td>\n",
       "      <td>False</td>\n",
       "    </tr>\n",
       "    <tr>\n",
       "      <th>27</th>\n",
       "      <td>CUS_0xb891</td>\n",
       "      <td>April</td>\n",
       "      <td>55.0</td>\n",
       "      <td>Entrepreneur</td>\n",
       "      <td>30689.89</td>\n",
       "      <td>2612.490833</td>\n",
       "      <td>2</td>\n",
       "      <td>5</td>\n",
       "      <td>4</td>\n",
       "      <td>1.0</td>\n",
       "      <td>...</td>\n",
       "      <td>262.499594</td>\n",
       "      <td>Standard</td>\n",
       "      <td>False</td>\n",
       "      <td>False</td>\n",
       "      <td>False</td>\n",
       "      <td>False</td>\n",
       "      <td>False</td>\n",
       "      <td>False</td>\n",
       "      <td>False</td>\n",
       "      <td>False</td>\n",
       "    </tr>\n",
       "    <tr>\n",
       "      <th>28</th>\n",
       "      <td>CUS_0xb891</td>\n",
       "      <td>May</td>\n",
       "      <td>55.0</td>\n",
       "      <td>Entrepreneur</td>\n",
       "      <td>30689.89</td>\n",
       "      <td>2612.490833</td>\n",
       "      <td>2</td>\n",
       "      <td>5</td>\n",
       "      <td>4</td>\n",
       "      <td>1.0</td>\n",
       "      <td>...</td>\n",
       "      <td>359.374916</td>\n",
       "      <td>Standard</td>\n",
       "      <td>False</td>\n",
       "      <td>False</td>\n",
       "      <td>False</td>\n",
       "      <td>False</td>\n",
       "      <td>False</td>\n",
       "      <td>False</td>\n",
       "      <td>False</td>\n",
       "      <td>False</td>\n",
       "    </tr>\n",
       "    <tr>\n",
       "      <th>29</th>\n",
       "      <td>CUS_0xb891</td>\n",
       "      <td>June</td>\n",
       "      <td>55.0</td>\n",
       "      <td>Entrepreneur</td>\n",
       "      <td>30689.89</td>\n",
       "      <td>2612.490833</td>\n",
       "      <td>2</td>\n",
       "      <td>5</td>\n",
       "      <td>4</td>\n",
       "      <td>1.0</td>\n",
       "      <td>...</td>\n",
       "      <td>419.880784</td>\n",
       "      <td>Standard</td>\n",
       "      <td>False</td>\n",
       "      <td>False</td>\n",
       "      <td>False</td>\n",
       "      <td>False</td>\n",
       "      <td>False</td>\n",
       "      <td>False</td>\n",
       "      <td>False</td>\n",
       "      <td>False</td>\n",
       "    </tr>\n",
       "    <tr>\n",
       "      <th>30</th>\n",
       "      <td>CUS_0xb891</td>\n",
       "      <td>July</td>\n",
       "      <td>55.0</td>\n",
       "      <td>Entrepreneur</td>\n",
       "      <td>30689.89</td>\n",
       "      <td>2612.490833</td>\n",
       "      <td>2</td>\n",
       "      <td>5</td>\n",
       "      <td>4</td>\n",
       "      <td>1.0</td>\n",
       "      <td>...</td>\n",
       "      <td>443.549957</td>\n",
       "      <td>Standard</td>\n",
       "      <td>False</td>\n",
       "      <td>False</td>\n",
       "      <td>False</td>\n",
       "      <td>False</td>\n",
       "      <td>False</td>\n",
       "      <td>False</td>\n",
       "      <td>False</td>\n",
       "      <td>False</td>\n",
       "    </tr>\n",
       "    <tr>\n",
       "      <th>31</th>\n",
       "      <td>CUS_0xb891</td>\n",
       "      <td>August</td>\n",
       "      <td>55.0</td>\n",
       "      <td>Entrepreneur</td>\n",
       "      <td>30689.89</td>\n",
       "      <td>2612.490833</td>\n",
       "      <td>2</td>\n",
       "      <td>5</td>\n",
       "      <td>4</td>\n",
       "      <td>-100.0</td>\n",
       "      <td>...</td>\n",
       "      <td>379.216381</td>\n",
       "      <td>Standard</td>\n",
       "      <td>False</td>\n",
       "      <td>False</td>\n",
       "      <td>False</td>\n",
       "      <td>False</td>\n",
       "      <td>False</td>\n",
       "      <td>False</td>\n",
       "      <td>False</td>\n",
       "      <td>False</td>\n",
       "    </tr>\n",
       "  </tbody>\n",
       "</table>\n",
       "<p>8 rows × 32 columns</p>\n",
       "</div>"
      ],
      "text/plain": [
       "   Customer_ID     Month   Age    Occupation  Annual_Income  \\\n",
       "24  CUS_0xb891   January  54.0  Entrepreneur       30689.89   \n",
       "25  CUS_0xb891  February  54.0  Entrepreneur       30689.89   \n",
       "26  CUS_0xb891     March  55.0  Entrepreneur       30689.89   \n",
       "27  CUS_0xb891     April  55.0  Entrepreneur       30689.89   \n",
       "28  CUS_0xb891       May  55.0  Entrepreneur       30689.89   \n",
       "29  CUS_0xb891      June  55.0  Entrepreneur       30689.89   \n",
       "30  CUS_0xb891      July  55.0  Entrepreneur       30689.89   \n",
       "31  CUS_0xb891    August  55.0  Entrepreneur       30689.89   \n",
       "\n",
       "    Monthly_Inhand_Salary  Num_Bank_Accounts  Num_Credit_Card  Interest_Rate  \\\n",
       "24            2612.490833                  2                5              4   \n",
       "25            2612.490833                  2                5              4   \n",
       "26            2612.490833                  2                5              4   \n",
       "27            2612.490833                  2                5              4   \n",
       "28            2612.490833                  2                5              4   \n",
       "29            2612.490833                  2                5              4   \n",
       "30            2612.490833                  2                5              4   \n",
       "31            2612.490833                  2                5              4   \n",
       "\n",
       "    Num_of_Loan  ...  Monthly_Balance  Credit_Score  Credit-Builder Loan  \\\n",
       "24          1.0  ...       433.604773      Standard                False   \n",
       "25          1.0  ...       409.951812      Standard                False   \n",
       "26          1.0  ...       411.427123      Standard                False   \n",
       "27          1.0  ...       262.499594      Standard                False   \n",
       "28          1.0  ...       359.374916      Standard                False   \n",
       "29          1.0  ...       419.880784      Standard                False   \n",
       "30          1.0  ...       443.549957      Standard                False   \n",
       "31       -100.0  ...       379.216381      Standard                False   \n",
       "\n",
       "    Personal Loan Debt Consolidation Loan  Student Loan  Payday Loan  \\\n",
       "24          False                   False         False        False   \n",
       "25          False                   False         False        False   \n",
       "26          False                   False         False        False   \n",
       "27          False                   False         False        False   \n",
       "28          False                   False         False        False   \n",
       "29          False                   False         False        False   \n",
       "30          False                   False         False        False   \n",
       "31          False                   False         False        False   \n",
       "\n",
       "    Mortgage Loan Auto Loan  Home Equity Loan  \n",
       "24          False     False             False  \n",
       "25          False     False             False  \n",
       "26          False     False             False  \n",
       "27          False     False             False  \n",
       "28          False     False             False  \n",
       "29          False     False             False  \n",
       "30          False     False             False  \n",
       "31          False     False             False  \n",
       "\n",
       "[8 rows x 32 columns]"
      ]
     },
     "execution_count": 335,
     "metadata": {},
     "output_type": "execute_result"
    }
   ],
   "source": [
    "# for the specified customer, identify the most common occupation in their records\n",
    "# replace missing values of \"_______\" with the most common occupation for that customer\n",
    "id_ = \"CUS_0xb891\"\n",
    "oc = df[df['Customer_ID'] == id_]['Occupation'].mode()[0]\n",
    "df[df['Customer_ID'] == id_].replace(\"_______\",oc)"
   ]
  },
  {
   "cell_type": "code",
   "execution_count": 336,
   "id": "df53364e",
   "metadata": {},
   "outputs": [],
   "source": [
    "for _id_ in df[df['Occupation'] == \"_______\"]['Customer_ID'] : \n",
    "    oc = df[df['Customer_ID'] == _id_]['Occupation'].mode()[0]\n",
    "    df[df['Customer_ID'] == _id_] = df[df['Customer_ID'] == _id_].replace(\"_______\",oc)"
   ]
  },
  {
   "cell_type": "code",
   "execution_count": 337,
   "id": "bfdec341",
   "metadata": {},
   "outputs": [
    {
     "data": {
      "text/plain": [
       "Occupation\n",
       "Lawyer           7096\n",
       "Engineer         6864\n",
       "Architect        6824\n",
       "Mechanic         6776\n",
       "Scientist        6744\n",
       "Accountant       6744\n",
       "Developer        6720\n",
       "Media_Manager    6715\n",
       "Teacher          6672\n",
       "Entrepreneur     6648\n",
       "Doctor           6568\n",
       "Journalist       6536\n",
       "Manager          6432\n",
       "Musician         6352\n",
       "Writer           6304\n",
       "_______             5\n",
       "Name: count, dtype: int64"
      ]
     },
     "execution_count": 337,
     "metadata": {},
     "output_type": "execute_result"
    }
   ],
   "source": [
    "df['Occupation'].value_counts()"
   ]
  },
  {
   "cell_type": "code",
   "execution_count": 338,
   "id": "35d559cd",
   "metadata": {},
   "outputs": [],
   "source": [
    "df['Occupation'] = df['Occupation'].replace(\"_______\",df['Occupation'].mode()[0])"
   ]
  },
  {
   "cell_type": "code",
   "execution_count": 339,
   "id": "51fb0b76",
   "metadata": {},
   "outputs": [
    {
     "data": {
      "text/plain": [
       "Occupation\n",
       "Lawyer           7101\n",
       "Engineer         6864\n",
       "Architect        6824\n",
       "Mechanic         6776\n",
       "Scientist        6744\n",
       "Accountant       6744\n",
       "Developer        6720\n",
       "Media_Manager    6715\n",
       "Teacher          6672\n",
       "Entrepreneur     6648\n",
       "Doctor           6568\n",
       "Journalist       6536\n",
       "Manager          6432\n",
       "Musician         6352\n",
       "Writer           6304\n",
       "Name: count, dtype: int64"
      ]
     },
     "execution_count": 339,
     "metadata": {},
     "output_type": "execute_result"
    }
   ],
   "source": [
    "df['Occupation'].value_counts()"
   ]
  },
  {
   "cell_type": "code",
   "execution_count": 340,
   "id": "8fcf2aca",
   "metadata": {},
   "outputs": [
    {
     "data": {
      "text/plain": [
       "Credit_Mix\n",
       "Standard    36479\n",
       "Good        24337\n",
       "_           20195\n",
       "Bad         18989\n",
       "Name: count, dtype: int64"
      ]
     },
     "execution_count": 340,
     "metadata": {},
     "output_type": "execute_result"
    }
   ],
   "source": [
    "df['Credit_Mix'].value_counts()"
   ]
  },
  {
   "cell_type": "code",
   "execution_count": 341,
   "id": "fff4063c",
   "metadata": {},
   "outputs": [],
   "source": [
    "m = {\n",
    "    \"Bad\":0,\n",
    "    \"Standard\":1,\n",
    "    \"Good\":2,\n",
    "    \"_\":np.nan\n",
    "}"
   ]
  },
  {
   "cell_type": "code",
   "execution_count": 342,
   "id": "65d4e8c9",
   "metadata": {},
   "outputs": [],
   "source": [
    "df['Credit_Mix'] = df['Credit_Mix'].map(m)"
   ]
  },
  {
   "cell_type": "code",
   "execution_count": 343,
   "id": "e86cdfe1-7507-449d-b0f0-e6980fbf4dd5",
   "metadata": {},
   "outputs": [
    {
     "data": {
      "text/plain": [
       "Credit_Mix\n",
       "1.0    36479\n",
       "2.0    24337\n",
       "0.0    18989\n",
       "Name: count, dtype: int64"
      ]
     },
     "execution_count": 343,
     "metadata": {},
     "output_type": "execute_result"
    }
   ],
   "source": [
    "df['Credit_Mix'].value_counts()"
   ]
  },
  {
   "cell_type": "markdown",
   "id": "8caac664",
   "metadata": {},
   "source": [
    "### Advanced Handling Missing Data "
   ]
  },
  {
   "cell_type": "code",
   "execution_count": 344,
   "id": "213c547b",
   "metadata": {},
   "outputs": [],
   "source": [
    "# edit Columns from bool to int \n",
    "for col in list(df.columns[-8:]):\n",
    "    df[col] = df[col].astype(float)"
   ]
  },
  {
   "cell_type": "code",
   "execution_count": 345,
   "id": "a83ff04c",
   "metadata": {},
   "outputs": [],
   "source": [
    "IDs = 1 \n",
    "for ID in df['Customer_ID'].unique() :\n",
    "    df['Customer_ID'] = df['Customer_ID'].replace(ID,IDs)\n",
    "    IDs += 1 "
   ]
  },
  {
   "cell_type": "code",
   "execution_count": 346,
   "id": "a98f8c74",
   "metadata": {},
   "outputs": [],
   "source": [
    "from sklearn.impute import KNNImputer\n",
    "imputer = KNNImputer(n_neighbors=1)"
   ]
  },
  {
   "cell_type": "code",
   "execution_count": 347,
   "id": "a9e22638",
   "metadata": {},
   "outputs": [
    {
     "data": {
      "text/plain": [
       "Index(['Age', 'Annual_Income', 'Monthly_Inhand_Salary', 'Num_Bank_Accounts',\n",
       "       'Num_Credit_Card', 'Interest_Rate', 'Num_of_Loan',\n",
       "       'Delay_from_due_date', 'Num_of_Delayed_Payment', 'Changed_Credit_Limit',\n",
       "       'Num_Credit_Inquiries', 'Credit_Mix', 'Outstanding_Debt',\n",
       "       'Credit_Utilization_Ratio', 'Credit_History_Age', 'Total_EMI_per_month',\n",
       "       'Amount_invested_monthly', 'Monthly_Balance', 'Credit-Builder Loan',\n",
       "       'Personal Loan', 'Debt Consolidation Loan', 'Student Loan',\n",
       "       'Payday Loan', 'Mortgage Loan', 'Auto Loan', 'Home Equity Loan'],\n",
       "      dtype='object')"
      ]
     },
     "execution_count": 347,
     "metadata": {},
     "output_type": "execute_result"
    }
   ],
   "source": [
    "Numericals = df.select_dtypes(exclude='object').columns[1:]\n",
    "Numericals"
   ]
  },
  {
   "cell_type": "code",
   "execution_count": 348,
   "id": "d00d45dc-5adc-49af-9446-421bc64989b6",
   "metadata": {},
   "outputs": [],
   "source": [
    "# Replace infinity values with NaN\n",
    "df.replace([np.inf, -np.inf], np.nan, inplace=True)\n",
    "\n",
    "# Check for NaN values and handle them (e.g., by replacing them with the mean of the column)\n",
    "for col in Numericals:\n",
    "    if df[col].isnull().any():\n",
    "        df[col].fillna(df[col].mean(), inplace=True)"
   ]
  },
  {
   "cell_type": "code",
   "execution_count": 349,
   "id": "b05ef0dd-79ea-4d6a-bea5-756219c1f4c4",
   "metadata": {},
   "outputs": [],
   "source": [
    "from sklearn.impute import SimpleImputer\n",
    "\n",
    "# Initialize the imputer\n",
    "imputer = SimpleImputer(strategy='mean')\n",
    "\n",
    "# Apply the imputer to each numerical column\n",
    "for col in Numericals:\n",
    "    df[[col]] = imputer.fit_transform(df[[col]])\n"
   ]
  },
  {
   "cell_type": "code",
   "execution_count": 350,
   "id": "84d23fc2",
   "metadata": {},
   "outputs": [],
   "source": [
    "for col in Numericals[1:]:\n",
    "    imputer.fit(df[['Customer_ID',col]])\n",
    "    df[['Customer_ID',col]] = imputer.transform(df[['Customer_ID',col]])"
   ]
  },
  {
   "cell_type": "code",
   "execution_count": 351,
   "id": "c95ba1ce",
   "metadata": {},
   "outputs": [
    {
     "name": "stdout",
     "output_type": "stream",
     "text": [
      "<class 'pandas.core.frame.DataFrame'>\n",
      "RangeIndex: 100000 entries, 0 to 99999\n",
      "Data columns (total 32 columns):\n",
      " #   Column                    Non-Null Count   Dtype  \n",
      "---  ------                    --------------   -----  \n",
      " 0   Customer_ID               100000 non-null  float64\n",
      " 1   Month                     100000 non-null  object \n",
      " 2   Age                       100000 non-null  float64\n",
      " 3   Occupation                100000 non-null  object \n",
      " 4   Annual_Income             100000 non-null  float64\n",
      " 5   Monthly_Inhand_Salary     100000 non-null  float64\n",
      " 6   Num_Bank_Accounts         100000 non-null  float64\n",
      " 7   Num_Credit_Card           100000 non-null  float64\n",
      " 8   Interest_Rate             100000 non-null  float64\n",
      " 9   Num_of_Loan               100000 non-null  float64\n",
      " 10  Delay_from_due_date       100000 non-null  float64\n",
      " 11  Num_of_Delayed_Payment    100000 non-null  float64\n",
      " 12  Changed_Credit_Limit      100000 non-null  float64\n",
      " 13  Num_Credit_Inquiries      100000 non-null  float64\n",
      " 14  Credit_Mix                100000 non-null  float64\n",
      " 15  Outstanding_Debt          100000 non-null  float64\n",
      " 16  Credit_Utilization_Ratio  100000 non-null  float64\n",
      " 17  Credit_History_Age        100000 non-null  float64\n",
      " 18  Payment_of_Min_Amount     100000 non-null  object \n",
      " 19  Total_EMI_per_month       100000 non-null  float64\n",
      " 20  Amount_invested_monthly   100000 non-null  float64\n",
      " 21  Payment_Behaviour         92400 non-null   object \n",
      " 22  Monthly_Balance           100000 non-null  float64\n",
      " 23  Credit_Score              100000 non-null  object \n",
      " 24  Credit-Builder Loan       100000 non-null  float64\n",
      " 25  Personal Loan             100000 non-null  float64\n",
      " 26  Debt Consolidation Loan   100000 non-null  float64\n",
      " 27  Student Loan              100000 non-null  float64\n",
      " 28  Payday Loan               100000 non-null  float64\n",
      " 29  Mortgage Loan             100000 non-null  float64\n",
      " 30  Auto Loan                 100000 non-null  float64\n",
      " 31  Home Equity Loan          100000 non-null  float64\n",
      "dtypes: float64(27), object(5)\n",
      "memory usage: 24.4+ MB\n"
     ]
    }
   ],
   "source": [
    "df.info()"
   ]
  },
  {
   "cell_type": "code",
   "execution_count": 352,
   "id": "a934cfa4",
   "metadata": {},
   "outputs": [],
   "source": [
    "imputer = SimpleImputer(strategy=\"most_frequent\")\n",
    "imputer.fit(df[['Payment_Behaviour']])\n",
    "df[['Payment_Behaviour']] = imputer.transform(df[['Payment_Behaviour']])"
   ]
  },
  {
   "cell_type": "markdown",
   "id": "e121dfd6",
   "metadata": {},
   "source": [
    "### Handling Outliers "
   ]
  },
  {
   "cell_type": "code",
   "execution_count": 353,
   "id": "85ad3c11",
   "metadata": {},
   "outputs": [],
   "source": [
    "## replace Outliers with median \n",
    "for col in Numericals :\n",
    "    outliers_indecies = detect_outliers(df,0,[col])\n",
    "    median = df[col].median()\n",
    "    df[col].iloc[outliers_indecies] = median"
   ]
  },
  {
   "cell_type": "code",
   "execution_count": 354,
   "id": "b04147e0-dd59-4dee-8b9a-2c5933aa7e58",
   "metadata": {},
   "outputs": [],
   "source": [
    "df.to_csv(\"processed.csv\")"
   ]
  },
  {
   "cell_type": "markdown",
   "id": "669ffc9e",
   "metadata": {},
   "source": [
    "# Data Preprocessing"
   ]
  },
  {
   "cell_type": "markdown",
   "id": "3be613a9",
   "metadata": {},
   "source": [
    "### Handling Catogerical "
   ]
  },
  {
   "cell_type": "code",
   "execution_count": 355,
   "id": "63f3dc66",
   "metadata": {},
   "outputs": [
    {
     "data": {
      "text/html": [
       "<div>\n",
       "<style scoped>\n",
       "    .dataframe tbody tr th:only-of-type {\n",
       "        vertical-align: middle;\n",
       "    }\n",
       "\n",
       "    .dataframe tbody tr th {\n",
       "        vertical-align: top;\n",
       "    }\n",
       "\n",
       "    .dataframe thead th {\n",
       "        text-align: right;\n",
       "    }\n",
       "</style>\n",
       "<table border=\"1\" class=\"dataframe\">\n",
       "  <thead>\n",
       "    <tr style=\"text-align: right;\">\n",
       "      <th></th>\n",
       "      <th>Month</th>\n",
       "      <th>Occupation</th>\n",
       "      <th>Payment_of_Min_Amount</th>\n",
       "      <th>Payment_Behaviour</th>\n",
       "      <th>Credit_Score</th>\n",
       "    </tr>\n",
       "  </thead>\n",
       "  <tbody>\n",
       "    <tr>\n",
       "      <th>0</th>\n",
       "      <td>January</td>\n",
       "      <td>Scientist</td>\n",
       "      <td>No</td>\n",
       "      <td>High_spent_Small_value_payments</td>\n",
       "      <td>Good</td>\n",
       "    </tr>\n",
       "    <tr>\n",
       "      <th>1</th>\n",
       "      <td>February</td>\n",
       "      <td>Scientist</td>\n",
       "      <td>No</td>\n",
       "      <td>Low_spent_Large_value_payments</td>\n",
       "      <td>Good</td>\n",
       "    </tr>\n",
       "    <tr>\n",
       "      <th>2</th>\n",
       "      <td>March</td>\n",
       "      <td>Scientist</td>\n",
       "      <td>No</td>\n",
       "      <td>Low_spent_Medium_value_payments</td>\n",
       "      <td>Good</td>\n",
       "    </tr>\n",
       "    <tr>\n",
       "      <th>3</th>\n",
       "      <td>April</td>\n",
       "      <td>Scientist</td>\n",
       "      <td>No</td>\n",
       "      <td>Low_spent_Small_value_payments</td>\n",
       "      <td>Good</td>\n",
       "    </tr>\n",
       "    <tr>\n",
       "      <th>4</th>\n",
       "      <td>May</td>\n",
       "      <td>Scientist</td>\n",
       "      <td>No</td>\n",
       "      <td>High_spent_Medium_value_payments</td>\n",
       "      <td>Good</td>\n",
       "    </tr>\n",
       "    <tr>\n",
       "      <th>...</th>\n",
       "      <td>...</td>\n",
       "      <td>...</td>\n",
       "      <td>...</td>\n",
       "      <td>...</td>\n",
       "      <td>...</td>\n",
       "    </tr>\n",
       "    <tr>\n",
       "      <th>99995</th>\n",
       "      <td>April</td>\n",
       "      <td>Mechanic</td>\n",
       "      <td>No</td>\n",
       "      <td>High_spent_Large_value_payments</td>\n",
       "      <td>Poor</td>\n",
       "    </tr>\n",
       "    <tr>\n",
       "      <th>99996</th>\n",
       "      <td>May</td>\n",
       "      <td>Mechanic</td>\n",
       "      <td>No</td>\n",
       "      <td>High_spent_Medium_value_payments</td>\n",
       "      <td>Poor</td>\n",
       "    </tr>\n",
       "    <tr>\n",
       "      <th>99997</th>\n",
       "      <td>June</td>\n",
       "      <td>Mechanic</td>\n",
       "      <td>No</td>\n",
       "      <td>High_spent_Large_value_payments</td>\n",
       "      <td>Poor</td>\n",
       "    </tr>\n",
       "    <tr>\n",
       "      <th>99998</th>\n",
       "      <td>July</td>\n",
       "      <td>Mechanic</td>\n",
       "      <td>No</td>\n",
       "      <td>Low_spent_Large_value_payments</td>\n",
       "      <td>Standard</td>\n",
       "    </tr>\n",
       "    <tr>\n",
       "      <th>99999</th>\n",
       "      <td>August</td>\n",
       "      <td>Mechanic</td>\n",
       "      <td>No</td>\n",
       "      <td>Low_spent_Small_value_payments</td>\n",
       "      <td>Poor</td>\n",
       "    </tr>\n",
       "  </tbody>\n",
       "</table>\n",
       "<p>100000 rows × 5 columns</p>\n",
       "</div>"
      ],
      "text/plain": [
       "          Month Occupation Payment_of_Min_Amount  \\\n",
       "0       January  Scientist                    No   \n",
       "1      February  Scientist                    No   \n",
       "2         March  Scientist                    No   \n",
       "3         April  Scientist                    No   \n",
       "4           May  Scientist                    No   \n",
       "...         ...        ...                   ...   \n",
       "99995     April   Mechanic                    No   \n",
       "99996       May   Mechanic                    No   \n",
       "99997      June   Mechanic                    No   \n",
       "99998      July   Mechanic                    No   \n",
       "99999    August   Mechanic                    No   \n",
       "\n",
       "                      Payment_Behaviour Credit_Score  \n",
       "0       High_spent_Small_value_payments         Good  \n",
       "1        Low_spent_Large_value_payments         Good  \n",
       "2       Low_spent_Medium_value_payments         Good  \n",
       "3        Low_spent_Small_value_payments         Good  \n",
       "4      High_spent_Medium_value_payments         Good  \n",
       "...                                 ...          ...  \n",
       "99995   High_spent_Large_value_payments         Poor  \n",
       "99996  High_spent_Medium_value_payments         Poor  \n",
       "99997   High_spent_Large_value_payments         Poor  \n",
       "99998    Low_spent_Large_value_payments     Standard  \n",
       "99999    Low_spent_Small_value_payments         Poor  \n",
       "\n",
       "[100000 rows x 5 columns]"
      ]
     },
     "execution_count": 355,
     "metadata": {},
     "output_type": "execute_result"
    }
   ],
   "source": [
    "df.select_dtypes(include=\"object\")"
   ]
  },
  {
   "cell_type": "code",
   "execution_count": 356,
   "id": "538dd6d6",
   "metadata": {},
   "outputs": [
    {
     "data": {
      "text/plain": [
       "Credit_Score\n",
       "Standard    53174\n",
       "Poor        28998\n",
       "Good        17828\n",
       "Name: count, dtype: int64"
      ]
     },
     "execution_count": 356,
     "metadata": {},
     "output_type": "execute_result"
    }
   ],
   "source": [
    "df['Credit_Score'].value_counts()"
   ]
  },
  {
   "cell_type": "code",
   "execution_count": 357,
   "id": "d9e7b039",
   "metadata": {},
   "outputs": [],
   "source": [
    "m = {\n",
    "    \"Poor\":0,\n",
    "    \"Standard\":1,\n",
    "    \"Good\":2\n",
    "}"
   ]
  },
  {
   "cell_type": "code",
   "execution_count": 358,
   "id": "68182849",
   "metadata": {},
   "outputs": [],
   "source": [
    "df['Credit_Score'] = df['Credit_Score'].map(m)"
   ]
  },
  {
   "cell_type": "code",
   "execution_count": 359,
   "id": "6fda0a45-019e-45d3-b784-437e43718211",
   "metadata": {},
   "outputs": [
    {
     "data": {
      "text/plain": [
       "Credit_Score\n",
       "1    53174\n",
       "0    28998\n",
       "2    17828\n",
       "Name: count, dtype: int64"
      ]
     },
     "execution_count": 359,
     "metadata": {},
     "output_type": "execute_result"
    }
   ],
   "source": [
    "df['Credit_Score'].value_counts()"
   ]
  },
  {
   "cell_type": "code",
   "execution_count": 360,
   "id": "5ba979f5",
   "metadata": {},
   "outputs": [],
   "source": [
    "del df['Customer_ID']"
   ]
  },
  {
   "cell_type": "code",
   "execution_count": 361,
   "id": "325974eb",
   "metadata": {},
   "outputs": [],
   "source": [
    "df = pd.get_dummies(df,drop_first=True)"
   ]
  },
  {
   "cell_type": "code",
   "execution_count": 362,
   "id": "2fad66f1",
   "metadata": {},
   "outputs": [
    {
     "name": "stdout",
     "output_type": "stream",
     "text": [
      "<class 'pandas.core.frame.DataFrame'>\n",
      "RangeIndex: 100000 entries, 0 to 99999\n",
      "Data columns (total 54 columns):\n",
      " #   Column                                              Non-Null Count   Dtype  \n",
      "---  ------                                              --------------   -----  \n",
      " 0   Age                                                 100000 non-null  float64\n",
      " 1   Annual_Income                                       100000 non-null  float64\n",
      " 2   Monthly_Inhand_Salary                               100000 non-null  float64\n",
      " 3   Num_Bank_Accounts                                   100000 non-null  float64\n",
      " 4   Num_Credit_Card                                     100000 non-null  float64\n",
      " 5   Interest_Rate                                       100000 non-null  float64\n",
      " 6   Num_of_Loan                                         100000 non-null  float64\n",
      " 7   Delay_from_due_date                                 100000 non-null  float64\n",
      " 8   Num_of_Delayed_Payment                              100000 non-null  float64\n",
      " 9   Changed_Credit_Limit                                100000 non-null  float64\n",
      " 10  Num_Credit_Inquiries                                100000 non-null  float64\n",
      " 11  Credit_Mix                                          100000 non-null  float64\n",
      " 12  Outstanding_Debt                                    100000 non-null  float64\n",
      " 13  Credit_Utilization_Ratio                            100000 non-null  float64\n",
      " 14  Credit_History_Age                                  100000 non-null  float64\n",
      " 15  Total_EMI_per_month                                 100000 non-null  float64\n",
      " 16  Amount_invested_monthly                             100000 non-null  float64\n",
      " 17  Monthly_Balance                                     100000 non-null  float64\n",
      " 18  Credit_Score                                        100000 non-null  int64  \n",
      " 19  Credit-Builder Loan                                 100000 non-null  float64\n",
      " 20  Personal Loan                                       100000 non-null  float64\n",
      " 21  Debt Consolidation Loan                             100000 non-null  float64\n",
      " 22  Student Loan                                        100000 non-null  float64\n",
      " 23  Payday Loan                                         100000 non-null  float64\n",
      " 24  Mortgage Loan                                       100000 non-null  float64\n",
      " 25  Auto Loan                                           100000 non-null  float64\n",
      " 26  Home Equity Loan                                    100000 non-null  float64\n",
      " 27  Month_August                                        100000 non-null  bool   \n",
      " 28  Month_February                                      100000 non-null  bool   \n",
      " 29  Month_January                                       100000 non-null  bool   \n",
      " 30  Month_July                                          100000 non-null  bool   \n",
      " 31  Month_June                                          100000 non-null  bool   \n",
      " 32  Month_March                                         100000 non-null  bool   \n",
      " 33  Month_May                                           100000 non-null  bool   \n",
      " 34  Occupation_Architect                                100000 non-null  bool   \n",
      " 35  Occupation_Developer                                100000 non-null  bool   \n",
      " 36  Occupation_Doctor                                   100000 non-null  bool   \n",
      " 37  Occupation_Engineer                                 100000 non-null  bool   \n",
      " 38  Occupation_Entrepreneur                             100000 non-null  bool   \n",
      " 39  Occupation_Journalist                               100000 non-null  bool   \n",
      " 40  Occupation_Lawyer                                   100000 non-null  bool   \n",
      " 41  Occupation_Manager                                  100000 non-null  bool   \n",
      " 42  Occupation_Mechanic                                 100000 non-null  bool   \n",
      " 43  Occupation_Media_Manager                            100000 non-null  bool   \n",
      " 44  Occupation_Musician                                 100000 non-null  bool   \n",
      " 45  Occupation_Scientist                                100000 non-null  bool   \n",
      " 46  Occupation_Teacher                                  100000 non-null  bool   \n",
      " 47  Occupation_Writer                                   100000 non-null  bool   \n",
      " 48  Payment_of_Min_Amount_Yes                           100000 non-null  bool   \n",
      " 49  Payment_Behaviour_High_spent_Medium_value_payments  100000 non-null  bool   \n",
      " 50  Payment_Behaviour_High_spent_Small_value_payments   100000 non-null  bool   \n",
      " 51  Payment_Behaviour_Low_spent_Large_value_payments    100000 non-null  bool   \n",
      " 52  Payment_Behaviour_Low_spent_Medium_value_payments   100000 non-null  bool   \n",
      " 53  Payment_Behaviour_Low_spent_Small_value_payments    100000 non-null  bool   \n",
      "dtypes: bool(27), float64(26), int64(1)\n",
      "memory usage: 23.2 MB\n"
     ]
    }
   ],
   "source": [
    "df.info()"
   ]
  },
  {
   "cell_type": "code",
   "execution_count": 363,
   "id": "52f5f666",
   "metadata": {},
   "outputs": [],
   "source": [
    "df.to_csv(\"final_processed_data.csv\")"
   ]
  },
  {
   "cell_type": "code",
   "execution_count": 364,
   "id": "14a21417",
   "metadata": {},
   "outputs": [],
   "source": [
    "# df = pd.read_csv(\"final_processed_data.csv\",low_memory=False)\n",
    "# df = df.iloc[:, 1:]"
   ]
  },
  {
   "cell_type": "code",
   "execution_count": 365,
   "id": "aa0e26b8-4c46-485c-8ce6-180c7989c92b",
   "metadata": {},
   "outputs": [
    {
     "data": {
      "text/plain": [
       "(100000, 54)"
      ]
     },
     "execution_count": 365,
     "metadata": {},
     "output_type": "execute_result"
    }
   ],
   "source": [
    "df.shape"
   ]
  },
  {
   "cell_type": "markdown",
   "id": "aeba4547",
   "metadata": {},
   "source": [
    "### Data Spliting \n",
    "- Try Resampling "
   ]
  },
  {
   "cell_type": "code",
   "execution_count": 366,
   "id": "607ea910",
   "metadata": {},
   "outputs": [],
   "source": [
    "# define dataset\n",
    "X, y = df.drop(\"Credit_Score\",axis=1).values , df[\"Credit_Score\"] "
   ]
  },
  {
   "cell_type": "code",
   "execution_count": 367,
   "id": "4f04fd89-6a0f-4b2c-8cd9-22cfc3b22c0e",
   "metadata": {},
   "outputs": [
    {
     "data": {
      "text/plain": [
       "((100000, 53), (100000,))"
      ]
     },
     "execution_count": 367,
     "metadata": {},
     "output_type": "execute_result"
    }
   ],
   "source": [
    "X_shape = X.shape\n",
    "y_shape = y.shape\n",
    "\n",
    "X_shape, y_shape"
   ]
  },
  {
   "cell_type": "markdown",
   "id": "fdcbea2b",
   "metadata": {},
   "source": [
    "## Apply oversampling\n",
    "- As our data is not fully balanced, we intend to use oversampling to balance it out as much as possible using SMOTE\n",
    "- SMOTE (Synthetic Minority Over-sampling Technique) is a popular method used to address class imbalance in datasets, particularly in the context of binary classification problems."
   ]
  },
  {
   "cell_type": "code",
   "execution_count": 368,
   "id": "5be77f7b",
   "metadata": {},
   "outputs": [
    {
     "data": {
      "text/plain": [
       "Credit_Score\n",
       "1    0.53174\n",
       "0    0.28998\n",
       "2    0.17828\n",
       "Name: proportion, dtype: float64"
      ]
     },
     "execution_count": 368,
     "metadata": {},
     "output_type": "execute_result"
    }
   ],
   "source": [
    "y.value_counts(normalize=True)"
   ]
  },
  {
   "cell_type": "code",
   "execution_count": 369,
   "id": "a59364da",
   "metadata": {},
   "outputs": [],
   "source": [
    "from imblearn.over_sampling import SMOTE\n",
    "rus = SMOTE(sampling_strategy='auto')\n",
    "X_data_rus, y_data_rus = rus.fit_resample(X, y)"
   ]
  },
  {
   "cell_type": "code",
   "execution_count": 370,
   "id": "66d64ea7",
   "metadata": {},
   "outputs": [
    {
     "data": {
      "text/plain": [
       "Credit_Score\n",
       "2    0.333333\n",
       "1    0.333333\n",
       "0    0.333333\n",
       "Name: proportion, dtype: float64"
      ]
     },
     "execution_count": 370,
     "metadata": {},
     "output_type": "execute_result"
    }
   ],
   "source": [
    "y_data_rus.value_counts(normalize=True)"
   ]
  },
  {
   "cell_type": "code",
   "execution_count": 371,
   "id": "228e4a17",
   "metadata": {},
   "outputs": [],
   "source": [
    "# split into train and test sets\n",
    "X_train, X_test, y_train, y_test = train_test_split(X_data_rus, y_data_rus, test_size=0.3, random_state=42,stratify=y_data_rus)"
   ]
  },
  {
   "cell_type": "markdown",
   "id": "e5210dba",
   "metadata": {},
   "source": [
    "### Handling Numerical \n",
    "- Using Power transformer to avoid Data Skewness\n",
    "- The PowerTransformer is a tool in scikit-learn used to apply power transformations to numerical data to stabilize variance and make the data more Gaussian-like (i.e., normally distributed)"
   ]
  },
  {
   "cell_type": "code",
   "execution_count": 372,
   "id": "83303eaa",
   "metadata": {},
   "outputs": [],
   "source": [
    "scalar = PowerTransformer(method='yeo-johnson', standardize=True).fit(X_train)"
   ]
  },
  {
   "cell_type": "code",
   "execution_count": 373,
   "id": "9cbfbb43",
   "metadata": {},
   "outputs": [],
   "source": [
    "X_train = scalar.transform(X_train)\n",
    "X_test = scalar.transform(X_test)"
   ]
  },
  {
   "cell_type": "code",
   "execution_count": 374,
   "id": "a7659422-1642-492e-aa28-322f697fddf4",
   "metadata": {},
   "outputs": [
    {
     "name": "stdout",
     "output_type": "stream",
     "text": [
      "Number of features used for fitting the scaler: 53\n"
     ]
    }
   ],
   "source": [
    "print(\"Number of features used for fitting the scaler:\", scalar.n_features_in_)\n"
   ]
  },
  {
   "cell_type": "markdown",
   "id": "39b1cf95",
   "metadata": {},
   "source": [
    "# Modeling and Evaluation\n"
   ]
  },
  {
   "cell_type": "markdown",
   "id": "85950f98",
   "metadata": {},
   "source": [
    "#### Model Building"
   ]
  },
  {
   "cell_type": "code",
   "execution_count": 375,
   "id": "399001fb",
   "metadata": {},
   "outputs": [],
   "source": [
    "bagging = BaggingClassifier(n_jobs=-1)\n",
    "extraTrees = ExtraTreesClassifier(max_depth=10, n_jobs=-1)\n",
    "randomForest = RandomForestClassifier(n_jobs=-1)\n",
    "histGradientBoosting = HistGradientBoostingClassifier()\n",
    "XGB = XGBClassifier(n_jobs=-1)\n",
    "\n",
    "model = StackingClassifier([\n",
    "    ('bagging', bagging),\n",
    "    ('extraTress', extraTrees),\n",
    "    ('randomforest', randomForest),\n",
    "    ('histGradientBoosting', histGradientBoosting),\n",
    "    ('XGB', XGB)\n",
    "], n_jobs=-1)"
   ]
  },
  {
   "cell_type": "markdown",
   "id": "9ab632cc",
   "metadata": {},
   "source": [
    "#### Model fitting"
   ]
  },
  {
   "cell_type": "code",
   "execution_count": 376,
   "id": "f6ef5ba4",
   "metadata": {},
   "outputs": [
    {
     "data": {
      "text/html": [
       "<style>#sk-container-id-4 {\n",
       "  /* Definition of color scheme common for light and dark mode */\n",
       "  --sklearn-color-text: black;\n",
       "  --sklearn-color-line: gray;\n",
       "  /* Definition of color scheme for unfitted estimators */\n",
       "  --sklearn-color-unfitted-level-0: #fff5e6;\n",
       "  --sklearn-color-unfitted-level-1: #f6e4d2;\n",
       "  --sklearn-color-unfitted-level-2: #ffe0b3;\n",
       "  --sklearn-color-unfitted-level-3: chocolate;\n",
       "  /* Definition of color scheme for fitted estimators */\n",
       "  --sklearn-color-fitted-level-0: #f0f8ff;\n",
       "  --sklearn-color-fitted-level-1: #d4ebff;\n",
       "  --sklearn-color-fitted-level-2: #b3dbfd;\n",
       "  --sklearn-color-fitted-level-3: cornflowerblue;\n",
       "\n",
       "  /* Specific color for light theme */\n",
       "  --sklearn-color-text-on-default-background: var(--sg-text-color, var(--theme-code-foreground, var(--jp-content-font-color1, black)));\n",
       "  --sklearn-color-background: var(--sg-background-color, var(--theme-background, var(--jp-layout-color0, white)));\n",
       "  --sklearn-color-border-box: var(--sg-text-color, var(--theme-code-foreground, var(--jp-content-font-color1, black)));\n",
       "  --sklearn-color-icon: #696969;\n",
       "\n",
       "  @media (prefers-color-scheme: dark) {\n",
       "    /* Redefinition of color scheme for dark theme */\n",
       "    --sklearn-color-text-on-default-background: var(--sg-text-color, var(--theme-code-foreground, var(--jp-content-font-color1, white)));\n",
       "    --sklearn-color-background: var(--sg-background-color, var(--theme-background, var(--jp-layout-color0, #111)));\n",
       "    --sklearn-color-border-box: var(--sg-text-color, var(--theme-code-foreground, var(--jp-content-font-color1, white)));\n",
       "    --sklearn-color-icon: #878787;\n",
       "  }\n",
       "}\n",
       "\n",
       "#sk-container-id-4 {\n",
       "  color: var(--sklearn-color-text);\n",
       "}\n",
       "\n",
       "#sk-container-id-4 pre {\n",
       "  padding: 0;\n",
       "}\n",
       "\n",
       "#sk-container-id-4 input.sk-hidden--visually {\n",
       "  border: 0;\n",
       "  clip: rect(1px 1px 1px 1px);\n",
       "  clip: rect(1px, 1px, 1px, 1px);\n",
       "  height: 1px;\n",
       "  margin: -1px;\n",
       "  overflow: hidden;\n",
       "  padding: 0;\n",
       "  position: absolute;\n",
       "  width: 1px;\n",
       "}\n",
       "\n",
       "#sk-container-id-4 div.sk-dashed-wrapped {\n",
       "  border: 1px dashed var(--sklearn-color-line);\n",
       "  margin: 0 0.4em 0.5em 0.4em;\n",
       "  box-sizing: border-box;\n",
       "  padding-bottom: 0.4em;\n",
       "  background-color: var(--sklearn-color-background);\n",
       "}\n",
       "\n",
       "#sk-container-id-4 div.sk-container {\n",
       "  /* jupyter's `normalize.less` sets `[hidden] { display: none; }`\n",
       "     but bootstrap.min.css set `[hidden] { display: none !important; }`\n",
       "     so we also need the `!important` here to be able to override the\n",
       "     default hidden behavior on the sphinx rendered scikit-learn.org.\n",
       "     See: https://github.com/scikit-learn/scikit-learn/issues/21755 */\n",
       "  display: inline-block !important;\n",
       "  position: relative;\n",
       "}\n",
       "\n",
       "#sk-container-id-4 div.sk-text-repr-fallback {\n",
       "  display: none;\n",
       "}\n",
       "\n",
       "div.sk-parallel-item,\n",
       "div.sk-serial,\n",
       "div.sk-item {\n",
       "  /* draw centered vertical line to link estimators */\n",
       "  background-image: linear-gradient(var(--sklearn-color-text-on-default-background), var(--sklearn-color-text-on-default-background));\n",
       "  background-size: 2px 100%;\n",
       "  background-repeat: no-repeat;\n",
       "  background-position: center center;\n",
       "}\n",
       "\n",
       "/* Parallel-specific style estimator block */\n",
       "\n",
       "#sk-container-id-4 div.sk-parallel-item::after {\n",
       "  content: \"\";\n",
       "  width: 100%;\n",
       "  border-bottom: 2px solid var(--sklearn-color-text-on-default-background);\n",
       "  flex-grow: 1;\n",
       "}\n",
       "\n",
       "#sk-container-id-4 div.sk-parallel {\n",
       "  display: flex;\n",
       "  align-items: stretch;\n",
       "  justify-content: center;\n",
       "  background-color: var(--sklearn-color-background);\n",
       "  position: relative;\n",
       "}\n",
       "\n",
       "#sk-container-id-4 div.sk-parallel-item {\n",
       "  display: flex;\n",
       "  flex-direction: column;\n",
       "}\n",
       "\n",
       "#sk-container-id-4 div.sk-parallel-item:first-child::after {\n",
       "  align-self: flex-end;\n",
       "  width: 50%;\n",
       "}\n",
       "\n",
       "#sk-container-id-4 div.sk-parallel-item:last-child::after {\n",
       "  align-self: flex-start;\n",
       "  width: 50%;\n",
       "}\n",
       "\n",
       "#sk-container-id-4 div.sk-parallel-item:only-child::after {\n",
       "  width: 0;\n",
       "}\n",
       "\n",
       "/* Serial-specific style estimator block */\n",
       "\n",
       "#sk-container-id-4 div.sk-serial {\n",
       "  display: flex;\n",
       "  flex-direction: column;\n",
       "  align-items: center;\n",
       "  background-color: var(--sklearn-color-background);\n",
       "  padding-right: 1em;\n",
       "  padding-left: 1em;\n",
       "}\n",
       "\n",
       "\n",
       "/* Toggleable style: style used for estimator/Pipeline/ColumnTransformer box that is\n",
       "clickable and can be expanded/collapsed.\n",
       "- Pipeline and ColumnTransformer use this feature and define the default style\n",
       "- Estimators will overwrite some part of the style using the `sk-estimator` class\n",
       "*/\n",
       "\n",
       "/* Pipeline and ColumnTransformer style (default) */\n",
       "\n",
       "#sk-container-id-4 div.sk-toggleable {\n",
       "  /* Default theme specific background. It is overwritten whether we have a\n",
       "  specific estimator or a Pipeline/ColumnTransformer */\n",
       "  background-color: var(--sklearn-color-background);\n",
       "}\n",
       "\n",
       "/* Toggleable label */\n",
       "#sk-container-id-4 label.sk-toggleable__label {\n",
       "  cursor: pointer;\n",
       "  display: block;\n",
       "  width: 100%;\n",
       "  margin-bottom: 0;\n",
       "  padding: 0.5em;\n",
       "  box-sizing: border-box;\n",
       "  text-align: center;\n",
       "}\n",
       "\n",
       "#sk-container-id-4 label.sk-toggleable__label-arrow:before {\n",
       "  /* Arrow on the left of the label */\n",
       "  content: \"▸\";\n",
       "  float: left;\n",
       "  margin-right: 0.25em;\n",
       "  color: var(--sklearn-color-icon);\n",
       "}\n",
       "\n",
       "#sk-container-id-4 label.sk-toggleable__label-arrow:hover:before {\n",
       "  color: var(--sklearn-color-text);\n",
       "}\n",
       "\n",
       "/* Toggleable content - dropdown */\n",
       "\n",
       "#sk-container-id-4 div.sk-toggleable__content {\n",
       "  max-height: 0;\n",
       "  max-width: 0;\n",
       "  overflow: hidden;\n",
       "  text-align: left;\n",
       "  /* unfitted */\n",
       "  background-color: var(--sklearn-color-unfitted-level-0);\n",
       "}\n",
       "\n",
       "#sk-container-id-4 div.sk-toggleable__content.fitted {\n",
       "  /* fitted */\n",
       "  background-color: var(--sklearn-color-fitted-level-0);\n",
       "}\n",
       "\n",
       "#sk-container-id-4 div.sk-toggleable__content pre {\n",
       "  margin: 0.2em;\n",
       "  border-radius: 0.25em;\n",
       "  color: var(--sklearn-color-text);\n",
       "  /* unfitted */\n",
       "  background-color: var(--sklearn-color-unfitted-level-0);\n",
       "}\n",
       "\n",
       "#sk-container-id-4 div.sk-toggleable__content.fitted pre {\n",
       "  /* unfitted */\n",
       "  background-color: var(--sklearn-color-fitted-level-0);\n",
       "}\n",
       "\n",
       "#sk-container-id-4 input.sk-toggleable__control:checked~div.sk-toggleable__content {\n",
       "  /* Expand drop-down */\n",
       "  max-height: 200px;\n",
       "  max-width: 100%;\n",
       "  overflow: auto;\n",
       "}\n",
       "\n",
       "#sk-container-id-4 input.sk-toggleable__control:checked~label.sk-toggleable__label-arrow:before {\n",
       "  content: \"▾\";\n",
       "}\n",
       "\n",
       "/* Pipeline/ColumnTransformer-specific style */\n",
       "\n",
       "#sk-container-id-4 div.sk-label input.sk-toggleable__control:checked~label.sk-toggleable__label {\n",
       "  color: var(--sklearn-color-text);\n",
       "  background-color: var(--sklearn-color-unfitted-level-2);\n",
       "}\n",
       "\n",
       "#sk-container-id-4 div.sk-label.fitted input.sk-toggleable__control:checked~label.sk-toggleable__label {\n",
       "  background-color: var(--sklearn-color-fitted-level-2);\n",
       "}\n",
       "\n",
       "/* Estimator-specific style */\n",
       "\n",
       "/* Colorize estimator box */\n",
       "#sk-container-id-4 div.sk-estimator input.sk-toggleable__control:checked~label.sk-toggleable__label {\n",
       "  /* unfitted */\n",
       "  background-color: var(--sklearn-color-unfitted-level-2);\n",
       "}\n",
       "\n",
       "#sk-container-id-4 div.sk-estimator.fitted input.sk-toggleable__control:checked~label.sk-toggleable__label {\n",
       "  /* fitted */\n",
       "  background-color: var(--sklearn-color-fitted-level-2);\n",
       "}\n",
       "\n",
       "#sk-container-id-4 div.sk-label label.sk-toggleable__label,\n",
       "#sk-container-id-4 div.sk-label label {\n",
       "  /* The background is the default theme color */\n",
       "  color: var(--sklearn-color-text-on-default-background);\n",
       "}\n",
       "\n",
       "/* On hover, darken the color of the background */\n",
       "#sk-container-id-4 div.sk-label:hover label.sk-toggleable__label {\n",
       "  color: var(--sklearn-color-text);\n",
       "  background-color: var(--sklearn-color-unfitted-level-2);\n",
       "}\n",
       "\n",
       "/* Label box, darken color on hover, fitted */\n",
       "#sk-container-id-4 div.sk-label.fitted:hover label.sk-toggleable__label.fitted {\n",
       "  color: var(--sklearn-color-text);\n",
       "  background-color: var(--sklearn-color-fitted-level-2);\n",
       "}\n",
       "\n",
       "/* Estimator label */\n",
       "\n",
       "#sk-container-id-4 div.sk-label label {\n",
       "  font-family: monospace;\n",
       "  font-weight: bold;\n",
       "  display: inline-block;\n",
       "  line-height: 1.2em;\n",
       "}\n",
       "\n",
       "#sk-container-id-4 div.sk-label-container {\n",
       "  text-align: center;\n",
       "}\n",
       "\n",
       "/* Estimator-specific */\n",
       "#sk-container-id-4 div.sk-estimator {\n",
       "  font-family: monospace;\n",
       "  border: 1px dotted var(--sklearn-color-border-box);\n",
       "  border-radius: 0.25em;\n",
       "  box-sizing: border-box;\n",
       "  margin-bottom: 0.5em;\n",
       "  /* unfitted */\n",
       "  background-color: var(--sklearn-color-unfitted-level-0);\n",
       "}\n",
       "\n",
       "#sk-container-id-4 div.sk-estimator.fitted {\n",
       "  /* fitted */\n",
       "  background-color: var(--sklearn-color-fitted-level-0);\n",
       "}\n",
       "\n",
       "/* on hover */\n",
       "#sk-container-id-4 div.sk-estimator:hover {\n",
       "  /* unfitted */\n",
       "  background-color: var(--sklearn-color-unfitted-level-2);\n",
       "}\n",
       "\n",
       "#sk-container-id-4 div.sk-estimator.fitted:hover {\n",
       "  /* fitted */\n",
       "  background-color: var(--sklearn-color-fitted-level-2);\n",
       "}\n",
       "\n",
       "/* Specification for estimator info (e.g. \"i\" and \"?\") */\n",
       "\n",
       "/* Common style for \"i\" and \"?\" */\n",
       "\n",
       ".sk-estimator-doc-link,\n",
       "a:link.sk-estimator-doc-link,\n",
       "a:visited.sk-estimator-doc-link {\n",
       "  float: right;\n",
       "  font-size: smaller;\n",
       "  line-height: 1em;\n",
       "  font-family: monospace;\n",
       "  background-color: var(--sklearn-color-background);\n",
       "  border-radius: 1em;\n",
       "  height: 1em;\n",
       "  width: 1em;\n",
       "  text-decoration: none !important;\n",
       "  margin-left: 1ex;\n",
       "  /* unfitted */\n",
       "  border: var(--sklearn-color-unfitted-level-1) 1pt solid;\n",
       "  color: var(--sklearn-color-unfitted-level-1);\n",
       "}\n",
       "\n",
       ".sk-estimator-doc-link.fitted,\n",
       "a:link.sk-estimator-doc-link.fitted,\n",
       "a:visited.sk-estimator-doc-link.fitted {\n",
       "  /* fitted */\n",
       "  border: var(--sklearn-color-fitted-level-1) 1pt solid;\n",
       "  color: var(--sklearn-color-fitted-level-1);\n",
       "}\n",
       "\n",
       "/* On hover */\n",
       "div.sk-estimator:hover .sk-estimator-doc-link:hover,\n",
       ".sk-estimator-doc-link:hover,\n",
       "div.sk-label-container:hover .sk-estimator-doc-link:hover,\n",
       ".sk-estimator-doc-link:hover {\n",
       "  /* unfitted */\n",
       "  background-color: var(--sklearn-color-unfitted-level-3);\n",
       "  color: var(--sklearn-color-background);\n",
       "  text-decoration: none;\n",
       "}\n",
       "\n",
       "div.sk-estimator.fitted:hover .sk-estimator-doc-link.fitted:hover,\n",
       ".sk-estimator-doc-link.fitted:hover,\n",
       "div.sk-label-container:hover .sk-estimator-doc-link.fitted:hover,\n",
       ".sk-estimator-doc-link.fitted:hover {\n",
       "  /* fitted */\n",
       "  background-color: var(--sklearn-color-fitted-level-3);\n",
       "  color: var(--sklearn-color-background);\n",
       "  text-decoration: none;\n",
       "}\n",
       "\n",
       "/* Span, style for the box shown on hovering the info icon */\n",
       ".sk-estimator-doc-link span {\n",
       "  display: none;\n",
       "  z-index: 9999;\n",
       "  position: relative;\n",
       "  font-weight: normal;\n",
       "  right: .2ex;\n",
       "  padding: .5ex;\n",
       "  margin: .5ex;\n",
       "  width: min-content;\n",
       "  min-width: 20ex;\n",
       "  max-width: 50ex;\n",
       "  color: var(--sklearn-color-text);\n",
       "  box-shadow: 2pt 2pt 4pt #999;\n",
       "  /* unfitted */\n",
       "  background: var(--sklearn-color-unfitted-level-0);\n",
       "  border: .5pt solid var(--sklearn-color-unfitted-level-3);\n",
       "}\n",
       "\n",
       ".sk-estimator-doc-link.fitted span {\n",
       "  /* fitted */\n",
       "  background: var(--sklearn-color-fitted-level-0);\n",
       "  border: var(--sklearn-color-fitted-level-3);\n",
       "}\n",
       "\n",
       ".sk-estimator-doc-link:hover span {\n",
       "  display: block;\n",
       "}\n",
       "\n",
       "/* \"?\"-specific style due to the `<a>` HTML tag */\n",
       "\n",
       "#sk-container-id-4 a.estimator_doc_link {\n",
       "  float: right;\n",
       "  font-size: 1rem;\n",
       "  line-height: 1em;\n",
       "  font-family: monospace;\n",
       "  background-color: var(--sklearn-color-background);\n",
       "  border-radius: 1rem;\n",
       "  height: 1rem;\n",
       "  width: 1rem;\n",
       "  text-decoration: none;\n",
       "  /* unfitted */\n",
       "  color: var(--sklearn-color-unfitted-level-1);\n",
       "  border: var(--sklearn-color-unfitted-level-1) 1pt solid;\n",
       "}\n",
       "\n",
       "#sk-container-id-4 a.estimator_doc_link.fitted {\n",
       "  /* fitted */\n",
       "  border: var(--sklearn-color-fitted-level-1) 1pt solid;\n",
       "  color: var(--sklearn-color-fitted-level-1);\n",
       "}\n",
       "\n",
       "/* On hover */\n",
       "#sk-container-id-4 a.estimator_doc_link:hover {\n",
       "  /* unfitted */\n",
       "  background-color: var(--sklearn-color-unfitted-level-3);\n",
       "  color: var(--sklearn-color-background);\n",
       "  text-decoration: none;\n",
       "}\n",
       "\n",
       "#sk-container-id-4 a.estimator_doc_link.fitted:hover {\n",
       "  /* fitted */\n",
       "  background-color: var(--sklearn-color-fitted-level-3);\n",
       "}\n",
       "</style><div id=\"sk-container-id-4\" class=\"sk-top-container\"><div class=\"sk-text-repr-fallback\"><pre>StackingClassifier(estimators=[(&#x27;bagging&#x27;, BaggingClassifier(n_jobs=-1)),\n",
       "                               (&#x27;extraTress&#x27;,\n",
       "                                ExtraTreesClassifier(max_depth=10, n_jobs=-1)),\n",
       "                               (&#x27;randomforest&#x27;,\n",
       "                                RandomForestClassifier(n_jobs=-1)),\n",
       "                               (&#x27;histGradientBoosting&#x27;,\n",
       "                                HistGradientBoostingClassifier()),\n",
       "                               (&#x27;XGB&#x27;,\n",
       "                                XGBClassifier(base_score=None, booster=None,\n",
       "                                              callbacks=None,\n",
       "                                              colsample_bylevel=None,\n",
       "                                              colsample_bynode=None...\n",
       "                                              grow_policy=None,\n",
       "                                              importance_type=None,\n",
       "                                              interaction_constraints=None,\n",
       "                                              learning_rate=None, max_bin=None,\n",
       "                                              max_cat_threshold=None,\n",
       "                                              max_cat_to_onehot=None,\n",
       "                                              max_delta_step=None,\n",
       "                                              max_depth=None, max_leaves=None,\n",
       "                                              min_child_weight=None,\n",
       "                                              missing=nan,\n",
       "                                              monotone_constraints=None,\n",
       "                                              multi_strategy=None,\n",
       "                                              n_estimators=None, n_jobs=-1,\n",
       "                                              num_parallel_tree=None,\n",
       "                                              random_state=None, ...))],\n",
       "                   n_jobs=-1)</pre><b>In a Jupyter environment, please rerun this cell to show the HTML representation or trust the notebook. <br />On GitHub, the HTML representation is unable to render, please try loading this page with nbviewer.org.</b></div><div class=\"sk-container\" hidden><div class=\"sk-item sk-dashed-wrapped\"><div class=\"sk-label-container\"><div class=\"sk-label fitted sk-toggleable\"><input class=\"sk-toggleable__control sk-hidden--visually\" id=\"sk-estimator-id-22\" type=\"checkbox\" ><label for=\"sk-estimator-id-22\" class=\"sk-toggleable__label fitted sk-toggleable__label-arrow fitted\">&nbsp;&nbsp;StackingClassifier<a class=\"sk-estimator-doc-link fitted\" rel=\"noreferrer\" target=\"_blank\" href=\"https://scikit-learn.org/1.5/modules/generated/sklearn.ensemble.StackingClassifier.html\">?<span>Documentation for StackingClassifier</span></a><span class=\"sk-estimator-doc-link fitted\">i<span>Fitted</span></span></label><div class=\"sk-toggleable__content fitted\"><pre>StackingClassifier(estimators=[(&#x27;bagging&#x27;, BaggingClassifier(n_jobs=-1)),\n",
       "                               (&#x27;extraTress&#x27;,\n",
       "                                ExtraTreesClassifier(max_depth=10, n_jobs=-1)),\n",
       "                               (&#x27;randomforest&#x27;,\n",
       "                                RandomForestClassifier(n_jobs=-1)),\n",
       "                               (&#x27;histGradientBoosting&#x27;,\n",
       "                                HistGradientBoostingClassifier()),\n",
       "                               (&#x27;XGB&#x27;,\n",
       "                                XGBClassifier(base_score=None, booster=None,\n",
       "                                              callbacks=None,\n",
       "                                              colsample_bylevel=None,\n",
       "                                              colsample_bynode=None...\n",
       "                                              grow_policy=None,\n",
       "                                              importance_type=None,\n",
       "                                              interaction_constraints=None,\n",
       "                                              learning_rate=None, max_bin=None,\n",
       "                                              max_cat_threshold=None,\n",
       "                                              max_cat_to_onehot=None,\n",
       "                                              max_delta_step=None,\n",
       "                                              max_depth=None, max_leaves=None,\n",
       "                                              min_child_weight=None,\n",
       "                                              missing=nan,\n",
       "                                              monotone_constraints=None,\n",
       "                                              multi_strategy=None,\n",
       "                                              n_estimators=None, n_jobs=-1,\n",
       "                                              num_parallel_tree=None,\n",
       "                                              random_state=None, ...))],\n",
       "                   n_jobs=-1)</pre></div> </div></div><div class=\"sk-serial\"><div class=\"sk-item\"><div class=\"sk-parallel\"><div class=\"sk-parallel-item\"><div class=\"sk-item\"><div class=\"sk-label-container\"><div class=\"sk-label fitted sk-toggleable\"><label>bagging</label></div></div><div class=\"sk-serial\"><div class=\"sk-item\"><div class=\"sk-estimator fitted sk-toggleable\"><input class=\"sk-toggleable__control sk-hidden--visually\" id=\"sk-estimator-id-23\" type=\"checkbox\" ><label for=\"sk-estimator-id-23\" class=\"sk-toggleable__label fitted sk-toggleable__label-arrow fitted\">&nbsp;BaggingClassifier<a class=\"sk-estimator-doc-link fitted\" rel=\"noreferrer\" target=\"_blank\" href=\"https://scikit-learn.org/1.5/modules/generated/sklearn.ensemble.BaggingClassifier.html\">?<span>Documentation for BaggingClassifier</span></a></label><div class=\"sk-toggleable__content fitted\"><pre>BaggingClassifier(n_jobs=-1)</pre></div> </div></div></div></div></div><div class=\"sk-parallel-item\"><div class=\"sk-item\"><div class=\"sk-label-container\"><div class=\"sk-label fitted sk-toggleable\"><label>extraTress</label></div></div><div class=\"sk-serial\"><div class=\"sk-item\"><div class=\"sk-estimator fitted sk-toggleable\"><input class=\"sk-toggleable__control sk-hidden--visually\" id=\"sk-estimator-id-24\" type=\"checkbox\" ><label for=\"sk-estimator-id-24\" class=\"sk-toggleable__label fitted sk-toggleable__label-arrow fitted\">&nbsp;ExtraTreesClassifier<a class=\"sk-estimator-doc-link fitted\" rel=\"noreferrer\" target=\"_blank\" href=\"https://scikit-learn.org/1.5/modules/generated/sklearn.ensemble.ExtraTreesClassifier.html\">?<span>Documentation for ExtraTreesClassifier</span></a></label><div class=\"sk-toggleable__content fitted\"><pre>ExtraTreesClassifier(max_depth=10, n_jobs=-1)</pre></div> </div></div></div></div></div><div class=\"sk-parallel-item\"><div class=\"sk-item\"><div class=\"sk-label-container\"><div class=\"sk-label fitted sk-toggleable\"><label>randomforest</label></div></div><div class=\"sk-serial\"><div class=\"sk-item\"><div class=\"sk-estimator fitted sk-toggleable\"><input class=\"sk-toggleable__control sk-hidden--visually\" id=\"sk-estimator-id-25\" type=\"checkbox\" ><label for=\"sk-estimator-id-25\" class=\"sk-toggleable__label fitted sk-toggleable__label-arrow fitted\">&nbsp;RandomForestClassifier<a class=\"sk-estimator-doc-link fitted\" rel=\"noreferrer\" target=\"_blank\" href=\"https://scikit-learn.org/1.5/modules/generated/sklearn.ensemble.RandomForestClassifier.html\">?<span>Documentation for RandomForestClassifier</span></a></label><div class=\"sk-toggleable__content fitted\"><pre>RandomForestClassifier(n_jobs=-1)</pre></div> </div></div></div></div></div><div class=\"sk-parallel-item\"><div class=\"sk-item\"><div class=\"sk-label-container\"><div class=\"sk-label fitted sk-toggleable\"><label>histGradientBoosting</label></div></div><div class=\"sk-serial\"><div class=\"sk-item\"><div class=\"sk-estimator fitted sk-toggleable\"><input class=\"sk-toggleable__control sk-hidden--visually\" id=\"sk-estimator-id-26\" type=\"checkbox\" ><label for=\"sk-estimator-id-26\" class=\"sk-toggleable__label fitted sk-toggleable__label-arrow fitted\">&nbsp;HistGradientBoostingClassifier<a class=\"sk-estimator-doc-link fitted\" rel=\"noreferrer\" target=\"_blank\" href=\"https://scikit-learn.org/1.5/modules/generated/sklearn.ensemble.HistGradientBoostingClassifier.html\">?<span>Documentation for HistGradientBoostingClassifier</span></a></label><div class=\"sk-toggleable__content fitted\"><pre>HistGradientBoostingClassifier()</pre></div> </div></div></div></div></div><div class=\"sk-parallel-item\"><div class=\"sk-item\"><div class=\"sk-label-container\"><div class=\"sk-label fitted sk-toggleable\"><label>XGB</label></div></div><div class=\"sk-serial\"><div class=\"sk-item\"><div class=\"sk-estimator fitted sk-toggleable\"><input class=\"sk-toggleable__control sk-hidden--visually\" id=\"sk-estimator-id-27\" type=\"checkbox\" ><label for=\"sk-estimator-id-27\" class=\"sk-toggleable__label fitted sk-toggleable__label-arrow fitted\">XGBClassifier</label><div class=\"sk-toggleable__content fitted\"><pre>XGBClassifier(base_score=None, booster=None, callbacks=None,\n",
       "              colsample_bylevel=None, colsample_bynode=None,\n",
       "              colsample_bytree=None, device=None, early_stopping_rounds=None,\n",
       "              enable_categorical=False, eval_metric=None, feature_types=None,\n",
       "              gamma=None, grow_policy=None, importance_type=None,\n",
       "              interaction_constraints=None, learning_rate=None, max_bin=None,\n",
       "              max_cat_threshold=None, max_cat_to_onehot=None,\n",
       "              max_delta_step=None, max_depth=None, max_leaves=None,\n",
       "              min_child_weight=None, missing=nan, monotone_constraints=None,\n",
       "              multi_strategy=None, n_estimators=None, n_jobs=-1,\n",
       "              num_parallel_tree=None, random_state=None, ...)</pre></div> </div></div></div></div></div></div></div><div class=\"sk-item\"><div class=\"sk-parallel\"><div class=\"sk-parallel-item\"><div class=\"sk-item\"><div class=\"sk-label-container\"><div class=\"sk-label fitted sk-toggleable\"><label>final_estimator</label></div></div><div class=\"sk-serial\"><div class=\"sk-item\"><div class=\"sk-estimator fitted sk-toggleable\"><input class=\"sk-toggleable__control sk-hidden--visually\" id=\"sk-estimator-id-28\" type=\"checkbox\" ><label for=\"sk-estimator-id-28\" class=\"sk-toggleable__label fitted sk-toggleable__label-arrow fitted\">&nbsp;LogisticRegression<a class=\"sk-estimator-doc-link fitted\" rel=\"noreferrer\" target=\"_blank\" href=\"https://scikit-learn.org/1.5/modules/generated/sklearn.linear_model.LogisticRegression.html\">?<span>Documentation for LogisticRegression</span></a></label><div class=\"sk-toggleable__content fitted\"><pre>LogisticRegression()</pre></div> </div></div></div></div></div></div></div></div></div></div></div>"
      ],
      "text/plain": [
       "StackingClassifier(estimators=[('bagging', BaggingClassifier(n_jobs=-1)),\n",
       "                               ('extraTress',\n",
       "                                ExtraTreesClassifier(max_depth=10, n_jobs=-1)),\n",
       "                               ('randomforest',\n",
       "                                RandomForestClassifier(n_jobs=-1)),\n",
       "                               ('histGradientBoosting',\n",
       "                                HistGradientBoostingClassifier()),\n",
       "                               ('XGB',\n",
       "                                XGBClassifier(base_score=None, booster=None,\n",
       "                                              callbacks=None,\n",
       "                                              colsample_bylevel=None,\n",
       "                                              colsample_bynode=None...\n",
       "                                              grow_policy=None,\n",
       "                                              importance_type=None,\n",
       "                                              interaction_constraints=None,\n",
       "                                              learning_rate=None, max_bin=None,\n",
       "                                              max_cat_threshold=None,\n",
       "                                              max_cat_to_onehot=None,\n",
       "                                              max_delta_step=None,\n",
       "                                              max_depth=None, max_leaves=None,\n",
       "                                              min_child_weight=None,\n",
       "                                              missing=nan,\n",
       "                                              monotone_constraints=None,\n",
       "                                              multi_strategy=None,\n",
       "                                              n_estimators=None, n_jobs=-1,\n",
       "                                              num_parallel_tree=None,\n",
       "                                              random_state=None, ...))],\n",
       "                   n_jobs=-1)"
      ]
     },
     "execution_count": 376,
     "metadata": {},
     "output_type": "execute_result"
    }
   ],
   "source": [
    "model.fit(X_train, y_train)"
   ]
  },
  {
   "cell_type": "markdown",
   "id": "edddf9df",
   "metadata": {},
   "source": [
    "#### model evaluation"
   ]
  },
  {
   "cell_type": "code",
   "execution_count": 377,
   "id": "29aaee6d",
   "metadata": {},
   "outputs": [
    {
     "name": "stdout",
     "output_type": "stream",
     "text": [
      "Train Score:  0.9998119374916044\n"
     ]
    }
   ],
   "source": [
    "print(\"Train Score: \",model.score(X_train, y_train))"
   ]
  },
  {
   "cell_type": "code",
   "execution_count": 378,
   "id": "e6dddc5a",
   "metadata": {},
   "outputs": [
    {
     "name": "stdout",
     "output_type": "stream",
     "text": [
      "Test Score:  0.8410472867083185\n"
     ]
    }
   ],
   "source": [
    "print(\"Test Score: \",model.score(X_test, y_test))"
   ]
  },
  {
   "cell_type": "code",
   "execution_count": 379,
   "id": "ee7d172b",
   "metadata": {},
   "outputs": [],
   "source": [
    "y_pred = model.predict(X_test)"
   ]
  },
  {
   "cell_type": "code",
   "execution_count": 380,
   "id": "a044d421",
   "metadata": {},
   "outputs": [
    {
     "name": "stdout",
     "output_type": "stream",
     "text": [
      "              precision    recall  f1-score   support\n",
      "\n",
      "           0       0.84      0.87      0.85     15372\n",
      "           1       0.81      0.78      0.79     16564\n",
      "           2       0.88      0.88      0.88     15921\n",
      "\n",
      "    accuracy                           0.84     47857\n",
      "   macro avg       0.84      0.84      0.84     47857\n",
      "weighted avg       0.84      0.84      0.84     47857\n",
      "\n"
     ]
    }
   ],
   "source": [
    "print(classification_report(y_pred,y_test))"
   ]
  },
  {
   "cell_type": "markdown",
   "id": "f71be4a5",
   "metadata": {},
   "source": [
    "#### Saving the model"
   ]
  },
  {
   "cell_type": "code",
   "execution_count": 384,
   "id": "df8c5853",
   "metadata": {},
   "outputs": [
    {
     "data": {
      "text/plain": [
       "['stacking_model_scaler.pkl']"
      ]
     },
     "execution_count": 384,
     "metadata": {},
     "output_type": "execute_result"
    }
   ],
   "source": [
    "import joblib\n",
    "\n",
    "# Save the StackingClassifier model\n",
    "joblib.dump(model, 'stacking_model.pkl')\n",
    "\n",
    "# Save the scaler\n",
    "joblib.dump(scalar, 'stacking_model_scaler.pkl')"
   ]
  },
  {
   "cell_type": "markdown",
   "id": "fa5c300e-04bf-4c50-8d01-ac7ab06847d2",
   "metadata": {},
   "source": [
    "### Test with examples ###"
   ]
  },
  {
   "cell_type": "code",
   "execution_count": 5,
   "id": "8d2756df-fc96-4344-a026-7b06c5c1365c",
   "metadata": {},
   "outputs": [
    {
     "ename": "KeyError",
     "evalue": "1",
     "output_type": "error",
     "traceback": [
      "\u001b[0;31m---------------------------------------------------------------------------\u001b[0m",
      "\u001b[0;31mKeyError\u001b[0m                                  Traceback (most recent call last)",
      "Cell \u001b[0;32mIn[5], line 99\u001b[0m\n\u001b[1;32m     93\u001b[0m prediction \u001b[38;5;241m=\u001b[39m model\u001b[38;5;241m.\u001b[39mpredict(case_transformed)\n\u001b[1;32m     94\u001b[0m m \u001b[38;5;241m=\u001b[39m {\n\u001b[1;32m     95\u001b[0m     \u001b[38;5;124m\"\u001b[39m\u001b[38;5;124mPoor\u001b[39m\u001b[38;5;124m\"\u001b[39m:\u001b[38;5;241m0\u001b[39m,\n\u001b[1;32m     96\u001b[0m     \u001b[38;5;124m\"\u001b[39m\u001b[38;5;124mStandard\u001b[39m\u001b[38;5;124m\"\u001b[39m:\u001b[38;5;241m1\u001b[39m,\n\u001b[1;32m     97\u001b[0m     \u001b[38;5;124m\"\u001b[39m\u001b[38;5;124mGood\u001b[39m\u001b[38;5;124m\"\u001b[39m:\u001b[38;5;241m2\u001b[39m\n\u001b[1;32m     98\u001b[0m }\n\u001b[0;32m---> 99\u001b[0m \u001b[38;5;28mprint\u001b[39m(\u001b[38;5;124mf\u001b[39m\u001b[38;5;124m\"\u001b[39m\u001b[38;5;124mThe model predicts: \u001b[39m\u001b[38;5;132;01m{\u001b[39;00m\u001b[43mm\u001b[49m\u001b[43m[\u001b[49m\u001b[43mprediction\u001b[49m\u001b[43m[\u001b[49m\u001b[38;5;241;43m0\u001b[39;49m\u001b[43m]\u001b[49m\u001b[43m]\u001b[49m\u001b[38;5;132;01m}\u001b[39;00m\u001b[38;5;124m\"\u001b[39m)\n",
      "\u001b[0;31mKeyError\u001b[0m: 1"
     ]
    }
   ],
   "source": [
    "case_1 = {\n",
    "    'Age': 45,\n",
    "    'Annual_Income': 120000,\n",
    "    'Monthly_Inhand_Salary': 10000,\n",
    "    'Num_Bank_Accounts': 5,\n",
    "    'Num_Credit_Card': 8,\n",
    "    'Interest_Rate': 3,\n",
    "    'Num_of_Loan': 2,\n",
    "    'Delay_from_due_date': 0,\n",
    "    'Num_of_Delayed_Payment': 1,\n",
    "    'Changed_Credit_Limit': 5000,\n",
    "    'Num_Credit_Inquiries': 2,\n",
    "    'Credit_Mix': 1,\n",
    "    'Outstanding_Debt': 10000,\n",
    "    'Credit_Utilization_Ratio': 20,\n",
    "    'Credit_History_Age': 20,\n",
    "    'Total_EMI_per_month': 1500,\n",
    "    'Amount_invested_monthly': 2000,\n",
    "    'Monthly_Balance': 5000,\n",
    "    'Credit-Builder Loan': 0.0,\n",
    "    'Personal Loan': 1.0,\n",
    "    'Debt Consolidation Loan': 0.0,\n",
    "    'Student Loan': 0.0,\n",
    "    'Payday Loan': 0.0,\n",
    "    'Mortgage Loan': 1.0,\n",
    "    'Auto Loan': 1.0,\n",
    "    'Home Equity Loan': 0.0,\n",
    "    'Month_August': 0,\n",
    "    'Month_February': 1,\n",
    "    'Month_January': 0,\n",
    "    'Month_July': 0,\n",
    "    'Month_June': 0,\n",
    "    'Month_March': 0,\n",
    "    'Month_May': 0,\n",
    "    'Occupation_Architect': 0,\n",
    "    'Occupation_Developer': 0,\n",
    "    'Occupation_Doctor': 0,\n",
    "    'Occupation_Engineer': 1,\n",
    "    'Occupation_Entrepreneur': 0,\n",
    "    'Occupation_Journalist': 0,\n",
    "    'Occupation_Lawyer': 0,\n",
    "    'Occupation_Manager': 1,\n",
    "    'Occupation_Mechanic': 0,\n",
    "    'Occupation_Media_Manager': 0,\n",
    "    'Occupation_Musician': 0,\n",
    "    'Occupation_Scientist': 0,\n",
    "    'Occupation_Teacher': 0,\n",
    "    'Occupation_Writer': 0,\n",
    "    'Payment_of_Min_Amount_Yes': 1,\n",
    "    'Payment_Behaviour_High_spent_Medium_value_payments': 1,\n",
    "    'Payment_Behaviour_High_spent_Small_value_payments': 0,\n",
    "    'Payment_Behaviour_Low_spent_Large_value_payments': 0,\n",
    "    'Payment_Behaviour_Low_spent_Medium_value_payments': 0,\n",
    "    'Payment_Behaviour_Low_spent_Small_value_payments': 0\n",
    "}\n",
    "\n",
    "model = joblib.load('stacking_model.pkl')\n",
    "scalar = joblib.load('stacking_model_scaler.pkl')\n",
    "\n",
    "# Convert the case to DataFrame\n",
    "case_df = pd.DataFrame([case_1])\n",
    "\n",
    "# Ensure all expected columns are present\n",
    "expected_features = [\n",
    "    'Age', 'Annual_Income', 'Monthly_Inhand_Salary', 'Num_Bank_Accounts',\n",
    "    'Num_Credit_Card', 'Interest_Rate', 'Num_of_Loan', 'Delay_from_due_date',\n",
    "    'Num_of_Delayed_Payment', 'Changed_Credit_Limit', 'Num_Credit_Inquiries',\n",
    "    'Credit_Mix', 'Outstanding_Debt', 'Credit_Utilization_Ratio',\n",
    "    'Credit_History_Age', 'Total_EMI_per_month', 'Amount_invested_monthly',\n",
    "    'Monthly_Balance', 'Credit-Builder Loan', 'Personal Loan',\n",
    "    'Debt Consolidation Loan', 'Student Loan', 'Payday Loan', 'Mortgage Loan',\n",
    "    'Auto Loan', 'Home Equity Loan', 'Month_August', 'Month_February',\n",
    "    'Month_January', 'Month_July', 'Month_June', 'Month_March', 'Month_May',\n",
    "    'Occupation_Architect', 'Occupation_Developer', 'Occupation_Doctor',\n",
    "    'Occupation_Engineer', 'Occupation_Entrepreneur', 'Occupation_Journalist',\n",
    "    'Occupation_Lawyer', 'Occupation_Manager', 'Occupation_Mechanic',\n",
    "    'Occupation_Media_Manager', 'Occupation_Musician', 'Occupation_Scientist',\n",
    "    'Occupation_Teacher', 'Occupation_Writer', 'Payment_of_Min_Amount_Yes',\n",
    "    'Payment_Behaviour_High_spent_Medium_value_payments',\n",
    "    'Payment_Behaviour_High_spent_Small_value_payments',\n",
    "    'Payment_Behaviour_Low_spent_Large_value_payments',\n",
    "    'Payment_Behaviour_Low_spent_Medium_value_payments',\n",
    "    'Payment_Behaviour_Low_spent_Small_value_payments'\n",
    "]\n",
    "\n",
    "# Ensure the columns are in the correct order\n",
    "case_df = case_df[expected_features]\n",
    "\n",
    "# Transform the input data using the saved scaler\n",
    "case_transformed = scalar.transform(case_df)\n",
    "\n",
    "# Make a prediction\n",
    "prediction = model.predict(case_transformed)\n",
    "m = {\n",
    "    \"Poor\":0,\n",
    "    \"Standard\":1,\n",
    "    \"Good\":2\n",
    "}\n",
    "print(f\"The model predicts: {m[prediction[0]]}\")"
   ]
  },
  {
   "cell_type": "code",
   "execution_count": 105,
   "id": "465a8359-91ac-4f73-806f-7c64f0c400e9",
   "metadata": {},
   "outputs": [
    {
     "data": {
      "text/plain": [
       "58"
      ]
     },
     "execution_count": 105,
     "metadata": {},
     "output_type": "execute_result"
    }
   ],
   "source": [
    "len(expected_features)"
   ]
  },
  {
   "cell_type": "code",
   "execution_count": null,
   "id": "081ffedf-7684-4c6c-b275-da6445fbd0c7",
   "metadata": {},
   "outputs": [],
   "source": []
  }
 ],
 "metadata": {
  "kernelspec": {
   "display_name": "Python 3 (ipykernel)",
   "language": "python",
   "name": "python3"
  },
  "language_info": {
   "codemirror_mode": {
    "name": "ipython",
    "version": 3
   },
   "file_extension": ".py",
   "mimetype": "text/x-python",
   "name": "python",
   "nbconvert_exporter": "python",
   "pygments_lexer": "ipython3",
   "version": "3.11.5"
  }
 },
 "nbformat": 4,
 "nbformat_minor": 5
}
