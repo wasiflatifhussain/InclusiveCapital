{
 "cells": [
  {
   "cell_type": "markdown",
   "id": "e541a39b",
   "metadata": {},
   "source": [
    "## Packages importing "
   ]
  },
  {
   "cell_type": "code",
   "execution_count": 8,
   "id": "7db938e2",
   "metadata": {
    "collapsed": true,
    "jupyter": {
     "outputs_hidden": true
    }
   },
   "outputs": [
    {
     "name": "stdout",
     "output_type": "stream",
     "text": [
      "Requirement already satisfied: matplotlib in /home/wasif/anaconda3/envs/tester/lib/python3.9/site-packages (3.9.1)\n",
      "Requirement already satisfied: seaborn in /home/wasif/anaconda3/envs/tester/lib/python3.9/site-packages (0.13.2)\n",
      "Requirement already satisfied: pandas in /home/wasif/anaconda3/envs/tester/lib/python3.9/site-packages (2.2.2)\n",
      "Requirement already satisfied: numpy in /home/wasif/anaconda3/envs/tester/lib/python3.9/site-packages (1.26.4)\n",
      "Requirement already satisfied: scikit-learn in /home/wasif/anaconda3/envs/tester/lib/python3.9/site-packages (1.5.1)\n",
      "Requirement already satisfied: datasist in /home/wasif/anaconda3/envs/tester/lib/python3.9/site-packages (1.5.3)\n",
      "Requirement already satisfied: imbalanced-learn in /home/wasif/anaconda3/envs/tester/lib/python3.9/site-packages (0.12.3)\n",
      "Collecting category-encoders\n",
      "  Downloading category_encoders-2.6.3-py2.py3-none-any.whl.metadata (8.0 kB)\n",
      "Requirement already satisfied: xgboost in /home/wasif/anaconda3/envs/tester/lib/python3.9/site-packages (2.1.0)\n",
      "Requirement already satisfied: joblib in /home/wasif/anaconda3/envs/tester/lib/python3.9/site-packages (1.4.2)\n",
      "Requirement already satisfied: contourpy>=1.0.1 in /home/wasif/anaconda3/envs/tester/lib/python3.9/site-packages (from matplotlib) (1.2.1)\n",
      "Requirement already satisfied: cycler>=0.10 in /home/wasif/anaconda3/envs/tester/lib/python3.9/site-packages (from matplotlib) (0.12.1)\n",
      "Requirement already satisfied: fonttools>=4.22.0 in /home/wasif/anaconda3/envs/tester/lib/python3.9/site-packages (from matplotlib) (4.53.0)\n",
      "Requirement already satisfied: kiwisolver>=1.3.1 in /home/wasif/anaconda3/envs/tester/lib/python3.9/site-packages (from matplotlib) (1.4.5)\n",
      "Requirement already satisfied: packaging>=20.0 in /home/wasif/anaconda3/envs/tester/lib/python3.9/site-packages (from matplotlib) (24.1)\n",
      "Requirement already satisfied: pillow>=8 in /home/wasif/anaconda3/envs/tester/lib/python3.9/site-packages (from matplotlib) (10.3.0)\n",
      "Requirement already satisfied: pyparsing>=2.3.1 in /home/wasif/anaconda3/envs/tester/lib/python3.9/site-packages (from matplotlib) (3.1.2)\n",
      "Requirement already satisfied: python-dateutil>=2.7 in /home/wasif/anaconda3/envs/tester/lib/python3.9/site-packages (from matplotlib) (2.9.0.post0)\n",
      "Requirement already satisfied: importlib-resources>=3.2.0 in /home/wasif/anaconda3/envs/tester/lib/python3.9/site-packages (from matplotlib) (6.4.0)\n",
      "Requirement already satisfied: pytz>=2020.1 in /home/wasif/anaconda3/envs/tester/lib/python3.9/site-packages (from pandas) (2024.1)\n",
      "Requirement already satisfied: tzdata>=2022.7 in /home/wasif/anaconda3/envs/tester/lib/python3.9/site-packages (from pandas) (2024.1)\n",
      "Requirement already satisfied: scipy>=1.6.0 in /home/wasif/anaconda3/envs/tester/lib/python3.9/site-packages (from scikit-learn) (1.13.1)\n",
      "Requirement already satisfied: threadpoolctl>=3.1.0 in /home/wasif/anaconda3/envs/tester/lib/python3.9/site-packages (from scikit-learn) (3.5.0)\n",
      "Requirement already satisfied: jupyter in /home/wasif/anaconda3/envs/tester/lib/python3.9/site-packages (from datasist) (1.0.0)\n",
      "Requirement already satisfied: nltk in /home/wasif/anaconda3/envs/tester/lib/python3.9/site-packages (from datasist) (3.8.1)\n",
      "Collecting statsmodels>=0.9.0 (from category-encoders)\n",
      "  Downloading statsmodels-0.14.2-cp39-cp39-manylinux_2_17_x86_64.manylinux2014_x86_64.whl.metadata (9.2 kB)\n",
      "Collecting patsy>=0.5.1 (from category-encoders)\n",
      "  Downloading patsy-0.5.6-py2.py3-none-any.whl.metadata (3.5 kB)\n",
      "Requirement already satisfied: nvidia-nccl-cu12 in /home/wasif/anaconda3/envs/tester/lib/python3.9/site-packages (from xgboost) (2.22.3)\n",
      "Requirement already satisfied: zipp>=3.1.0 in /home/wasif/anaconda3/envs/tester/lib/python3.9/site-packages (from importlib-resources>=3.2.0->matplotlib) (3.19.2)\n",
      "Requirement already satisfied: six in /home/wasif/anaconda3/envs/tester/lib/python3.9/site-packages (from patsy>=0.5.1->category-encoders) (1.16.0)\n",
      "Requirement already satisfied: notebook in /home/wasif/anaconda3/envs/tester/lib/python3.9/site-packages (from jupyter->datasist) (7.2.1)\n",
      "Requirement already satisfied: qtconsole in /home/wasif/anaconda3/envs/tester/lib/python3.9/site-packages (from jupyter->datasist) (5.5.2)\n",
      "Requirement already satisfied: jupyter-console in /home/wasif/anaconda3/envs/tester/lib/python3.9/site-packages (from jupyter->datasist) (6.6.3)\n",
      "Requirement already satisfied: nbconvert in /home/wasif/anaconda3/envs/tester/lib/python3.9/site-packages (from jupyter->datasist) (7.16.4)\n",
      "Requirement already satisfied: ipykernel in /home/wasif/anaconda3/envs/tester/lib/python3.9/site-packages (from jupyter->datasist) (6.29.5)\n",
      "Requirement already satisfied: ipywidgets in /home/wasif/anaconda3/envs/tester/lib/python3.9/site-packages (from jupyter->datasist) (8.1.3)\n",
      "Requirement already satisfied: click in /home/wasif/anaconda3/envs/tester/lib/python3.9/site-packages (from nltk->datasist) (8.1.7)\n",
      "Requirement already satisfied: regex>=2021.8.3 in /home/wasif/anaconda3/envs/tester/lib/python3.9/site-packages (from nltk->datasist) (2024.5.15)\n",
      "Requirement already satisfied: tqdm in /home/wasif/anaconda3/envs/tester/lib/python3.9/site-packages (from nltk->datasist) (4.66.4)\n",
      "Requirement already satisfied: comm>=0.1.1 in /home/wasif/anaconda3/envs/tester/lib/python3.9/site-packages (from ipykernel->jupyter->datasist) (0.2.2)\n",
      "Requirement already satisfied: debugpy>=1.6.5 in /home/wasif/anaconda3/envs/tester/lib/python3.9/site-packages (from ipykernel->jupyter->datasist) (1.8.2)\n",
      "Requirement already satisfied: ipython>=7.23.1 in /home/wasif/anaconda3/envs/tester/lib/python3.9/site-packages (from ipykernel->jupyter->datasist) (8.18.1)\n",
      "Requirement already satisfied: jupyter-client>=6.1.12 in /home/wasif/anaconda3/envs/tester/lib/python3.9/site-packages (from ipykernel->jupyter->datasist) (8.6.2)\n",
      "Requirement already satisfied: jupyter-core!=5.0.*,>=4.12 in /home/wasif/anaconda3/envs/tester/lib/python3.9/site-packages (from ipykernel->jupyter->datasist) (5.7.2)\n",
      "Requirement already satisfied: matplotlib-inline>=0.1 in /home/wasif/anaconda3/envs/tester/lib/python3.9/site-packages (from ipykernel->jupyter->datasist) (0.1.7)\n",
      "Requirement already satisfied: nest-asyncio in /home/wasif/anaconda3/envs/tester/lib/python3.9/site-packages (from ipykernel->jupyter->datasist) (1.6.0)\n",
      "Requirement already satisfied: psutil in /home/wasif/anaconda3/envs/tester/lib/python3.9/site-packages (from ipykernel->jupyter->datasist) (6.0.0)\n",
      "Requirement already satisfied: pyzmq>=24 in /home/wasif/anaconda3/envs/tester/lib/python3.9/site-packages (from ipykernel->jupyter->datasist) (26.0.3)\n",
      "Requirement already satisfied: tornado>=6.1 in /home/wasif/anaconda3/envs/tester/lib/python3.9/site-packages (from ipykernel->jupyter->datasist) (6.4.1)\n",
      "Requirement already satisfied: traitlets>=5.4.0 in /home/wasif/anaconda3/envs/tester/lib/python3.9/site-packages (from ipykernel->jupyter->datasist) (5.14.3)\n",
      "Requirement already satisfied: widgetsnbextension~=4.0.11 in /home/wasif/anaconda3/envs/tester/lib/python3.9/site-packages (from ipywidgets->jupyter->datasist) (4.0.11)\n",
      "Requirement already satisfied: jupyterlab-widgets~=3.0.11 in /home/wasif/anaconda3/envs/tester/lib/python3.9/site-packages (from ipywidgets->jupyter->datasist) (3.0.11)\n",
      "Requirement already satisfied: prompt-toolkit>=3.0.30 in /home/wasif/anaconda3/envs/tester/lib/python3.9/site-packages (from jupyter-console->jupyter->datasist) (3.0.47)\n",
      "Requirement already satisfied: pygments in /home/wasif/anaconda3/envs/tester/lib/python3.9/site-packages (from jupyter-console->jupyter->datasist) (2.18.0)\n",
      "Requirement already satisfied: beautifulsoup4 in /home/wasif/anaconda3/envs/tester/lib/python3.9/site-packages (from nbconvert->jupyter->datasist) (4.12.3)\n",
      "Requirement already satisfied: bleach!=5.0.0 in /home/wasif/anaconda3/envs/tester/lib/python3.9/site-packages (from nbconvert->jupyter->datasist) (6.1.0)\n",
      "Requirement already satisfied: defusedxml in /home/wasif/anaconda3/envs/tester/lib/python3.9/site-packages (from nbconvert->jupyter->datasist) (0.7.1)\n",
      "Requirement already satisfied: importlib-metadata>=3.6 in /home/wasif/anaconda3/envs/tester/lib/python3.9/site-packages (from nbconvert->jupyter->datasist) (8.0.0)\n",
      "Requirement already satisfied: jinja2>=3.0 in /home/wasif/anaconda3/envs/tester/lib/python3.9/site-packages (from nbconvert->jupyter->datasist) (3.1.4)\n",
      "Requirement already satisfied: jupyterlab-pygments in /home/wasif/anaconda3/envs/tester/lib/python3.9/site-packages (from nbconvert->jupyter->datasist) (0.3.0)\n",
      "Requirement already satisfied: markupsafe>=2.0 in /home/wasif/anaconda3/envs/tester/lib/python3.9/site-packages (from nbconvert->jupyter->datasist) (2.1.3)\n",
      "Requirement already satisfied: mistune<4,>=2.0.3 in /home/wasif/anaconda3/envs/tester/lib/python3.9/site-packages (from nbconvert->jupyter->datasist) (3.0.2)\n",
      "Requirement already satisfied: nbclient>=0.5.0 in /home/wasif/anaconda3/envs/tester/lib/python3.9/site-packages (from nbconvert->jupyter->datasist) (0.10.0)\n",
      "Requirement already satisfied: nbformat>=5.7 in /home/wasif/anaconda3/envs/tester/lib/python3.9/site-packages (from nbconvert->jupyter->datasist) (5.10.4)\n",
      "Requirement already satisfied: pandocfilters>=1.4.1 in /home/wasif/anaconda3/envs/tester/lib/python3.9/site-packages (from nbconvert->jupyter->datasist) (1.5.1)\n",
      "Requirement already satisfied: tinycss2 in /home/wasif/anaconda3/envs/tester/lib/python3.9/site-packages (from nbconvert->jupyter->datasist) (1.3.0)\n",
      "Requirement already satisfied: jupyter-server<3,>=2.4.0 in /home/wasif/anaconda3/envs/tester/lib/python3.9/site-packages (from notebook->jupyter->datasist) (2.14.1)\n",
      "Requirement already satisfied: jupyterlab-server<3,>=2.27.1 in /home/wasif/anaconda3/envs/tester/lib/python3.9/site-packages (from notebook->jupyter->datasist) (2.27.2)\n",
      "Requirement already satisfied: jupyterlab<4.3,>=4.2.0 in /home/wasif/anaconda3/envs/tester/lib/python3.9/site-packages (from notebook->jupyter->datasist) (4.2.3)\n",
      "Requirement already satisfied: notebook-shim<0.3,>=0.2 in /home/wasif/anaconda3/envs/tester/lib/python3.9/site-packages (from notebook->jupyter->datasist) (0.2.4)\n",
      "Requirement already satisfied: qtpy>=2.4.0 in /home/wasif/anaconda3/envs/tester/lib/python3.9/site-packages (from qtconsole->jupyter->datasist) (2.4.1)\n",
      "Requirement already satisfied: webencodings in /home/wasif/anaconda3/envs/tester/lib/python3.9/site-packages (from bleach!=5.0.0->nbconvert->jupyter->datasist) (0.5.1)\n",
      "Requirement already satisfied: decorator in /home/wasif/anaconda3/envs/tester/lib/python3.9/site-packages (from ipython>=7.23.1->ipykernel->jupyter->datasist) (5.1.1)\n",
      "Requirement already satisfied: jedi>=0.16 in /home/wasif/anaconda3/envs/tester/lib/python3.9/site-packages (from ipython>=7.23.1->ipykernel->jupyter->datasist) (0.19.1)\n",
      "Requirement already satisfied: stack-data in /home/wasif/anaconda3/envs/tester/lib/python3.9/site-packages (from ipython>=7.23.1->ipykernel->jupyter->datasist) (0.6.3)\n",
      "Requirement already satisfied: typing-extensions in /home/wasif/anaconda3/envs/tester/lib/python3.9/site-packages (from ipython>=7.23.1->ipykernel->jupyter->datasist) (4.11.0)\n",
      "Requirement already satisfied: exceptiongroup in /home/wasif/anaconda3/envs/tester/lib/python3.9/site-packages (from ipython>=7.23.1->ipykernel->jupyter->datasist) (1.2.1)\n",
      "Requirement already satisfied: pexpect>4.3 in /home/wasif/anaconda3/envs/tester/lib/python3.9/site-packages (from ipython>=7.23.1->ipykernel->jupyter->datasist) (4.9.0)\n",
      "Requirement already satisfied: platformdirs>=2.5 in /home/wasif/anaconda3/envs/tester/lib/python3.9/site-packages (from jupyter-core!=5.0.*,>=4.12->ipykernel->jupyter->datasist) (4.2.2)\n",
      "Requirement already satisfied: anyio>=3.1.0 in /home/wasif/anaconda3/envs/tester/lib/python3.9/site-packages (from jupyter-server<3,>=2.4.0->notebook->jupyter->datasist) (4.4.0)\n",
      "Requirement already satisfied: argon2-cffi>=21.1 in /home/wasif/anaconda3/envs/tester/lib/python3.9/site-packages (from jupyter-server<3,>=2.4.0->notebook->jupyter->datasist) (23.1.0)\n",
      "Requirement already satisfied: jupyter-events>=0.9.0 in /home/wasif/anaconda3/envs/tester/lib/python3.9/site-packages (from jupyter-server<3,>=2.4.0->notebook->jupyter->datasist) (0.10.0)\n",
      "Requirement already satisfied: jupyter-server-terminals>=0.4.4 in /home/wasif/anaconda3/envs/tester/lib/python3.9/site-packages (from jupyter-server<3,>=2.4.0->notebook->jupyter->datasist) (0.5.3)\n",
      "Requirement already satisfied: overrides>=5.0 in /home/wasif/anaconda3/envs/tester/lib/python3.9/site-packages (from jupyter-server<3,>=2.4.0->notebook->jupyter->datasist) (7.7.0)\n",
      "Requirement already satisfied: prometheus-client>=0.9 in /home/wasif/anaconda3/envs/tester/lib/python3.9/site-packages (from jupyter-server<3,>=2.4.0->notebook->jupyter->datasist) (0.20.0)\n",
      "Requirement already satisfied: send2trash>=1.8.2 in /home/wasif/anaconda3/envs/tester/lib/python3.9/site-packages (from jupyter-server<3,>=2.4.0->notebook->jupyter->datasist) (1.8.3)\n",
      "Requirement already satisfied: terminado>=0.8.3 in /home/wasif/anaconda3/envs/tester/lib/python3.9/site-packages (from jupyter-server<3,>=2.4.0->notebook->jupyter->datasist) (0.18.1)\n",
      "Requirement already satisfied: websocket-client>=1.7 in /home/wasif/anaconda3/envs/tester/lib/python3.9/site-packages (from jupyter-server<3,>=2.4.0->notebook->jupyter->datasist) (1.8.0)\n",
      "Requirement already satisfied: async-lru>=1.0.0 in /home/wasif/anaconda3/envs/tester/lib/python3.9/site-packages (from jupyterlab<4.3,>=4.2.0->notebook->jupyter->datasist) (2.0.4)\n",
      "Requirement already satisfied: httpx>=0.25.0 in /home/wasif/anaconda3/envs/tester/lib/python3.9/site-packages (from jupyterlab<4.3,>=4.2.0->notebook->jupyter->datasist) (0.27.0)\n",
      "Requirement already satisfied: jupyter-lsp>=2.0.0 in /home/wasif/anaconda3/envs/tester/lib/python3.9/site-packages (from jupyterlab<4.3,>=4.2.0->notebook->jupyter->datasist) (2.2.5)\n",
      "Requirement already satisfied: setuptools>=40.1.0 in /home/wasif/anaconda3/envs/tester/lib/python3.9/site-packages (from jupyterlab<4.3,>=4.2.0->notebook->jupyter->datasist) (69.5.1)\n",
      "Requirement already satisfied: tomli>=1.2.2 in /home/wasif/anaconda3/envs/tester/lib/python3.9/site-packages (from jupyterlab<4.3,>=4.2.0->notebook->jupyter->datasist) (2.0.1)\n",
      "Requirement already satisfied: babel>=2.10 in /home/wasif/anaconda3/envs/tester/lib/python3.9/site-packages (from jupyterlab-server<3,>=2.27.1->notebook->jupyter->datasist) (2.15.0)\n",
      "Requirement already satisfied: json5>=0.9.0 in /home/wasif/anaconda3/envs/tester/lib/python3.9/site-packages (from jupyterlab-server<3,>=2.27.1->notebook->jupyter->datasist) (0.9.25)\n",
      "Requirement already satisfied: jsonschema>=4.18.0 in /home/wasif/anaconda3/envs/tester/lib/python3.9/site-packages (from jupyterlab-server<3,>=2.27.1->notebook->jupyter->datasist) (4.22.0)\n",
      "Requirement already satisfied: requests>=2.31 in /home/wasif/anaconda3/envs/tester/lib/python3.9/site-packages (from jupyterlab-server<3,>=2.27.1->notebook->jupyter->datasist) (2.32.3)\n",
      "Requirement already satisfied: fastjsonschema>=2.15 in /home/wasif/anaconda3/envs/tester/lib/python3.9/site-packages (from nbformat>=5.7->nbconvert->jupyter->datasist) (2.20.0)\n",
      "Requirement already satisfied: wcwidth in /home/wasif/anaconda3/envs/tester/lib/python3.9/site-packages (from prompt-toolkit>=3.0.30->jupyter-console->jupyter->datasist) (0.2.13)\n",
      "Requirement already satisfied: soupsieve>1.2 in /home/wasif/anaconda3/envs/tester/lib/python3.9/site-packages (from beautifulsoup4->nbconvert->jupyter->datasist) (2.5)\n",
      "Requirement already satisfied: idna>=2.8 in /home/wasif/anaconda3/envs/tester/lib/python3.9/site-packages (from anyio>=3.1.0->jupyter-server<3,>=2.4.0->notebook->jupyter->datasist) (3.7)\n",
      "Requirement already satisfied: sniffio>=1.1 in /home/wasif/anaconda3/envs/tester/lib/python3.9/site-packages (from anyio>=3.1.0->jupyter-server<3,>=2.4.0->notebook->jupyter->datasist) (1.3.1)\n",
      "Requirement already satisfied: argon2-cffi-bindings in /home/wasif/anaconda3/envs/tester/lib/python3.9/site-packages (from argon2-cffi>=21.1->jupyter-server<3,>=2.4.0->notebook->jupyter->datasist) (21.2.0)\n",
      "Requirement already satisfied: certifi in /home/wasif/anaconda3/envs/tester/lib/python3.9/site-packages (from httpx>=0.25.0->jupyterlab<4.3,>=4.2.0->notebook->jupyter->datasist) (2024.6.2)\n",
      "Requirement already satisfied: httpcore==1.* in /home/wasif/anaconda3/envs/tester/lib/python3.9/site-packages (from httpx>=0.25.0->jupyterlab<4.3,>=4.2.0->notebook->jupyter->datasist) (1.0.5)\n",
      "Requirement already satisfied: h11<0.15,>=0.13 in /home/wasif/anaconda3/envs/tester/lib/python3.9/site-packages (from httpcore==1.*->httpx>=0.25.0->jupyterlab<4.3,>=4.2.0->notebook->jupyter->datasist) (0.14.0)\n",
      "Requirement already satisfied: parso<0.9.0,>=0.8.3 in /home/wasif/anaconda3/envs/tester/lib/python3.9/site-packages (from jedi>=0.16->ipython>=7.23.1->ipykernel->jupyter->datasist) (0.8.4)\n",
      "Requirement already satisfied: attrs>=22.2.0 in /home/wasif/anaconda3/envs/tester/lib/python3.9/site-packages (from jsonschema>=4.18.0->jupyterlab-server<3,>=2.27.1->notebook->jupyter->datasist) (23.2.0)\n",
      "Requirement already satisfied: jsonschema-specifications>=2023.03.6 in /home/wasif/anaconda3/envs/tester/lib/python3.9/site-packages (from jsonschema>=4.18.0->jupyterlab-server<3,>=2.27.1->notebook->jupyter->datasist) (2023.12.1)\n",
      "Requirement already satisfied: referencing>=0.28.4 in /home/wasif/anaconda3/envs/tester/lib/python3.9/site-packages (from jsonschema>=4.18.0->jupyterlab-server<3,>=2.27.1->notebook->jupyter->datasist) (0.35.1)\n",
      "Requirement already satisfied: rpds-py>=0.7.1 in /home/wasif/anaconda3/envs/tester/lib/python3.9/site-packages (from jsonschema>=4.18.0->jupyterlab-server<3,>=2.27.1->notebook->jupyter->datasist) (0.18.1)\n",
      "Requirement already satisfied: python-json-logger>=2.0.4 in /home/wasif/anaconda3/envs/tester/lib/python3.9/site-packages (from jupyter-events>=0.9.0->jupyter-server<3,>=2.4.0->notebook->jupyter->datasist) (2.0.7)\n",
      "Requirement already satisfied: pyyaml>=5.3 in /home/wasif/anaconda3/envs/tester/lib/python3.9/site-packages (from jupyter-events>=0.9.0->jupyter-server<3,>=2.4.0->notebook->jupyter->datasist) (6.0.1)\n",
      "Requirement already satisfied: rfc3339-validator in /home/wasif/anaconda3/envs/tester/lib/python3.9/site-packages (from jupyter-events>=0.9.0->jupyter-server<3,>=2.4.0->notebook->jupyter->datasist) (0.1.4)\n",
      "Requirement already satisfied: rfc3986-validator>=0.1.1 in /home/wasif/anaconda3/envs/tester/lib/python3.9/site-packages (from jupyter-events>=0.9.0->jupyter-server<3,>=2.4.0->notebook->jupyter->datasist) (0.1.1)\n",
      "Requirement already satisfied: ptyprocess>=0.5 in /home/wasif/anaconda3/envs/tester/lib/python3.9/site-packages (from pexpect>4.3->ipython>=7.23.1->ipykernel->jupyter->datasist) (0.7.0)\n",
      "Requirement already satisfied: charset-normalizer<4,>=2 in /home/wasif/anaconda3/envs/tester/lib/python3.9/site-packages (from requests>=2.31->jupyterlab-server<3,>=2.27.1->notebook->jupyter->datasist) (3.3.2)\n",
      "Requirement already satisfied: urllib3<3,>=1.21.1 in /home/wasif/anaconda3/envs/tester/lib/python3.9/site-packages (from requests>=2.31->jupyterlab-server<3,>=2.27.1->notebook->jupyter->datasist) (2.2.2)\n",
      "Requirement already satisfied: executing>=1.2.0 in /home/wasif/anaconda3/envs/tester/lib/python3.9/site-packages (from stack-data->ipython>=7.23.1->ipykernel->jupyter->datasist) (2.0.1)\n",
      "Requirement already satisfied: asttokens>=2.1.0 in /home/wasif/anaconda3/envs/tester/lib/python3.9/site-packages (from stack-data->ipython>=7.23.1->ipykernel->jupyter->datasist) (2.4.1)\n",
      "Requirement already satisfied: pure-eval in /home/wasif/anaconda3/envs/tester/lib/python3.9/site-packages (from stack-data->ipython>=7.23.1->ipykernel->jupyter->datasist) (0.2.2)\n",
      "Requirement already satisfied: fqdn in /home/wasif/anaconda3/envs/tester/lib/python3.9/site-packages (from jsonschema[format-nongpl]>=4.18.0->jupyter-events>=0.9.0->jupyter-server<3,>=2.4.0->notebook->jupyter->datasist) (1.5.1)\n",
      "Requirement already satisfied: isoduration in /home/wasif/anaconda3/envs/tester/lib/python3.9/site-packages (from jsonschema[format-nongpl]>=4.18.0->jupyter-events>=0.9.0->jupyter-server<3,>=2.4.0->notebook->jupyter->datasist) (20.11.0)\n",
      "Requirement already satisfied: jsonpointer>1.13 in /home/wasif/anaconda3/envs/tester/lib/python3.9/site-packages (from jsonschema[format-nongpl]>=4.18.0->jupyter-events>=0.9.0->jupyter-server<3,>=2.4.0->notebook->jupyter->datasist) (3.0.0)\n",
      "Requirement already satisfied: uri-template in /home/wasif/anaconda3/envs/tester/lib/python3.9/site-packages (from jsonschema[format-nongpl]>=4.18.0->jupyter-events>=0.9.0->jupyter-server<3,>=2.4.0->notebook->jupyter->datasist) (1.3.0)\n",
      "Requirement already satisfied: webcolors>=1.11 in /home/wasif/anaconda3/envs/tester/lib/python3.9/site-packages (from jsonschema[format-nongpl]>=4.18.0->jupyter-events>=0.9.0->jupyter-server<3,>=2.4.0->notebook->jupyter->datasist) (24.6.0)\n",
      "Requirement already satisfied: cffi>=1.0.1 in /home/wasif/anaconda3/envs/tester/lib/python3.9/site-packages (from argon2-cffi-bindings->argon2-cffi>=21.1->jupyter-server<3,>=2.4.0->notebook->jupyter->datasist) (1.16.0)\n",
      "Requirement already satisfied: pycparser in /home/wasif/anaconda3/envs/tester/lib/python3.9/site-packages (from cffi>=1.0.1->argon2-cffi-bindings->argon2-cffi>=21.1->jupyter-server<3,>=2.4.0->notebook->jupyter->datasist) (2.22)\n",
      "Requirement already satisfied: arrow>=0.15.0 in /home/wasif/anaconda3/envs/tester/lib/python3.9/site-packages (from isoduration->jsonschema[format-nongpl]>=4.18.0->jupyter-events>=0.9.0->jupyter-server<3,>=2.4.0->notebook->jupyter->datasist) (1.3.0)\n",
      "Requirement already satisfied: types-python-dateutil>=2.8.10 in /home/wasif/anaconda3/envs/tester/lib/python3.9/site-packages (from arrow>=0.15.0->isoduration->jsonschema[format-nongpl]>=4.18.0->jupyter-events>=0.9.0->jupyter-server<3,>=2.4.0->notebook->jupyter->datasist) (2.9.0.20240316)\n",
      "Downloading category_encoders-2.6.3-py2.py3-none-any.whl (81 kB)\n",
      "\u001b[2K   \u001b[38;2;114;156;31m━━━━━━━━━━━━━━━━━━━━━━━━━━━━━━━━━━━━━━━━\u001b[0m \u001b[32m81.9/81.9 kB\u001b[0m \u001b[31m2.0 MB/s\u001b[0m eta \u001b[36m0:00:00\u001b[0m9 MB/s\u001b[0m eta \u001b[36m0:00:01\u001b[0m\n",
      "\u001b[?25hDownloading patsy-0.5.6-py2.py3-none-any.whl (233 kB)\n",
      "\u001b[2K   \u001b[38;2;114;156;31m━━━━━━━━━━━━━━━━━━━━━━━━━━━━━━━━━━━━━━━━\u001b[0m \u001b[32m233.9/233.9 kB\u001b[0m \u001b[31m3.4 MB/s\u001b[0m eta \u001b[36m0:00:00\u001b[0m MB/s\u001b[0m eta \u001b[36m0:00:01\u001b[0m\n",
      "\u001b[?25hDownloading statsmodels-0.14.2-cp39-cp39-manylinux_2_17_x86_64.manylinux2014_x86_64.whl (10.8 MB)\n",
      "\u001b[2K   \u001b[38;2;114;156;31m━━━━━━━━━━━━━━━━━━━━━━━━━━━━━━━━━━━━━━━━\u001b[0m \u001b[32m10.8/10.8 MB\u001b[0m \u001b[31m3.5 MB/s\u001b[0m eta \u001b[36m0:00:00\u001b[0mm eta \u001b[36m0:00:01\u001b[0m[36m0:00:01\u001b[0m\n",
      "\u001b[?25hInstalling collected packages: patsy, statsmodels, category-encoders\n",
      "Successfully installed category-encoders-2.6.3 patsy-0.5.6 statsmodels-0.14.2\n"
     ]
    }
   ],
   "source": [
    "!pip install matplotlib seaborn pandas numpy scikit-learn datasist imbalanced-learn category-encoders xgboost joblib"
   ]
  },
  {
   "cell_type": "code",
   "execution_count": 9,
   "id": "59947c84-3614-48f1-9057-3e12a21739da",
   "metadata": {},
   "outputs": [
    {
     "name": "stderr",
     "output_type": "stream",
     "text": [
      "/home/wasif/anaconda3/envs/tester/lib/python3.9/site-packages/sklearn/experimental/enable_hist_gradient_boosting.py:16: UserWarning: Since version 1.0, it is not needed to import enable_hist_gradient_boosting anymore. HistGradientBoostingClassifier and HistGradientBoostingRegressor are now stable and can be normally imported from sklearn.ensemble.\n",
      "  warnings.warn(\n"
     ]
    }
   ],
   "source": [
    "# Packages for EDA \n",
    "import matplotlib.pyplot as plt\n",
    "import seaborn as sns \n",
    "import pandas as pd \n",
    "import numpy as np \n",
    "\n",
    "# Data Preprocessing\n",
    "from sklearn.model_selection import train_test_split\n",
    "from sklearn.preprocessing import PowerTransformer\n",
    "from datasist.structdata import detect_outliers\n",
    "from sklearn.metrics import mean_squared_error\n",
    "from imblearn.over_sampling import SMOTE\n",
    "from sklearn.impute import SimpleImputer\n",
    "import category_encoders as ce\n",
    "import re \n",
    "\n",
    "# Modeling and evaluation \n",
    "from sklearn.experimental import enable_hist_gradient_boosting\n",
    "from sklearn.ensemble import (\n",
    "    BaggingClassifier,\n",
    "    ExtraTreesClassifier,\n",
    "    RandomForestClassifier,\n",
    "    StackingClassifier,\n",
    "    HistGradientBoostingClassifier\n",
    ")\n",
    "from xgboost import XGBClassifier\n",
    "from sklearn.metrics import classification_report \n",
    "import joblib\n",
    "\n",
    "# Packages options \n",
    "sns.set(rc={'figure.figsize': [14, 7]}, font_scale=1.2) # Standard figure size for all \n",
    "np.seterr(divide='ignore', invalid='ignore', over='ignore') ;\n",
    "\n",
    "import warnings \n",
    "warnings.filterwarnings(\"ignore\")"
   ]
  },
  {
   "cell_type": "markdown",
   "id": "19fb0b7b",
   "metadata": {},
   "source": [
    "## Reading Data "
   ]
  },
  {
   "cell_type": "code",
   "execution_count": 10,
   "id": "8c587189",
   "metadata": {},
   "outputs": [],
   "source": [
    "df = pd.read_csv(\"train.csv\",low_memory=False)"
   ]
  },
  {
   "cell_type": "code",
   "execution_count": 8,
   "id": "79c5dc49",
   "metadata": {
    "execution": {
     "iopub.execute_input": "2022-10-15T05:44:13.129445Z",
     "iopub.status.busy": "2022-10-15T05:44:13.129155Z",
     "iopub.status.idle": "2022-10-15T05:44:13.171886Z",
     "shell.execute_reply": "2022-10-15T05:44:13.171022Z",
     "shell.execute_reply.started": "2022-10-15T05:44:13.129386Z"
    }
   },
   "outputs": [
    {
     "data": {
      "text/html": [
       "<div>\n",
       "<style scoped>\n",
       "    .dataframe tbody tr th:only-of-type {\n",
       "        vertical-align: middle;\n",
       "    }\n",
       "\n",
       "    .dataframe tbody tr th {\n",
       "        vertical-align: top;\n",
       "    }\n",
       "\n",
       "    .dataframe thead th {\n",
       "        text-align: right;\n",
       "    }\n",
       "</style>\n",
       "<table border=\"1\" class=\"dataframe\">\n",
       "  <thead>\n",
       "    <tr style=\"text-align: right;\">\n",
       "      <th></th>\n",
       "      <th>ID</th>\n",
       "      <th>Customer_ID</th>\n",
       "      <th>Month</th>\n",
       "      <th>Name</th>\n",
       "      <th>Age</th>\n",
       "      <th>SSN</th>\n",
       "      <th>Occupation</th>\n",
       "      <th>Annual_Income</th>\n",
       "      <th>Monthly_Inhand_Salary</th>\n",
       "      <th>Num_Bank_Accounts</th>\n",
       "      <th>...</th>\n",
       "      <th>Credit_Mix</th>\n",
       "      <th>Outstanding_Debt</th>\n",
       "      <th>Credit_Utilization_Ratio</th>\n",
       "      <th>Credit_History_Age</th>\n",
       "      <th>Payment_of_Min_Amount</th>\n",
       "      <th>Total_EMI_per_month</th>\n",
       "      <th>Amount_invested_monthly</th>\n",
       "      <th>Payment_Behaviour</th>\n",
       "      <th>Monthly_Balance</th>\n",
       "      <th>Credit_Score</th>\n",
       "    </tr>\n",
       "  </thead>\n",
       "  <tbody>\n",
       "    <tr>\n",
       "      <th>10980</th>\n",
       "      <td>0x5656</td>\n",
       "      <td>CUS_0x281d</td>\n",
       "      <td>May</td>\n",
       "      <td>Cheeb</td>\n",
       "      <td>37</td>\n",
       "      <td>510-09-3043</td>\n",
       "      <td>_______</td>\n",
       "      <td>118062.2</td>\n",
       "      <td>10136.516667</td>\n",
       "      <td>0</td>\n",
       "      <td>...</td>\n",
       "      <td>Good</td>\n",
       "      <td>1393.23</td>\n",
       "      <td>29.143092</td>\n",
       "      <td>NaN</td>\n",
       "      <td>No</td>\n",
       "      <td>0.000000</td>\n",
       "      <td>258.60022098525985</td>\n",
       "      <td>High_spent_Medium_value_payments</td>\n",
       "      <td>1005.0514456814067</td>\n",
       "      <td>Standard</td>\n",
       "    </tr>\n",
       "    <tr>\n",
       "      <th>26070</th>\n",
       "      <td>0xaec0</td>\n",
       "      <td>CUS_0x23c1</td>\n",
       "      <td>July</td>\n",
       "      <td>Julien Toyerj</td>\n",
       "      <td>27</td>\n",
       "      <td>338-33-2496</td>\n",
       "      <td>Media_Manager</td>\n",
       "      <td>113207.36</td>\n",
       "      <td>9137.946667</td>\n",
       "      <td>1</td>\n",
       "      <td>...</td>\n",
       "      <td>Good</td>\n",
       "      <td>1289.91</td>\n",
       "      <td>37.823005</td>\n",
       "      <td>29 Years and 11 Months</td>\n",
       "      <td>No</td>\n",
       "      <td>221.745627</td>\n",
       "      <td>571.7386326383328</td>\n",
       "      <td>High_spent_Small_value_payments</td>\n",
       "      <td>380.31040683040044</td>\n",
       "      <td>Good</td>\n",
       "    </tr>\n",
       "    <tr>\n",
       "      <th>42853</th>\n",
       "      <td>0x11117</td>\n",
       "      <td>CUS_0x2acc</td>\n",
       "      <td>June</td>\n",
       "      <td>Sineadg</td>\n",
       "      <td>52</td>\n",
       "      <td>091-30-2808</td>\n",
       "      <td>Manager</td>\n",
       "      <td>108171.63</td>\n",
       "      <td>9095.302500</td>\n",
       "      <td>3</td>\n",
       "      <td>...</td>\n",
       "      <td>Good</td>\n",
       "      <td>461.19</td>\n",
       "      <td>34.414373</td>\n",
       "      <td>29 Years and 8 Months</td>\n",
       "      <td>No</td>\n",
       "      <td>145.870633</td>\n",
       "      <td>103.18443449979671</td>\n",
       "      <td>High_spent_Large_value_payments</td>\n",
       "      <td>900.4751820698109</td>\n",
       "      <td>Standard</td>\n",
       "    </tr>\n",
       "    <tr>\n",
       "      <th>57724</th>\n",
       "      <td>0x1683a</td>\n",
       "      <td>CUS_0x443e</td>\n",
       "      <td>May</td>\n",
       "      <td>Nadia Damounir</td>\n",
       "      <td>37</td>\n",
       "      <td>010-00-5884</td>\n",
       "      <td>Scientist</td>\n",
       "      <td>60537.18</td>\n",
       "      <td>NaN</td>\n",
       "      <td>7</td>\n",
       "      <td>...</td>\n",
       "      <td>Standard</td>\n",
       "      <td>393.5</td>\n",
       "      <td>36.592541</td>\n",
       "      <td>31 Years and 0 Months</td>\n",
       "      <td>Yes</td>\n",
       "      <td>99.211255</td>\n",
       "      <td>119.43208084639971</td>\n",
       "      <td>High_spent_Medium_value_payments</td>\n",
       "      <td>549.6331640972081</td>\n",
       "      <td>Standard</td>\n",
       "    </tr>\n",
       "    <tr>\n",
       "      <th>17535</th>\n",
       "      <td>0x7cbd</td>\n",
       "      <td>CUS_0x3bf3</td>\n",
       "      <td>August</td>\n",
       "      <td>Forgionen</td>\n",
       "      <td>30</td>\n",
       "      <td>416-44-4780</td>\n",
       "      <td>Engineer</td>\n",
       "      <td>83576.26</td>\n",
       "      <td>6912.688333</td>\n",
       "      <td>3</td>\n",
       "      <td>...</td>\n",
       "      <td>Good</td>\n",
       "      <td>1192.96</td>\n",
       "      <td>31.977476</td>\n",
       "      <td>23 Years and 3 Months</td>\n",
       "      <td>No</td>\n",
       "      <td>112.387082</td>\n",
       "      <td>284.7530038666182</td>\n",
       "      <td>Low_spent_Medium_value_payments</td>\n",
       "      <td>574.128747474336</td>\n",
       "      <td>Standard</td>\n",
       "    </tr>\n",
       "    <tr>\n",
       "      <th>12224</th>\n",
       "      <td>0x5da2</td>\n",
       "      <td>CUS_0x3394</td>\n",
       "      <td>January</td>\n",
       "      <td>Nick Brownv</td>\n",
       "      <td>41</td>\n",
       "      <td>787-74-8249</td>\n",
       "      <td>Journalist</td>\n",
       "      <td>39540.78</td>\n",
       "      <td>NaN</td>\n",
       "      <td>7</td>\n",
       "      <td>...</td>\n",
       "      <td>Bad</td>\n",
       "      <td>3506.0</td>\n",
       "      <td>28.941259</td>\n",
       "      <td>10 Years and 3 Months</td>\n",
       "      <td>Yes</td>\n",
       "      <td>227.530865</td>\n",
       "      <td>161.32537864027682</td>\n",
       "      <td>Low_spent_Medium_value_payments</td>\n",
       "      <td>232.15025647778032</td>\n",
       "      <td>Standard</td>\n",
       "    </tr>\n",
       "    <tr>\n",
       "      <th>1913</th>\n",
       "      <td>0x2137</td>\n",
       "      <td>CUS_0x6f38</td>\n",
       "      <td>February</td>\n",
       "      <td>Ransdellj</td>\n",
       "      <td>30</td>\n",
       "      <td>593-29-9633</td>\n",
       "      <td>Entrepreneur</td>\n",
       "      <td>60552.76</td>\n",
       "      <td>NaN</td>\n",
       "      <td>1332</td>\n",
       "      <td>...</td>\n",
       "      <td>_</td>\n",
       "      <td>463.07</td>\n",
       "      <td>25.221363</td>\n",
       "      <td>18 Years and 10 Months</td>\n",
       "      <td>No</td>\n",
       "      <td>111.728820</td>\n",
       "      <td>322.95202504413237</td>\n",
       "      <td>High_spent_Small_value_payments</td>\n",
       "      <td>320.32548821987046</td>\n",
       "      <td>Poor</td>\n",
       "    </tr>\n",
       "    <tr>\n",
       "      <th>17208</th>\n",
       "      <td>0x7ad6</td>\n",
       "      <td>CUS_0x97d5</td>\n",
       "      <td>January</td>\n",
       "      <td>Deutschl</td>\n",
       "      <td>21</td>\n",
       "      <td>401-45-8386</td>\n",
       "      <td>Engineer</td>\n",
       "      <td>18736.83</td>\n",
       "      <td>1682.402500</td>\n",
       "      <td>10</td>\n",
       "      <td>...</td>\n",
       "      <td>Bad</td>\n",
       "      <td>4384.76</td>\n",
       "      <td>28.403108</td>\n",
       "      <td>0 Years and 3 Months</td>\n",
       "      <td>Yes</td>\n",
       "      <td>92.650038</td>\n",
       "      <td>140.7507672773022</td>\n",
       "      <td>Low_spent_Small_value_payments</td>\n",
       "      <td>224.83944464094228</td>\n",
       "      <td>Standard</td>\n",
       "    </tr>\n",
       "    <tr>\n",
       "      <th>83249</th>\n",
       "      <td>0x1fdcb</td>\n",
       "      <td>CUS_0x2f7e</td>\n",
       "      <td>February</td>\n",
       "      <td>Sabina Zawadzkif</td>\n",
       "      <td>31</td>\n",
       "      <td>109-48-2095</td>\n",
       "      <td>Doctor</td>\n",
       "      <td>126353.04</td>\n",
       "      <td>10635.420000</td>\n",
       "      <td>4</td>\n",
       "      <td>...</td>\n",
       "      <td>_</td>\n",
       "      <td>859.77</td>\n",
       "      <td>29.813305</td>\n",
       "      <td>31 Years and 3 Months</td>\n",
       "      <td>NM</td>\n",
       "      <td>167.043910</td>\n",
       "      <td>147.7759837301983</td>\n",
       "      <td>High_spent_Large_value_payments</td>\n",
       "      <td>988.7221060294014</td>\n",
       "      <td>Standard</td>\n",
       "    </tr>\n",
       "    <tr>\n",
       "      <th>13380</th>\n",
       "      <td>0x6466</td>\n",
       "      <td>CUS_0x8a2b</td>\n",
       "      <td>May</td>\n",
       "      <td>Donny Kwokw</td>\n",
       "      <td>35</td>\n",
       "      <td>096-57-2895</td>\n",
       "      <td>Accountant</td>\n",
       "      <td>28163.57</td>\n",
       "      <td>2466.964167</td>\n",
       "      <td>6</td>\n",
       "      <td>...</td>\n",
       "      <td>_</td>\n",
       "      <td>58.26</td>\n",
       "      <td>35.155391</td>\n",
       "      <td>NaN</td>\n",
       "      <td>Yes</td>\n",
       "      <td>73.020322</td>\n",
       "      <td>149.7056284108695</td>\n",
       "      <td>High_spent_Small_value_payments</td>\n",
       "      <td>283.97046654178587</td>\n",
       "      <td>Standard</td>\n",
       "    </tr>\n",
       "  </tbody>\n",
       "</table>\n",
       "<p>10 rows × 28 columns</p>\n",
       "</div>"
      ],
      "text/plain": [
       "            ID Customer_ID     Month              Name Age          SSN  \\\n",
       "10980   0x5656  CUS_0x281d       May             Cheeb  37  510-09-3043   \n",
       "26070   0xaec0  CUS_0x23c1      July     Julien Toyerj  27  338-33-2496   \n",
       "42853  0x11117  CUS_0x2acc      June           Sineadg  52  091-30-2808   \n",
       "57724  0x1683a  CUS_0x443e       May    Nadia Damounir  37  010-00-5884   \n",
       "17535   0x7cbd  CUS_0x3bf3    August         Forgionen  30  416-44-4780   \n",
       "12224   0x5da2  CUS_0x3394   January       Nick Brownv  41  787-74-8249   \n",
       "1913    0x2137  CUS_0x6f38  February         Ransdellj  30  593-29-9633   \n",
       "17208   0x7ad6  CUS_0x97d5   January          Deutschl  21  401-45-8386   \n",
       "83249  0x1fdcb  CUS_0x2f7e  February  Sabina Zawadzkif  31  109-48-2095   \n",
       "13380   0x6466  CUS_0x8a2b       May       Donny Kwokw  35  096-57-2895   \n",
       "\n",
       "          Occupation Annual_Income  Monthly_Inhand_Salary  Num_Bank_Accounts  \\\n",
       "10980        _______      118062.2           10136.516667                  0   \n",
       "26070  Media_Manager     113207.36            9137.946667                  1   \n",
       "42853        Manager     108171.63            9095.302500                  3   \n",
       "57724      Scientist      60537.18                    NaN                  7   \n",
       "17535       Engineer      83576.26            6912.688333                  3   \n",
       "12224     Journalist      39540.78                    NaN                  7   \n",
       "1913    Entrepreneur      60552.76                    NaN               1332   \n",
       "17208       Engineer      18736.83            1682.402500                 10   \n",
       "83249         Doctor     126353.04           10635.420000                  4   \n",
       "13380     Accountant      28163.57            2466.964167                  6   \n",
       "\n",
       "       ...  Credit_Mix  Outstanding_Debt Credit_Utilization_Ratio  \\\n",
       "10980  ...        Good           1393.23                29.143092   \n",
       "26070  ...        Good           1289.91                37.823005   \n",
       "42853  ...        Good            461.19                34.414373   \n",
       "57724  ...    Standard             393.5                36.592541   \n",
       "17535  ...        Good           1192.96                31.977476   \n",
       "12224  ...         Bad            3506.0                28.941259   \n",
       "1913   ...           _            463.07                25.221363   \n",
       "17208  ...         Bad           4384.76                28.403108   \n",
       "83249  ...           _            859.77                29.813305   \n",
       "13380  ...           _             58.26                35.155391   \n",
       "\n",
       "           Credit_History_Age  Payment_of_Min_Amount Total_EMI_per_month  \\\n",
       "10980                     NaN                     No            0.000000   \n",
       "26070  29 Years and 11 Months                     No          221.745627   \n",
       "42853   29 Years and 8 Months                     No          145.870633   \n",
       "57724   31 Years and 0 Months                    Yes           99.211255   \n",
       "17535   23 Years and 3 Months                     No          112.387082   \n",
       "12224   10 Years and 3 Months                    Yes          227.530865   \n",
       "1913   18 Years and 10 Months                     No          111.728820   \n",
       "17208    0 Years and 3 Months                    Yes           92.650038   \n",
       "83249   31 Years and 3 Months                     NM          167.043910   \n",
       "13380                     NaN                    Yes           73.020322   \n",
       "\n",
       "      Amount_invested_monthly                 Payment_Behaviour  \\\n",
       "10980      258.60022098525985  High_spent_Medium_value_payments   \n",
       "26070       571.7386326383328   High_spent_Small_value_payments   \n",
       "42853      103.18443449979671   High_spent_Large_value_payments   \n",
       "57724      119.43208084639971  High_spent_Medium_value_payments   \n",
       "17535       284.7530038666182   Low_spent_Medium_value_payments   \n",
       "12224      161.32537864027682   Low_spent_Medium_value_payments   \n",
       "1913       322.95202504413237   High_spent_Small_value_payments   \n",
       "17208       140.7507672773022    Low_spent_Small_value_payments   \n",
       "83249       147.7759837301983   High_spent_Large_value_payments   \n",
       "13380       149.7056284108695   High_spent_Small_value_payments   \n",
       "\n",
       "          Monthly_Balance Credit_Score  \n",
       "10980  1005.0514456814067     Standard  \n",
       "26070  380.31040683040044         Good  \n",
       "42853   900.4751820698109     Standard  \n",
       "57724   549.6331640972081     Standard  \n",
       "17535    574.128747474336     Standard  \n",
       "12224  232.15025647778032     Standard  \n",
       "1913   320.32548821987046         Poor  \n",
       "17208  224.83944464094228     Standard  \n",
       "83249   988.7221060294014     Standard  \n",
       "13380  283.97046654178587     Standard  \n",
       "\n",
       "[10 rows x 28 columns]"
      ]
     },
     "execution_count": 8,
     "metadata": {},
     "output_type": "execute_result"
    }
   ],
   "source": [
    "df.sample(10)"
   ]
  },
  {
   "cell_type": "markdown",
   "id": "05a587f8",
   "metadata": {},
   "source": [
    "## Data Exploration"
   ]
  },
  {
   "cell_type": "code",
   "execution_count": 9,
   "id": "023758d0",
   "metadata": {
    "execution": {
     "iopub.execute_input": "2022-10-15T05:44:13.174781Z",
     "iopub.status.busy": "2022-10-15T05:44:13.174459Z",
     "iopub.status.idle": "2022-10-15T05:44:13.180380Z",
     "shell.execute_reply": "2022-10-15T05:44:13.179475Z",
     "shell.execute_reply.started": "2022-10-15T05:44:13.174740Z"
    }
   },
   "outputs": [
    {
     "data": {
      "text/plain": [
       "(100000, 28)"
      ]
     },
     "execution_count": 9,
     "metadata": {},
     "output_type": "execute_result"
    }
   ],
   "source": [
    "df.shape"
   ]
  },
  {
   "cell_type": "code",
   "execution_count": 10,
   "id": "f7a160a8",
   "metadata": {
    "execution": {
     "iopub.execute_input": "2022-10-15T05:44:13.182211Z",
     "iopub.status.busy": "2022-10-15T05:44:13.181696Z",
     "iopub.status.idle": "2022-10-15T05:44:13.302574Z",
     "shell.execute_reply": "2022-10-15T05:44:13.301984Z",
     "shell.execute_reply.started": "2022-10-15T05:44:13.182182Z"
    }
   },
   "outputs": [
    {
     "name": "stdout",
     "output_type": "stream",
     "text": [
      "<class 'pandas.core.frame.DataFrame'>\n",
      "RangeIndex: 100000 entries, 0 to 99999\n",
      "Data columns (total 28 columns):\n",
      " #   Column                    Non-Null Count   Dtype  \n",
      "---  ------                    --------------   -----  \n",
      " 0   ID                        100000 non-null  object \n",
      " 1   Customer_ID               100000 non-null  object \n",
      " 2   Month                     100000 non-null  object \n",
      " 3   Name                      90015 non-null   object \n",
      " 4   Age                       100000 non-null  object \n",
      " 5   SSN                       100000 non-null  object \n",
      " 6   Occupation                100000 non-null  object \n",
      " 7   Annual_Income             100000 non-null  object \n",
      " 8   Monthly_Inhand_Salary     84998 non-null   float64\n",
      " 9   Num_Bank_Accounts         100000 non-null  int64  \n",
      " 10  Num_Credit_Card           100000 non-null  int64  \n",
      " 11  Interest_Rate             100000 non-null  int64  \n",
      " 12  Num_of_Loan               100000 non-null  object \n",
      " 13  Type_of_Loan              88592 non-null   object \n",
      " 14  Delay_from_due_date       100000 non-null  int64  \n",
      " 15  Num_of_Delayed_Payment    92998 non-null   object \n",
      " 16  Changed_Credit_Limit      100000 non-null  object \n",
      " 17  Num_Credit_Inquiries      98035 non-null   float64\n",
      " 18  Credit_Mix                100000 non-null  object \n",
      " 19  Outstanding_Debt          100000 non-null  object \n",
      " 20  Credit_Utilization_Ratio  100000 non-null  float64\n",
      " 21  Credit_History_Age        90970 non-null   object \n",
      " 22  Payment_of_Min_Amount     100000 non-null  object \n",
      " 23  Total_EMI_per_month       100000 non-null  float64\n",
      " 24  Amount_invested_monthly   95521 non-null   object \n",
      " 25  Payment_Behaviour         100000 non-null  object \n",
      " 26  Monthly_Balance           98800 non-null   object \n",
      " 27  Credit_Score              100000 non-null  object \n",
      "dtypes: float64(4), int64(4), object(20)\n",
      "memory usage: 21.4+ MB\n"
     ]
    }
   ],
   "source": [
    "df.info()"
   ]
  },
  {
   "cell_type": "code",
   "execution_count": 11,
   "id": "6ca1ceb7",
   "metadata": {
    "execution": {
     "iopub.execute_input": "2022-10-15T05:44:13.304143Z",
     "iopub.status.busy": "2022-10-15T05:44:13.303729Z",
     "iopub.status.idle": "2022-10-15T05:44:13.358928Z",
     "shell.execute_reply": "2022-10-15T05:44:13.358355Z",
     "shell.execute_reply.started": "2022-10-15T05:44:13.304092Z"
    }
   },
   "outputs": [
    {
     "data": {
      "text/html": [
       "<div>\n",
       "<style scoped>\n",
       "    .dataframe tbody tr th:only-of-type {\n",
       "        vertical-align: middle;\n",
       "    }\n",
       "\n",
       "    .dataframe tbody tr th {\n",
       "        vertical-align: top;\n",
       "    }\n",
       "\n",
       "    .dataframe thead th {\n",
       "        text-align: right;\n",
       "    }\n",
       "</style>\n",
       "<table border=\"1\" class=\"dataframe\">\n",
       "  <thead>\n",
       "    <tr style=\"text-align: right;\">\n",
       "      <th></th>\n",
       "      <th>Monthly_Inhand_Salary</th>\n",
       "      <th>Num_Bank_Accounts</th>\n",
       "      <th>Num_Credit_Card</th>\n",
       "      <th>Interest_Rate</th>\n",
       "      <th>Delay_from_due_date</th>\n",
       "      <th>Num_Credit_Inquiries</th>\n",
       "      <th>Credit_Utilization_Ratio</th>\n",
       "      <th>Total_EMI_per_month</th>\n",
       "    </tr>\n",
       "  </thead>\n",
       "  <tbody>\n",
       "    <tr>\n",
       "      <th>count</th>\n",
       "      <td>84998.000000</td>\n",
       "      <td>100000.000000</td>\n",
       "      <td>100000.00000</td>\n",
       "      <td>100000.000000</td>\n",
       "      <td>100000.000000</td>\n",
       "      <td>98035.000000</td>\n",
       "      <td>100000.000000</td>\n",
       "      <td>100000.000000</td>\n",
       "    </tr>\n",
       "    <tr>\n",
       "      <th>mean</th>\n",
       "      <td>4194.170850</td>\n",
       "      <td>17.091280</td>\n",
       "      <td>22.47443</td>\n",
       "      <td>72.466040</td>\n",
       "      <td>21.068780</td>\n",
       "      <td>27.754251</td>\n",
       "      <td>32.285173</td>\n",
       "      <td>1403.118217</td>\n",
       "    </tr>\n",
       "    <tr>\n",
       "      <th>std</th>\n",
       "      <td>3183.686167</td>\n",
       "      <td>117.404834</td>\n",
       "      <td>129.05741</td>\n",
       "      <td>466.422621</td>\n",
       "      <td>14.860104</td>\n",
       "      <td>193.177339</td>\n",
       "      <td>5.116875</td>\n",
       "      <td>8306.041270</td>\n",
       "    </tr>\n",
       "    <tr>\n",
       "      <th>min</th>\n",
       "      <td>303.645417</td>\n",
       "      <td>-1.000000</td>\n",
       "      <td>0.00000</td>\n",
       "      <td>1.000000</td>\n",
       "      <td>-5.000000</td>\n",
       "      <td>0.000000</td>\n",
       "      <td>20.000000</td>\n",
       "      <td>0.000000</td>\n",
       "    </tr>\n",
       "    <tr>\n",
       "      <th>25%</th>\n",
       "      <td>1625.568229</td>\n",
       "      <td>3.000000</td>\n",
       "      <td>4.00000</td>\n",
       "      <td>8.000000</td>\n",
       "      <td>10.000000</td>\n",
       "      <td>3.000000</td>\n",
       "      <td>28.052567</td>\n",
       "      <td>30.306660</td>\n",
       "    </tr>\n",
       "    <tr>\n",
       "      <th>50%</th>\n",
       "      <td>3093.745000</td>\n",
       "      <td>6.000000</td>\n",
       "      <td>5.00000</td>\n",
       "      <td>13.000000</td>\n",
       "      <td>18.000000</td>\n",
       "      <td>6.000000</td>\n",
       "      <td>32.305784</td>\n",
       "      <td>69.249473</td>\n",
       "    </tr>\n",
       "    <tr>\n",
       "      <th>75%</th>\n",
       "      <td>5957.448333</td>\n",
       "      <td>7.000000</td>\n",
       "      <td>7.00000</td>\n",
       "      <td>20.000000</td>\n",
       "      <td>28.000000</td>\n",
       "      <td>9.000000</td>\n",
       "      <td>36.496663</td>\n",
       "      <td>161.224249</td>\n",
       "    </tr>\n",
       "    <tr>\n",
       "      <th>max</th>\n",
       "      <td>15204.633333</td>\n",
       "      <td>1798.000000</td>\n",
       "      <td>1499.00000</td>\n",
       "      <td>5797.000000</td>\n",
       "      <td>67.000000</td>\n",
       "      <td>2597.000000</td>\n",
       "      <td>50.000000</td>\n",
       "      <td>82331.000000</td>\n",
       "    </tr>\n",
       "  </tbody>\n",
       "</table>\n",
       "</div>"
      ],
      "text/plain": [
       "       Monthly_Inhand_Salary  Num_Bank_Accounts  Num_Credit_Card  \\\n",
       "count           84998.000000      100000.000000     100000.00000   \n",
       "mean             4194.170850          17.091280         22.47443   \n",
       "std              3183.686167         117.404834        129.05741   \n",
       "min               303.645417          -1.000000          0.00000   \n",
       "25%              1625.568229           3.000000          4.00000   \n",
       "50%              3093.745000           6.000000          5.00000   \n",
       "75%              5957.448333           7.000000          7.00000   \n",
       "max             15204.633333        1798.000000       1499.00000   \n",
       "\n",
       "       Interest_Rate  Delay_from_due_date  Num_Credit_Inquiries  \\\n",
       "count  100000.000000        100000.000000          98035.000000   \n",
       "mean       72.466040            21.068780             27.754251   \n",
       "std       466.422621            14.860104            193.177339   \n",
       "min         1.000000            -5.000000              0.000000   \n",
       "25%         8.000000            10.000000              3.000000   \n",
       "50%        13.000000            18.000000              6.000000   \n",
       "75%        20.000000            28.000000              9.000000   \n",
       "max      5797.000000            67.000000           2597.000000   \n",
       "\n",
       "       Credit_Utilization_Ratio  Total_EMI_per_month  \n",
       "count             100000.000000        100000.000000  \n",
       "mean                  32.285173          1403.118217  \n",
       "std                    5.116875          8306.041270  \n",
       "min                   20.000000             0.000000  \n",
       "25%                   28.052567            30.306660  \n",
       "50%                   32.305784            69.249473  \n",
       "75%                   36.496663           161.224249  \n",
       "max                   50.000000         82331.000000  "
      ]
     },
     "execution_count": 11,
     "metadata": {},
     "output_type": "execute_result"
    }
   ],
   "source": [
    "df.describe()"
   ]
  },
  {
   "cell_type": "code",
   "execution_count": 12,
   "id": "f51ad7dc",
   "metadata": {
    "execution": {
     "iopub.execute_input": "2022-10-15T05:44:13.360497Z",
     "iopub.status.busy": "2022-10-15T05:44:13.360219Z",
     "iopub.status.idle": "2022-10-15T05:44:13.640611Z",
     "shell.execute_reply": "2022-10-15T05:44:13.639734Z",
     "shell.execute_reply.started": "2022-10-15T05:44:13.360471Z"
    }
   },
   "outputs": [
    {
     "data": {
      "text/plain": [
       "0"
      ]
     },
     "execution_count": 12,
     "metadata": {},
     "output_type": "execute_result"
    }
   ],
   "source": [
    "df.duplicated().sum()"
   ]
  },
  {
   "cell_type": "code",
   "execution_count": 13,
   "id": "b8e759e5",
   "metadata": {
    "execution": {
     "iopub.execute_input": "2022-10-15T05:44:13.642580Z",
     "iopub.status.busy": "2022-10-15T05:44:13.642060Z",
     "iopub.status.idle": "2022-10-15T05:44:14.038424Z",
     "shell.execute_reply": "2022-10-15T05:44:14.037582Z",
     "shell.execute_reply.started": "2022-10-15T05:44:13.642538Z"
    }
   },
   "outputs": [
    {
     "data": {
      "image/png": "[encoded data removed]",
      "text/plain": [
       "<Figure size 1008x504 with 1 Axes>"
      ]
     },
     "metadata": {},
     "output_type": "display_data"
    }
   ],
   "source": [
    "sns.countplot(df['Month'],palette=\"mako\");"
   ]
  },
  {
   "cell_type": "code",
   "execution_count": 14,
   "id": "8e623876",
   "metadata": {
    "execution": {
     "iopub.execute_input": "2022-10-15T05:44:14.040485Z",
     "iopub.status.busy": "2022-10-15T05:44:14.039957Z",
     "iopub.status.idle": "2022-10-15T05:44:14.515238Z",
     "shell.execute_reply": "2022-10-15T05:44:14.514370Z",
     "shell.execute_reply.started": "2022-10-15T05:44:14.040443Z"
    }
   },
   "outputs": [
    {
     "data": {
      "image/png": "[encoded data removed]",
      "text/plain": [
       "<Figure size 1008x504 with 1 Axes>"
      ]
     },
     "metadata": {},
     "output_type": "display_data"
    }
   ],
   "source": [
    "sns.countplot(df['Occupation'],palette=\"mako\");\n",
    "plt.xticks(rotation=45);"
   ]
  },
  {
   "cell_type": "code",
   "execution_count": 15,
   "id": "63fcf833",
   "metadata": {
    "execution": {
     "iopub.execute_input": "2022-10-15T05:44:14.517915Z",
     "iopub.status.busy": "2022-10-15T05:44:14.517688Z",
     "iopub.status.idle": "2022-10-15T05:44:14.846076Z",
     "shell.execute_reply": "2022-10-15T05:44:14.845234Z",
     "shell.execute_reply.started": "2022-10-15T05:44:14.517889Z"
    }
   },
   "outputs": [
    {
     "data": {
      "image/png": "[encoded data removed]",
      "text/plain": [
       "<Figure size 1008x504 with 1 Axes>"
      ]
     },
     "metadata": {},
     "output_type": "display_data"
    }
   ],
   "source": [
    "sns.countplot(df['Credit_Mix'],palette=\"mako\");\n",
    "plt.xticks(rotation=45);"
   ]
  },
  {
   "cell_type": "code",
   "execution_count": 16,
   "id": "b4af99c7",
   "metadata": {
    "execution": {
     "iopub.execute_input": "2022-10-15T05:44:14.847373Z",
     "iopub.status.busy": "2022-10-15T05:44:14.847121Z",
     "iopub.status.idle": "2022-10-15T05:44:15.148010Z",
     "shell.execute_reply": "2022-10-15T05:44:15.147160Z",
     "shell.execute_reply.started": "2022-10-15T05:44:14.847347Z"
    }
   },
   "outputs": [
    {
     "data": {
      "image/png": "[encoded data removed]",
      "text/plain": [
       "<Figure size 1008x504 with 1 Axes>"
      ]
     },
     "metadata": {},
     "output_type": "display_data"
    }
   ],
   "source": [
    "sns.countplot(df['Payment_of_Min_Amount'],palette=\"mako\");\n",
    "plt.xticks(rotation=45);"
   ]
  },
  {
   "cell_type": "code",
   "execution_count": 17,
   "id": "7ed468b1",
   "metadata": {
    "execution": {
     "iopub.execute_input": "2022-10-15T05:44:15.149388Z",
     "iopub.status.busy": "2022-10-15T05:44:15.149152Z",
     "iopub.status.idle": "2022-10-15T05:44:15.570019Z",
     "shell.execute_reply": "2022-10-15T05:44:15.569330Z",
     "shell.execute_reply.started": "2022-10-15T05:44:15.149361Z"
    }
   },
   "outputs": [
    {
     "data": {
      "image/png": "[encoded data removed]",
      "text/plain": [
       "<Figure size 1008x504 with 1 Axes>"
      ]
     },
     "metadata": {},
     "output_type": "display_data"
    }
   ],
   "source": [
    "sns.countplot(df['Payment_Behaviour'],palette=\"mako\");\n",
    "plt.xticks(rotation=45);"
   ]
  },
  {
   "cell_type": "markdown",
   "id": "b569de76",
   "metadata": {},
   "source": [
    "# Plotting The Target "
   ]
  },
  {
   "cell_type": "code",
   "execution_count": 18,
   "id": "df131c4f",
   "metadata": {
    "execution": {
     "iopub.execute_input": "2022-10-15T05:44:15.571699Z",
     "iopub.status.busy": "2022-10-15T05:44:15.571253Z",
     "iopub.status.idle": "2022-10-15T05:44:15.875646Z",
     "shell.execute_reply": "2022-10-15T05:44:15.875049Z",
     "shell.execute_reply.started": "2022-10-15T05:44:15.571668Z"
    }
   },
   "outputs": [
    {
     "data": {
      "image/png": "[encoded data removed]",
      "text/plain": [
       "<Figure size 1008x504 with 1 Axes>"
      ]
     },
     "metadata": {},
     "output_type": "display_data"
    }
   ],
   "source": [
    "sns.countplot(df['Credit_Score'],palette=\"mako\");\n",
    "plt.xticks(rotation=45);"
   ]
  },
  {
   "cell_type": "code",
   "execution_count": 19,
   "id": "55eee891",
   "metadata": {
    "execution": {
     "iopub.execute_input": "2022-10-15T05:44:15.877130Z",
     "iopub.status.busy": "2022-10-15T05:44:15.876881Z",
     "iopub.status.idle": "2022-10-15T05:44:15.888635Z",
     "shell.execute_reply": "2022-10-15T05:44:15.887931Z",
     "shell.execute_reply.started": "2022-10-15T05:44:15.877100Z"
    }
   },
   "outputs": [
    {
     "data": {
      "text/plain": [
       "Standard    0.53174\n",
       "Poor        0.28998\n",
       "Good        0.17828\n",
       "Name: Credit_Score, dtype: float64"
      ]
     },
     "execution_count": 19,
     "metadata": {},
     "output_type": "execute_result"
    }
   ],
   "source": [
    "df['Credit_Score'].value_counts(normalize=True)"
   ]
  },
  {
   "cell_type": "code",
   "execution_count": 20,
   "id": "c0000606",
   "metadata": {
    "execution": {
     "iopub.execute_input": "2022-10-15T05:44:15.889927Z",
     "iopub.status.busy": "2022-10-15T05:44:15.889695Z",
     "iopub.status.idle": "2022-10-15T05:44:16.876143Z",
     "shell.execute_reply": "2022-10-15T05:44:16.875232Z",
     "shell.execute_reply.started": "2022-10-15T05:44:15.889901Z"
    }
   },
   "outputs": [
    {
     "data": {
      "image/png": "[encoded data removed]",
      "text/plain": [
       "<Figure size 1008x504 with 1 Axes>"
      ]
     },
     "metadata": {},
     "output_type": "display_data"
    }
   ],
   "source": [
    "sns.distplot(df['Monthly_Inhand_Salary']);"
   ]
  },
  {
   "cell_type": "code",
   "execution_count": 21,
   "id": "56aa8ea2",
   "metadata": {
    "execution": {
     "iopub.execute_input": "2022-10-15T05:44:16.877844Z",
     "iopub.status.busy": "2022-10-15T05:44:16.877581Z",
     "iopub.status.idle": "2022-10-15T05:44:17.832415Z",
     "shell.execute_reply": "2022-10-15T05:44:17.831404Z",
     "shell.execute_reply.started": "2022-10-15T05:44:16.877813Z"
    }
   },
   "outputs": [
    {
     "data": {
      "image/png": "[encoded data removed]",
      "text/plain": [
       "<Figure size 1008x504 with 1 Axes>"
      ]
     },
     "metadata": {},
     "output_type": "display_data"
    }
   ],
   "source": [
    "sns.distplot(df['Num_Bank_Accounts']);"
   ]
  },
  {
   "cell_type": "code",
   "execution_count": 22,
   "id": "67cf65db",
   "metadata": {
    "execution": {
     "iopub.execute_input": "2022-10-15T05:44:17.834382Z",
     "iopub.status.busy": "2022-10-15T05:44:17.833847Z",
     "iopub.status.idle": "2022-10-15T05:44:18.802282Z",
     "shell.execute_reply": "2022-10-15T05:44:18.801485Z",
     "shell.execute_reply.started": "2022-10-15T05:44:17.834326Z"
    }
   },
   "outputs": [
    {
     "data": {
      "image/png": "[encoded data removed]",
      "text/plain": [
       "<Figure size 1008x504 with 1 Axes>"
      ]
     },
     "metadata": {},
     "output_type": "display_data"
    }
   ],
   "source": [
    "sns.distplot(df['Num_Credit_Card']);"
   ]
  },
  {
   "cell_type": "code",
   "execution_count": 23,
   "id": "b1f09d18",
   "metadata": {
    "execution": {
     "iopub.execute_input": "2022-10-15T05:44:18.803517Z",
     "iopub.status.busy": "2022-10-15T05:44:18.803303Z",
     "iopub.status.idle": "2022-10-15T05:44:19.769181Z",
     "shell.execute_reply": "2022-10-15T05:44:19.768555Z",
     "shell.execute_reply.started": "2022-10-15T05:44:18.803492Z"
    }
   },
   "outputs": [
    {
     "data": {
      "image/png": "[encoded data removed]",
      "text/plain": [
       "<Figure size 1008x504 with 1 Axes>"
      ]
     },
     "metadata": {},
     "output_type": "display_data"
    }
   ],
   "source": [
    "sns.distplot(df['Interest_Rate']);"
   ]
  },
  {
   "cell_type": "code",
   "execution_count": 24,
   "id": "77fcec5f",
   "metadata": {
    "execution": {
     "iopub.execute_input": "2022-10-15T05:44:19.770987Z",
     "iopub.status.busy": "2022-10-15T05:44:19.770533Z",
     "iopub.status.idle": "2022-10-15T05:44:20.820131Z",
     "shell.execute_reply": "2022-10-15T05:44:20.819215Z",
     "shell.execute_reply.started": "2022-10-15T05:44:19.770954Z"
    }
   },
   "outputs": [
    {
     "data": {
      "image/png": "[encoded data removed]",
      "text/plain": [
       "<Figure size 1008x504 with 1 Axes>"
      ]
     },
     "metadata": {},
     "output_type": "display_data"
    }
   ],
   "source": [
    "sns.distplot(df['Delay_from_due_date']);"
   ]
  },
  {
   "cell_type": "code",
   "execution_count": 25,
   "id": "d7488148",
   "metadata": {
    "execution": {
     "iopub.execute_input": "2022-10-15T05:44:20.821478Z",
     "iopub.status.busy": "2022-10-15T05:44:20.821218Z",
     "iopub.status.idle": "2022-10-15T05:44:21.755949Z",
     "shell.execute_reply": "2022-10-15T05:44:21.755368Z",
     "shell.execute_reply.started": "2022-10-15T05:44:20.821449Z"
    }
   },
   "outputs": [
    {
     "data": {
      "image/png": "[encoded data removed]",
      "text/plain": [
       "<Figure size 1008x504 with 1 Axes>"
      ]
     },
     "metadata": {},
     "output_type": "display_data"
    }
   ],
   "source": [
    "sns.distplot(df['Num_Credit_Inquiries']);"
   ]
  },
  {
   "cell_type": "code",
   "execution_count": 26,
   "id": "8e3b33d5",
   "metadata": {
    "execution": {
     "iopub.execute_input": "2022-10-15T05:44:21.757618Z",
     "iopub.status.busy": "2022-10-15T05:44:21.756928Z",
     "iopub.status.idle": "2022-10-15T05:44:22.944130Z",
     "shell.execute_reply": "2022-10-15T05:44:22.943246Z",
     "shell.execute_reply.started": "2022-10-15T05:44:21.757585Z"
    }
   },
   "outputs": [
    {
     "data": {
      "image/png": "[encoded data removed]",
      "text/plain": [
       "<Figure size 1008x504 with 1 Axes>"
      ]
     },
     "metadata": {},
     "output_type": "display_data"
    }
   ],
   "source": [
    "sns.distplot(df['Credit_Utilization_Ratio']);"
   ]
  },
  {
   "cell_type": "code",
   "execution_count": 27,
   "id": "a40d942b",
   "metadata": {
    "execution": {
     "iopub.execute_input": "2022-10-15T05:44:22.945532Z",
     "iopub.status.busy": "2022-10-15T05:44:22.945296Z",
     "iopub.status.idle": "2022-10-15T05:44:23.908248Z",
     "shell.execute_reply": "2022-10-15T05:44:23.907593Z",
     "shell.execute_reply.started": "2022-10-15T05:44:22.945504Z"
    }
   },
   "outputs": [
    {
     "data": {
      "image/png": "[encoded data removed]",
      "text/plain": [
       "<Figure size 1008x504 with 1 Axes>"
      ]
     },
     "metadata": {},
     "output_type": "display_data"
    }
   ],
   "source": [
    "sns.distplot(df['Total_EMI_per_month']);"
   ]
  },
  {
   "cell_type": "code",
   "execution_count": 28,
   "id": "eaf3889b",
   "metadata": {
    "execution": {
     "iopub.execute_input": "2022-10-15T05:44:23.909824Z",
     "iopub.status.busy": "2022-10-15T05:44:23.909463Z",
     "iopub.status.idle": "2022-10-15T05:44:23.925978Z",
     "shell.execute_reply": "2022-10-15T05:44:23.924714Z",
     "shell.execute_reply.started": "2022-10-15T05:44:23.909781Z"
    }
   },
   "outputs": [
    {
     "data": {
      "text/plain": [
       "Not Specified                      1408\n",
       "Credit-Builder Loan                1280\n",
       "Personal Loan                      1272\n",
       "Debt Consolidation Loan            1264\n",
       "Student Loan                       1240\n",
       "Payday Loan                        1200\n",
       "Mortgage Loan                      1176\n",
       "Auto Loan                          1152\n",
       "Home Equity Loan                   1136\n",
       "Personal Loan, and Student Loan     320\n",
       "Name: Type_of_Loan, dtype: int64"
      ]
     },
     "execution_count": 28,
     "metadata": {},
     "output_type": "execute_result"
    }
   ],
   "source": [
    "df['Type_of_Loan'].value_counts().head(10)"
   ]
  },
  {
   "cell_type": "markdown",
   "id": "d47af114",
   "metadata": {},
   "source": [
    "### Identify issues \n",
    "1. ~~ID, Name and SSN (Not useful)~~\n",
    "2. Age, Annual_Income, Num_of_Loan, Num_of_Delayed_Payment, Changed_Credit_Limit, Amount_invested_monthly, Outstanding_Debt Credit_Mix, Monthly_Balance __Numerical but show as catogery (need to be fixed)__\n",
    "3. Occupation, Credit_Mix has value \"_____\"\n",
    "4. Data contains outliers \n",
    "5. Num_Credit_Card has __zeros__\n",
    "6. Type_of_Loan Need to rewrite as 8 columns \n",
    "7. Num_Bank_Accounts contains negative values\n",
    "8. Credit_History_Age,Payment_of_Min_Amount,Payment_Behaviour,'Credit_Mix' (needs Feature Engineering)\n",
    "9. Target Columns is Imbalanced\n",
    "10. A lot of missing data "
   ]
  },
  {
   "cell_type": "markdown",
   "id": "6a7f044b",
   "metadata": {},
   "source": [
    "## Data cleaning"
   ]
  },
  {
   "cell_type": "markdown",
   "id": "3c72a88b",
   "metadata": {},
   "source": [
    "#### removing unuseful Columns (Uniques)"
   ]
  },
  {
   "cell_type": "code",
   "execution_count": 29,
   "id": "928f3bac",
   "metadata": {
    "execution": {
     "iopub.execute_input": "2022-10-15T05:44:23.927602Z",
     "iopub.status.busy": "2022-10-15T05:44:23.927332Z",
     "iopub.status.idle": "2022-10-15T05:44:23.941231Z",
     "shell.execute_reply": "2022-10-15T05:44:23.940350Z",
     "shell.execute_reply.started": "2022-10-15T05:44:23.927567Z"
    }
   },
   "outputs": [],
   "source": [
    "del df['ID'] # Identification \n",
    "del df['Name'] # Name of client \n",
    "del df['SSN'] # SSN (social security number of a person)"
   ]
  },
  {
   "cell_type": "markdown",
   "id": "867ca7b3",
   "metadata": {},
   "source": [
    "#### Fix Numerical Columns "
   ]
  },
  {
   "cell_type": "markdown",
   "id": "0c3eac3c",
   "metadata": {},
   "source": [
    "1. replace _  \n",
    "2. convert into float "
   ]
  },
  {
   "cell_type": "code",
   "execution_count": 30,
   "id": "5533aaf4",
   "metadata": {
    "execution": {
     "iopub.execute_input": "2022-10-15T05:44:23.943198Z",
     "iopub.status.busy": "2022-10-15T05:44:23.942898Z",
     "iopub.status.idle": "2022-10-15T05:44:23.954460Z",
     "shell.execute_reply": "2022-10-15T05:44:23.953389Z",
     "shell.execute_reply.started": "2022-10-15T05:44:23.943163Z"
    }
   },
   "outputs": [],
   "source": [
    "N_to_fix = ['Age', 'Annual_Income', 'Num_of_Loan', 'Num_of_Delayed_Payment', 'Changed_Credit_Limit', 'Amount_invested_monthly', 'Outstanding_Debt' , 'Monthly_Balance']"
   ]
  },
  {
   "cell_type": "code",
   "execution_count": 31,
   "id": "46eb009b",
   "metadata": {
    "execution": {
     "iopub.execute_input": "2022-10-15T05:44:23.956026Z",
     "iopub.status.busy": "2022-10-15T05:44:23.955726Z",
     "iopub.status.idle": "2022-10-15T05:44:23.966071Z",
     "shell.execute_reply": "2022-10-15T05:44:23.965208Z",
     "shell.execute_reply.started": "2022-10-15T05:44:23.955992Z"
    }
   },
   "outputs": [],
   "source": [
    "def fix_nums(num):\n",
    "    try : \n",
    "        return float(num.replace(\"_\",\"\"))\n",
    "    except :\n",
    "        return np.nan"
   ]
  },
  {
   "cell_type": "code",
   "execution_count": 32,
   "id": "16652fd2",
   "metadata": {
    "execution": {
     "iopub.execute_input": "2022-10-15T05:44:23.967836Z",
     "iopub.status.busy": "2022-10-15T05:44:23.967532Z",
     "iopub.status.idle": "2022-10-15T05:44:24.484061Z",
     "shell.execute_reply": "2022-10-15T05:44:24.483253Z",
     "shell.execute_reply.started": "2022-10-15T05:44:23.967801Z"
    }
   },
   "outputs": [],
   "source": [
    "for col in N_to_fix :\n",
    "    df[col] = df[col].apply(fix_nums)"
   ]
  },
  {
   "cell_type": "markdown",
   "id": "4b58c2b0",
   "metadata": {},
   "source": [
    "### Type_of_Loan"
   ]
  },
  {
   "cell_type": "code",
   "execution_count": 33,
   "id": "32d870fe",
   "metadata": {
    "execution": {
     "iopub.execute_input": "2022-10-15T05:44:24.489763Z",
     "iopub.status.busy": "2022-10-15T05:44:24.489506Z",
     "iopub.status.idle": "2022-10-15T05:44:24.854023Z",
     "shell.execute_reply": "2022-10-15T05:44:24.853370Z",
     "shell.execute_reply.started": "2022-10-15T05:44:24.489735Z"
    }
   },
   "outputs": [],
   "source": [
    "## Rebuild Type of loans Columns \n",
    "for i in df['Type_of_Loan'].value_counts().head(9).index[1:] : \n",
    "    df[i] = df['Type_of_Loan'].str.contains(i)\n",
    "\n",
    "del df['Type_of_Loan']"
   ]
  },
  {
   "cell_type": "markdown",
   "id": "550cad9d",
   "metadata": {},
   "source": [
    "#### Num_Bank_Accounts"
   ]
  },
  {
   "cell_type": "code",
   "execution_count": 34,
   "id": "c5289aa1",
   "metadata": {
    "execution": {
     "iopub.execute_input": "2022-10-15T05:44:24.855388Z",
     "iopub.status.busy": "2022-10-15T05:44:24.854950Z",
     "iopub.status.idle": "2022-10-15T05:44:24.902558Z",
     "shell.execute_reply": "2022-10-15T05:44:24.901620Z",
     "shell.execute_reply.started": "2022-10-15T05:44:24.855357Z"
    }
   },
   "outputs": [],
   "source": [
    "df['Num_Bank_Accounts'] = df['Num_Bank_Accounts'].apply(lambda x :abs (x))"
   ]
  },
  {
   "cell_type": "markdown",
   "id": "30dd5218",
   "metadata": {},
   "source": [
    "#### Num_Credit_Card"
   ]
  },
  {
   "cell_type": "code",
   "execution_count": 35,
   "id": "44de7914",
   "metadata": {
    "execution": {
     "iopub.execute_input": "2022-10-15T05:44:24.903945Z",
     "iopub.status.busy": "2022-10-15T05:44:24.903699Z",
     "iopub.status.idle": "2022-10-15T05:44:24.908913Z",
     "shell.execute_reply": "2022-10-15T05:44:24.908075Z",
     "shell.execute_reply.started": "2022-10-15T05:44:24.903919Z"
    }
   },
   "outputs": [],
   "source": [
    "df['Num_Credit_Card'].replace(0,1,inplace=True)"
   ]
  },
  {
   "cell_type": "markdown",
   "id": "03d6e5fd",
   "metadata": {},
   "source": [
    "#### Credit_History_Age"
   ]
  },
  {
   "cell_type": "code",
   "execution_count": 36,
   "id": "14ed7bff",
   "metadata": {
    "execution": {
     "iopub.execute_input": "2022-10-15T05:44:24.911032Z",
     "iopub.status.busy": "2022-10-15T05:44:24.910309Z",
     "iopub.status.idle": "2022-10-15T05:44:24.918563Z",
     "shell.execute_reply": "2022-10-15T05:44:24.918009Z",
     "shell.execute_reply.started": "2022-10-15T05:44:24.910993Z"
    }
   },
   "outputs": [],
   "source": [
    "def History_age(age):\n",
    "    try : \n",
    "        years = int(\"\".join(re.findall('[0-9]',''.join(age.split(\"and\")[0]))))\n",
    "        month = int(\"\".join(re.findall('[0-9]',''.join(age.split(\"and\")[1]))))\n",
    "        return years*12 + month\n",
    "    except :\n",
    "        return np.nan"
   ]
  },
  {
   "cell_type": "code",
   "execution_count": 37,
   "id": "dd788b83",
   "metadata": {
    "execution": {
     "iopub.execute_input": "2022-10-15T05:44:24.919956Z",
     "iopub.status.busy": "2022-10-15T05:44:24.919469Z",
     "iopub.status.idle": "2022-10-15T05:44:25.420592Z",
     "shell.execute_reply": "2022-10-15T05:44:25.419545Z",
     "shell.execute_reply.started": "2022-10-15T05:44:24.919927Z"
    }
   },
   "outputs": [],
   "source": [
    "df['Credit_History_Age'] = df['Credit_History_Age'].apply(History_age)"
   ]
  },
  {
   "cell_type": "markdown",
   "id": "8d0f9da3",
   "metadata": {},
   "source": [
    "#### Payment_of_Min_Amount"
   ]
  },
  {
   "cell_type": "code",
   "execution_count": 38,
   "id": "168c4854",
   "metadata": {
    "execution": {
     "iopub.execute_input": "2022-10-15T05:44:25.422462Z",
     "iopub.status.busy": "2022-10-15T05:44:25.422097Z",
     "iopub.status.idle": "2022-10-15T05:44:25.432211Z",
     "shell.execute_reply": "2022-10-15T05:44:25.431164Z",
     "shell.execute_reply.started": "2022-10-15T05:44:25.422424Z"
    }
   },
   "outputs": [],
   "source": [
    "df['Payment_of_Min_Amount'].replace(\"NM\",\"No\",inplace=True)"
   ]
  },
  {
   "cell_type": "code",
   "execution_count": 39,
   "id": "43643658",
   "metadata": {
    "execution": {
     "iopub.execute_input": "2022-10-15T05:44:25.434292Z",
     "iopub.status.busy": "2022-10-15T05:44:25.433752Z",
     "iopub.status.idle": "2022-10-15T05:44:25.453805Z",
     "shell.execute_reply": "2022-10-15T05:44:25.453091Z",
     "shell.execute_reply.started": "2022-10-15T05:44:25.434233Z"
    }
   },
   "outputs": [
    {
     "data": {
      "text/plain": [
       "Yes    52326\n",
       "No     47674\n",
       "Name: Payment_of_Min_Amount, dtype: int64"
      ]
     },
     "execution_count": 39,
     "metadata": {},
     "output_type": "execute_result"
    }
   ],
   "source": [
    "df['Payment_of_Min_Amount'].value_counts()"
   ]
  },
  {
   "cell_type": "markdown",
   "id": "b8d07d06",
   "metadata": {},
   "source": [
    "#### Payment_Behaviour"
   ]
  },
  {
   "cell_type": "code",
   "execution_count": 40,
   "id": "480b3b20",
   "metadata": {
    "execution": {
     "iopub.execute_input": "2022-10-15T05:44:25.454937Z",
     "iopub.status.busy": "2022-10-15T05:44:25.454717Z",
     "iopub.status.idle": "2022-10-15T05:44:25.465205Z",
     "shell.execute_reply": "2022-10-15T05:44:25.464351Z",
     "shell.execute_reply.started": "2022-10-15T05:44:25.454912Z"
    }
   },
   "outputs": [],
   "source": [
    "df['Payment_Behaviour']= df['Payment_Behaviour'].replace(\"!@9#%8\",np.nan)"
   ]
  },
  {
   "cell_type": "code",
   "execution_count": 41,
   "id": "742c5f6e",
   "metadata": {
    "execution": {
     "iopub.execute_input": "2022-10-15T05:44:25.466688Z",
     "iopub.status.busy": "2022-10-15T05:44:25.466453Z",
     "iopub.status.idle": "2022-10-15T05:44:25.480859Z",
     "shell.execute_reply": "2022-10-15T05:44:25.480043Z",
     "shell.execute_reply.started": "2022-10-15T05:44:25.466648Z"
    }
   },
   "outputs": [
    {
     "data": {
      "text/plain": [
       "Low_spent_Small_value_payments      25513\n",
       "High_spent_Medium_value_payments    17540\n",
       "Low_spent_Medium_value_payments     13861\n",
       "High_spent_Large_value_payments     13721\n",
       "High_spent_Small_value_payments     11340\n",
       "Low_spent_Large_value_payments      10425\n",
       "Name: Payment_Behaviour, dtype: int64"
      ]
     },
     "execution_count": 41,
     "metadata": {},
     "output_type": "execute_result"
    }
   ],
   "source": [
    "df['Payment_Behaviour'].value_counts()"
   ]
  },
  {
   "cell_type": "markdown",
   "id": "b5298e9d",
   "metadata": {},
   "source": [
    "### Occupation"
   ]
  },
  {
   "cell_type": "code",
   "execution_count": 42,
   "id": "ad849f29",
   "metadata": {
    "execution": {
     "iopub.execute_input": "2022-10-15T05:44:25.482236Z",
     "iopub.status.busy": "2022-10-15T05:44:25.482021Z",
     "iopub.status.idle": "2022-10-15T05:44:25.494645Z",
     "shell.execute_reply": "2022-10-15T05:44:25.493705Z",
     "shell.execute_reply.started": "2022-10-15T05:44:25.482212Z"
    }
   },
   "outputs": [
    {
     "data": {
      "text/plain": [
       "_______          7062\n",
       "Lawyer           6575\n",
       "Architect        6355\n",
       "Engineer         6350\n",
       "Scientist        6299\n",
       "Mechanic         6291\n",
       "Accountant       6271\n",
       "Developer        6235\n",
       "Media_Manager    6232\n",
       "Teacher          6215\n",
       "Entrepreneur     6174\n",
       "Doctor           6087\n",
       "Journalist       6085\n",
       "Manager          5973\n",
       "Musician         5911\n",
       "Writer           5885\n",
       "Name: Occupation, dtype: int64"
      ]
     },
     "execution_count": 42,
     "metadata": {},
     "output_type": "execute_result"
    }
   ],
   "source": [
    "df['Occupation'].value_counts()"
   ]
  },
  {
   "cell_type": "code",
   "execution_count": 43,
   "id": "e965cd52",
   "metadata": {
    "execution": {
     "iopub.execute_input": "2022-10-15T05:44:25.496370Z",
     "iopub.status.busy": "2022-10-15T05:44:25.495622Z",
     "iopub.status.idle": "2022-10-15T05:44:25.509026Z",
     "shell.execute_reply": "2022-10-15T05:44:25.508030Z",
     "shell.execute_reply.started": "2022-10-15T05:44:25.496337Z"
    }
   },
   "outputs": [
    {
     "data": {
      "text/plain": [
       "Index(['Lawyer', 'Architect', 'Engineer', 'Scientist', 'Mechanic',\n",
       "       'Accountant', 'Developer', 'Media_Manager', 'Teacher', 'Entrepreneur',\n",
       "       'Doctor', 'Journalist', 'Manager', 'Musician', 'Writer'],\n",
       "      dtype='object')"
      ]
     },
     "execution_count": 43,
     "metadata": {},
     "output_type": "execute_result"
    }
   ],
   "source": [
    "occs = df['Occupation'].value_counts().index[1:]\n",
    "occs"
   ]
  },
  {
   "cell_type": "code",
   "execution_count": 44,
   "id": "23392df4",
   "metadata": {
    "execution": {
     "iopub.execute_input": "2022-10-15T05:44:25.510060Z",
     "iopub.status.busy": "2022-10-15T05:44:25.509842Z",
     "iopub.status.idle": "2022-10-15T05:44:25.644059Z",
     "shell.execute_reply": "2022-10-15T05:44:25.643166Z",
     "shell.execute_reply.started": "2022-10-15T05:44:25.510035Z"
    }
   },
   "outputs": [
    {
     "data": {
      "text/html": [
       "<div>\n",
       "<style scoped>\n",
       "    .dataframe tbody tr th:only-of-type {\n",
       "        vertical-align: middle;\n",
       "    }\n",
       "\n",
       "    .dataframe tbody tr th {\n",
       "        vertical-align: top;\n",
       "    }\n",
       "\n",
       "    .dataframe thead th {\n",
       "        text-align: right;\n",
       "    }\n",
       "</style>\n",
       "<table border=\"1\" class=\"dataframe\">\n",
       "  <thead>\n",
       "    <tr style=\"text-align: right;\">\n",
       "      <th></th>\n",
       "      <th>Customer_ID</th>\n",
       "      <th>Month</th>\n",
       "      <th>Age</th>\n",
       "      <th>Occupation</th>\n",
       "      <th>Annual_Income</th>\n",
       "      <th>Monthly_Inhand_Salary</th>\n",
       "      <th>Num_Bank_Accounts</th>\n",
       "      <th>Num_Credit_Card</th>\n",
       "      <th>Interest_Rate</th>\n",
       "      <th>Num_of_Loan</th>\n",
       "      <th>...</th>\n",
       "      <th>Monthly_Balance</th>\n",
       "      <th>Credit_Score</th>\n",
       "      <th>Credit-Builder Loan</th>\n",
       "      <th>Personal Loan</th>\n",
       "      <th>Debt Consolidation Loan</th>\n",
       "      <th>Student Loan</th>\n",
       "      <th>Payday Loan</th>\n",
       "      <th>Mortgage Loan</th>\n",
       "      <th>Auto Loan</th>\n",
       "      <th>Home Equity Loan</th>\n",
       "    </tr>\n",
       "  </thead>\n",
       "  <tbody>\n",
       "    <tr>\n",
       "      <th>24</th>\n",
       "      <td>CUS_0xb891</td>\n",
       "      <td>January</td>\n",
       "      <td>54.0</td>\n",
       "      <td>Entrepreneur</td>\n",
       "      <td>30689.89</td>\n",
       "      <td>2612.490833</td>\n",
       "      <td>2</td>\n",
       "      <td>5</td>\n",
       "      <td>4</td>\n",
       "      <td>1.0</td>\n",
       "      <td>...</td>\n",
       "      <td>433.604773</td>\n",
       "      <td>Standard</td>\n",
       "      <td>False</td>\n",
       "      <td>False</td>\n",
       "      <td>False</td>\n",
       "      <td>False</td>\n",
       "      <td>False</td>\n",
       "      <td>False</td>\n",
       "      <td>False</td>\n",
       "      <td>False</td>\n",
       "    </tr>\n",
       "    <tr>\n",
       "      <th>25</th>\n",
       "      <td>CUS_0xb891</td>\n",
       "      <td>February</td>\n",
       "      <td>54.0</td>\n",
       "      <td>Entrepreneur</td>\n",
       "      <td>30689.89</td>\n",
       "      <td>2612.490833</td>\n",
       "      <td>2</td>\n",
       "      <td>5</td>\n",
       "      <td>4</td>\n",
       "      <td>1.0</td>\n",
       "      <td>...</td>\n",
       "      <td>409.951812</td>\n",
       "      <td>Standard</td>\n",
       "      <td>False</td>\n",
       "      <td>False</td>\n",
       "      <td>False</td>\n",
       "      <td>False</td>\n",
       "      <td>False</td>\n",
       "      <td>False</td>\n",
       "      <td>False</td>\n",
       "      <td>False</td>\n",
       "    </tr>\n",
       "    <tr>\n",
       "      <th>26</th>\n",
       "      <td>CUS_0xb891</td>\n",
       "      <td>March</td>\n",
       "      <td>55.0</td>\n",
       "      <td>Entrepreneur</td>\n",
       "      <td>30689.89</td>\n",
       "      <td>2612.490833</td>\n",
       "      <td>2</td>\n",
       "      <td>5</td>\n",
       "      <td>4</td>\n",
       "      <td>1.0</td>\n",
       "      <td>...</td>\n",
       "      <td>411.427123</td>\n",
       "      <td>Standard</td>\n",
       "      <td>False</td>\n",
       "      <td>False</td>\n",
       "      <td>False</td>\n",
       "      <td>False</td>\n",
       "      <td>False</td>\n",
       "      <td>False</td>\n",
       "      <td>False</td>\n",
       "      <td>False</td>\n",
       "    </tr>\n",
       "    <tr>\n",
       "      <th>27</th>\n",
       "      <td>CUS_0xb891</td>\n",
       "      <td>April</td>\n",
       "      <td>55.0</td>\n",
       "      <td>Entrepreneur</td>\n",
       "      <td>30689.89</td>\n",
       "      <td>2612.490833</td>\n",
       "      <td>2</td>\n",
       "      <td>5</td>\n",
       "      <td>4</td>\n",
       "      <td>1.0</td>\n",
       "      <td>...</td>\n",
       "      <td>262.499594</td>\n",
       "      <td>Standard</td>\n",
       "      <td>False</td>\n",
       "      <td>False</td>\n",
       "      <td>False</td>\n",
       "      <td>False</td>\n",
       "      <td>False</td>\n",
       "      <td>False</td>\n",
       "      <td>False</td>\n",
       "      <td>False</td>\n",
       "    </tr>\n",
       "    <tr>\n",
       "      <th>28</th>\n",
       "      <td>CUS_0xb891</td>\n",
       "      <td>May</td>\n",
       "      <td>55.0</td>\n",
       "      <td>Entrepreneur</td>\n",
       "      <td>30689.89</td>\n",
       "      <td>2612.490833</td>\n",
       "      <td>2</td>\n",
       "      <td>5</td>\n",
       "      <td>4</td>\n",
       "      <td>1.0</td>\n",
       "      <td>...</td>\n",
       "      <td>359.374916</td>\n",
       "      <td>Standard</td>\n",
       "      <td>False</td>\n",
       "      <td>False</td>\n",
       "      <td>False</td>\n",
       "      <td>False</td>\n",
       "      <td>False</td>\n",
       "      <td>False</td>\n",
       "      <td>False</td>\n",
       "      <td>False</td>\n",
       "    </tr>\n",
       "    <tr>\n",
       "      <th>29</th>\n",
       "      <td>CUS_0xb891</td>\n",
       "      <td>June</td>\n",
       "      <td>55.0</td>\n",
       "      <td>Entrepreneur</td>\n",
       "      <td>30689.89</td>\n",
       "      <td>2612.490833</td>\n",
       "      <td>2</td>\n",
       "      <td>5</td>\n",
       "      <td>4</td>\n",
       "      <td>1.0</td>\n",
       "      <td>...</td>\n",
       "      <td>419.880784</td>\n",
       "      <td>Standard</td>\n",
       "      <td>False</td>\n",
       "      <td>False</td>\n",
       "      <td>False</td>\n",
       "      <td>False</td>\n",
       "      <td>False</td>\n",
       "      <td>False</td>\n",
       "      <td>False</td>\n",
       "      <td>False</td>\n",
       "    </tr>\n",
       "    <tr>\n",
       "      <th>30</th>\n",
       "      <td>CUS_0xb891</td>\n",
       "      <td>July</td>\n",
       "      <td>55.0</td>\n",
       "      <td>Entrepreneur</td>\n",
       "      <td>30689.89</td>\n",
       "      <td>2612.490833</td>\n",
       "      <td>2</td>\n",
       "      <td>5</td>\n",
       "      <td>4</td>\n",
       "      <td>1.0</td>\n",
       "      <td>...</td>\n",
       "      <td>443.549957</td>\n",
       "      <td>Standard</td>\n",
       "      <td>False</td>\n",
       "      <td>False</td>\n",
       "      <td>False</td>\n",
       "      <td>False</td>\n",
       "      <td>False</td>\n",
       "      <td>False</td>\n",
       "      <td>False</td>\n",
       "      <td>False</td>\n",
       "    </tr>\n",
       "    <tr>\n",
       "      <th>31</th>\n",
       "      <td>CUS_0xb891</td>\n",
       "      <td>August</td>\n",
       "      <td>55.0</td>\n",
       "      <td>Entrepreneur</td>\n",
       "      <td>30689.89</td>\n",
       "      <td>2612.490833</td>\n",
       "      <td>2</td>\n",
       "      <td>5</td>\n",
       "      <td>4</td>\n",
       "      <td>-100.0</td>\n",
       "      <td>...</td>\n",
       "      <td>379.216381</td>\n",
       "      <td>Standard</td>\n",
       "      <td>False</td>\n",
       "      <td>False</td>\n",
       "      <td>False</td>\n",
       "      <td>False</td>\n",
       "      <td>False</td>\n",
       "      <td>False</td>\n",
       "      <td>False</td>\n",
       "      <td>False</td>\n",
       "    </tr>\n",
       "  </tbody>\n",
       "</table>\n",
       "<p>8 rows × 32 columns</p>\n",
       "</div>"
      ],
      "text/plain": [
       "   Customer_ID     Month   Age    Occupation  Annual_Income  \\\n",
       "24  CUS_0xb891   January  54.0  Entrepreneur       30689.89   \n",
       "25  CUS_0xb891  February  54.0  Entrepreneur       30689.89   \n",
       "26  CUS_0xb891     March  55.0  Entrepreneur       30689.89   \n",
       "27  CUS_0xb891     April  55.0  Entrepreneur       30689.89   \n",
       "28  CUS_0xb891       May  55.0  Entrepreneur       30689.89   \n",
       "29  CUS_0xb891      June  55.0  Entrepreneur       30689.89   \n",
       "30  CUS_0xb891      July  55.0  Entrepreneur       30689.89   \n",
       "31  CUS_0xb891    August  55.0  Entrepreneur       30689.89   \n",
       "\n",
       "    Monthly_Inhand_Salary  Num_Bank_Accounts  Num_Credit_Card  Interest_Rate  \\\n",
       "24            2612.490833                  2                5              4   \n",
       "25            2612.490833                  2                5              4   \n",
       "26            2612.490833                  2                5              4   \n",
       "27            2612.490833                  2                5              4   \n",
       "28            2612.490833                  2                5              4   \n",
       "29            2612.490833                  2                5              4   \n",
       "30            2612.490833                  2                5              4   \n",
       "31            2612.490833                  2                5              4   \n",
       "\n",
       "    Num_of_Loan  ...  Monthly_Balance  Credit_Score  Credit-Builder Loan  \\\n",
       "24          1.0  ...       433.604773      Standard                False   \n",
       "25          1.0  ...       409.951812      Standard                False   \n",
       "26          1.0  ...       411.427123      Standard                False   \n",
       "27          1.0  ...       262.499594      Standard                False   \n",
       "28          1.0  ...       359.374916      Standard                False   \n",
       "29          1.0  ...       419.880784      Standard                False   \n",
       "30          1.0  ...       443.549957      Standard                False   \n",
       "31       -100.0  ...       379.216381      Standard                False   \n",
       "\n",
       "    Personal Loan Debt Consolidation Loan  Student Loan  Payday Loan  \\\n",
       "24          False                   False         False        False   \n",
       "25          False                   False         False        False   \n",
       "26          False                   False         False        False   \n",
       "27          False                   False         False        False   \n",
       "28          False                   False         False        False   \n",
       "29          False                   False         False        False   \n",
       "30          False                   False         False        False   \n",
       "31          False                   False         False        False   \n",
       "\n",
       "    Mortgage Loan Auto Loan  Home Equity Loan  \n",
       "24          False     False             False  \n",
       "25          False     False             False  \n",
       "26          False     False             False  \n",
       "27          False     False             False  \n",
       "28          False     False             False  \n",
       "29          False     False             False  \n",
       "30          False     False             False  \n",
       "31          False     False             False  \n",
       "\n",
       "[8 rows x 32 columns]"
      ]
     },
     "execution_count": 44,
     "metadata": {},
     "output_type": "execute_result"
    }
   ],
   "source": [
    "id_ = \"CUS_0xb891\"\n",
    "oc = df[df['Customer_ID'] == id_]['Occupation'].mode()[0]\n",
    "df[df['Customer_ID'] == id_].replace(\"_______\",oc)"
   ]
  },
  {
   "cell_type": "code",
   "execution_count": 45,
   "id": "df53364e",
   "metadata": {
    "execution": {
     "iopub.execute_input": "2022-10-15T05:44:25.645658Z",
     "iopub.status.busy": "2022-10-15T05:44:25.645349Z",
     "iopub.status.idle": "2022-10-15T05:52:07.326606Z",
     "shell.execute_reply": "2022-10-15T05:52:07.325903Z",
     "shell.execute_reply.started": "2022-10-15T05:44:25.645627Z"
    }
   },
   "outputs": [],
   "source": [
    "for ID in df[df['Occupation'] == \"_______\"]['Customer_ID'] : \n",
    "    oc = df[df['Customer_ID'] == ID]['Occupation'].mode()[0]\n",
    "    df[df['Customer_ID'] == ID] = df[df['Customer_ID'] == ID].replace(\"_______\",oc)"
   ]
  },
  {
   "cell_type": "code",
   "execution_count": 46,
   "id": "bfdec341",
   "metadata": {
    "execution": {
     "iopub.execute_input": "2022-10-15T05:52:07.328077Z",
     "iopub.status.busy": "2022-10-15T05:52:07.327725Z",
     "iopub.status.idle": "2022-10-15T05:52:07.340144Z",
     "shell.execute_reply": "2022-10-15T05:52:07.339250Z",
     "shell.execute_reply.started": "2022-10-15T05:52:07.328051Z"
    }
   },
   "outputs": [
    {
     "data": {
      "text/plain": [
       "Lawyer           7096\n",
       "Engineer         6864\n",
       "Architect        6824\n",
       "Mechanic         6776\n",
       "Scientist        6744\n",
       "Accountant       6744\n",
       "Developer        6720\n",
       "Media_Manager    6715\n",
       "Teacher          6672\n",
       "Entrepreneur     6648\n",
       "Doctor           6568\n",
       "Journalist       6536\n",
       "Manager          6432\n",
       "Musician         6352\n",
       "Writer           6304\n",
       "_______             5\n",
       "Name: Occupation, dtype: int64"
      ]
     },
     "execution_count": 46,
     "metadata": {},
     "output_type": "execute_result"
    }
   ],
   "source": [
    "df['Occupation'].value_counts()"
   ]
  },
  {
   "cell_type": "code",
   "execution_count": 47,
   "id": "35d559cd",
   "metadata": {
    "execution": {
     "iopub.execute_input": "2022-10-15T05:52:07.341606Z",
     "iopub.status.busy": "2022-10-15T05:52:07.341366Z",
     "iopub.status.idle": "2022-10-15T05:52:07.360715Z",
     "shell.execute_reply": "2022-10-15T05:52:07.359539Z",
     "shell.execute_reply.started": "2022-10-15T05:52:07.341580Z"
    }
   },
   "outputs": [],
   "source": [
    "df['Occupation'] = df['Occupation'].replace(\"_______\",df['Occupation'].mode()[0])"
   ]
  },
  {
   "cell_type": "code",
   "execution_count": 48,
   "id": "51fb0b76",
   "metadata": {
    "execution": {
     "iopub.execute_input": "2022-10-15T05:52:07.362363Z",
     "iopub.status.busy": "2022-10-15T05:52:07.362008Z",
     "iopub.status.idle": "2022-10-15T05:52:07.377374Z",
     "shell.execute_reply": "2022-10-15T05:52:07.376574Z",
     "shell.execute_reply.started": "2022-10-15T05:52:07.362331Z"
    }
   },
   "outputs": [
    {
     "data": {
      "text/plain": [
       "Lawyer           7101\n",
       "Engineer         6864\n",
       "Architect        6824\n",
       "Mechanic         6776\n",
       "Scientist        6744\n",
       "Accountant       6744\n",
       "Developer        6720\n",
       "Media_Manager    6715\n",
       "Teacher          6672\n",
       "Entrepreneur     6648\n",
       "Doctor           6568\n",
       "Journalist       6536\n",
       "Manager          6432\n",
       "Musician         6352\n",
       "Writer           6304\n",
       "Name: Occupation, dtype: int64"
      ]
     },
     "execution_count": 48,
     "metadata": {},
     "output_type": "execute_result"
    }
   ],
   "source": [
    "df['Occupation'].value_counts()"
   ]
  },
  {
   "cell_type": "markdown",
   "id": "6b15cf3f",
   "metadata": {},
   "source": [
    "#### Credit_Mix"
   ]
  },
  {
   "cell_type": "code",
   "execution_count": 49,
   "id": "8fcf2aca",
   "metadata": {
    "execution": {
     "iopub.execute_input": "2022-10-15T05:52:07.378783Z",
     "iopub.status.busy": "2022-10-15T05:52:07.378518Z",
     "iopub.status.idle": "2022-10-15T05:52:07.394011Z",
     "shell.execute_reply": "2022-10-15T05:52:07.393209Z",
     "shell.execute_reply.started": "2022-10-15T05:52:07.378732Z"
    }
   },
   "outputs": [
    {
     "data": {
      "text/plain": [
       "Standard    36479\n",
       "Good        24337\n",
       "_           20195\n",
       "Bad         18989\n",
       "Name: Credit_Mix, dtype: int64"
      ]
     },
     "execution_count": 49,
     "metadata": {},
     "output_type": "execute_result"
    }
   ],
   "source": [
    "df['Credit_Mix'].value_counts()"
   ]
  },
  {
   "cell_type": "code",
   "execution_count": 50,
   "id": "fff4063c",
   "metadata": {
    "execution": {
     "iopub.execute_input": "2022-10-15T05:52:07.395451Z",
     "iopub.status.busy": "2022-10-15T05:52:07.395187Z",
     "iopub.status.idle": "2022-10-15T05:52:07.399681Z",
     "shell.execute_reply": "2022-10-15T05:52:07.398881Z",
     "shell.execute_reply.started": "2022-10-15T05:52:07.395424Z"
    }
   },
   "outputs": [],
   "source": [
    "m = {\n",
    "    \"Bad\":0,\n",
    "    \"Standard\":1,\n",
    "    \"Good\":2,\n",
    "    \"_\":np.nan\n",
    "}"
   ]
  },
  {
   "cell_type": "code",
   "execution_count": 51,
   "id": "65d4e8c9",
   "metadata": {
    "execution": {
     "iopub.execute_input": "2022-10-15T05:52:07.401192Z",
     "iopub.status.busy": "2022-10-15T05:52:07.400964Z",
     "iopub.status.idle": "2022-10-15T05:52:07.449048Z",
     "shell.execute_reply": "2022-10-15T05:52:07.448135Z",
     "shell.execute_reply.started": "2022-10-15T05:52:07.401166Z"
    }
   },
   "outputs": [],
   "source": [
    "df['Credit_Mix'] = df['Credit_Mix'].map(m)"
   ]
  },
  {
   "cell_type": "markdown",
   "id": "8caac664",
   "metadata": {},
   "source": [
    "### Advanced Handling Missing Data "
   ]
  },
  {
   "cell_type": "code",
   "execution_count": 52,
   "id": "213c547b",
   "metadata": {
    "execution": {
     "iopub.execute_input": "2022-10-15T05:52:07.450685Z",
     "iopub.status.busy": "2022-10-15T05:52:07.450439Z",
     "iopub.status.idle": "2022-10-15T05:52:07.544542Z",
     "shell.execute_reply": "2022-10-15T05:52:07.543380Z",
     "shell.execute_reply.started": "2022-10-15T05:52:07.450657Z"
    }
   },
   "outputs": [],
   "source": [
    "# Edit Columns from bool to int \n",
    "for col in list(df.columns[-8:]):\n",
    "    df[col] = df[col].astype(float)"
   ]
  },
  {
   "cell_type": "code",
   "execution_count": 53,
   "id": "a83ff04c",
   "metadata": {
    "execution": {
     "iopub.execute_input": "2022-10-15T05:52:07.545984Z",
     "iopub.status.busy": "2022-10-15T05:52:07.545736Z",
     "iopub.status.idle": "2022-10-15T05:55:05.522217Z",
     "shell.execute_reply": "2022-10-15T05:55:05.521048Z",
     "shell.execute_reply.started": "2022-10-15T05:52:07.545956Z"
    }
   },
   "outputs": [],
   "source": [
    "IDs = 1 \n",
    "for ID in df['Customer_ID'].unique() :\n",
    "    df['Customer_ID'] = df['Customer_ID'].replace(ID,IDs)\n",
    "    IDs += 1 "
   ]
  },
  {
   "cell_type": "code",
   "execution_count": 54,
   "id": "a98f8c74",
   "metadata": {
    "execution": {
     "iopub.execute_input": "2022-10-15T05:55:05.523696Z",
     "iopub.status.busy": "2022-10-15T05:55:05.523460Z",
     "iopub.status.idle": "2022-10-15T05:55:05.528658Z",
     "shell.execute_reply": "2022-10-15T05:55:05.527393Z",
     "shell.execute_reply.started": "2022-10-15T05:55:05.523668Z"
    }
   },
   "outputs": [],
   "source": [
    "from sklearn.impute import KNNImputer\n",
    "imputer = KNNImputer(n_neighbors=1)"
   ]
  },
  {
   "cell_type": "code",
   "execution_count": 55,
   "id": "a9e22638",
   "metadata": {
    "execution": {
     "iopub.execute_input": "2022-10-15T05:55:05.530238Z",
     "iopub.status.busy": "2022-10-15T05:55:05.529612Z",
     "iopub.status.idle": "2022-10-15T05:55:05.570735Z",
     "shell.execute_reply": "2022-10-15T05:55:05.569834Z",
     "shell.execute_reply.started": "2022-10-15T05:55:05.530207Z"
    }
   },
   "outputs": [
    {
     "data": {
      "text/plain": [
       "Index(['Age', 'Annual_Income', 'Monthly_Inhand_Salary', 'Num_Bank_Accounts',\n",
       "       'Num_Credit_Card', 'Interest_Rate', 'Num_of_Loan',\n",
       "       'Delay_from_due_date', 'Num_of_Delayed_Payment', 'Changed_Credit_Limit',\n",
       "       'Num_Credit_Inquiries', 'Credit_Mix', 'Outstanding_Debt',\n",
       "       'Credit_Utilization_Ratio', 'Credit_History_Age', 'Total_EMI_per_month',\n",
       "       'Amount_invested_monthly', 'Monthly_Balance', 'Credit-Builder Loan',\n",
       "       'Personal Loan', 'Debt Consolidation Loan', 'Student Loan',\n",
       "       'Payday Loan', 'Mortgage Loan', 'Auto Loan', 'Home Equity Loan'],\n",
       "      dtype='object')"
      ]
     },
     "execution_count": 55,
     "metadata": {},
     "output_type": "execute_result"
    }
   ],
   "source": [
    "Numericals = df.select_dtypes(exclude='object').columns[1:]\n",
    "Numericals"
   ]
  },
  {
   "cell_type": "code",
   "execution_count": 56,
   "id": "84d23fc2",
   "metadata": {
    "execution": {
     "iopub.execute_input": "2022-10-15T05:55:05.572257Z",
     "iopub.status.busy": "2022-10-15T05:55:05.571984Z",
     "iopub.status.idle": "2022-10-15T06:06:32.853513Z",
     "shell.execute_reply": "2022-10-15T06:06:32.851766Z",
     "shell.execute_reply.started": "2022-10-15T05:55:05.572226Z"
    }
   },
   "outputs": [],
   "source": [
    "for col in Numericals[1:]:\n",
    "    imputer.fit(df[['Customer_ID',col]])\n",
    "    df[['Customer_ID',col]] = imputer.transform(df[['Customer_ID',col]])"
   ]
  },
  {
   "cell_type": "code",
   "execution_count": 57,
   "id": "c95ba1ce",
   "metadata": {
    "execution": {
     "iopub.execute_input": "2022-10-15T06:06:32.856661Z",
     "iopub.status.busy": "2022-10-15T06:06:32.856335Z",
     "iopub.status.idle": "2022-10-15T06:06:32.907957Z",
     "shell.execute_reply": "2022-10-15T06:06:32.907039Z",
     "shell.execute_reply.started": "2022-10-15T06:06:32.856621Z"
    }
   },
   "outputs": [
    {
     "name": "stdout",
     "output_type": "stream",
     "text": [
      "<class 'pandas.core.frame.DataFrame'>\n",
      "RangeIndex: 100000 entries, 0 to 99999\n",
      "Data columns (total 32 columns):\n",
      " #   Column                    Non-Null Count   Dtype  \n",
      "---  ------                    --------------   -----  \n",
      " 0   Customer_ID               100000 non-null  float64\n",
      " 1   Month                     100000 non-null  object \n",
      " 2   Age                       100000 non-null  float64\n",
      " 3   Occupation                100000 non-null  object \n",
      " 4   Annual_Income             100000 non-null  float64\n",
      " 5   Monthly_Inhand_Salary     100000 non-null  float64\n",
      " 6   Num_Bank_Accounts         100000 non-null  float64\n",
      " 7   Num_Credit_Card           100000 non-null  float64\n",
      " 8   Interest_Rate             100000 non-null  float64\n",
      " 9   Num_of_Loan               100000 non-null  float64\n",
      " 10  Delay_from_due_date       100000 non-null  float64\n",
      " 11  Num_of_Delayed_Payment    100000 non-null  float64\n",
      " 12  Changed_Credit_Limit      100000 non-null  float64\n",
      " 13  Num_Credit_Inquiries      100000 non-null  float64\n",
      " 14  Credit_Mix                100000 non-null  float64\n",
      " 15  Outstanding_Debt          100000 non-null  float64\n",
      " 16  Credit_Utilization_Ratio  100000 non-null  float64\n",
      " 17  Credit_History_Age        100000 non-null  float64\n",
      " 18  Payment_of_Min_Amount     100000 non-null  object \n",
      " 19  Total_EMI_per_month       100000 non-null  float64\n",
      " 20  Amount_invested_monthly   100000 non-null  float64\n",
      " 21  Payment_Behaviour         92400 non-null   object \n",
      " 22  Monthly_Balance           100000 non-null  float64\n",
      " 23  Credit_Score              100000 non-null  object \n",
      " 24  Credit-Builder Loan       100000 non-null  float64\n",
      " 25  Personal Loan             100000 non-null  float64\n",
      " 26  Debt Consolidation Loan   100000 non-null  float64\n",
      " 27  Student Loan              100000 non-null  float64\n",
      " 28  Payday Loan               100000 non-null  float64\n",
      " 29  Mortgage Loan             100000 non-null  float64\n",
      " 30  Auto Loan                 100000 non-null  float64\n",
      " 31  Home Equity Loan          100000 non-null  float64\n",
      "dtypes: float64(27), object(5)\n",
      "memory usage: 24.4+ MB\n"
     ]
    }
   ],
   "source": [
    "df.info()"
   ]
  },
  {
   "cell_type": "code",
   "execution_count": 58,
   "id": "a934cfa4",
   "metadata": {
    "execution": {
     "iopub.execute_input": "2022-10-15T06:06:32.910196Z",
     "iopub.status.busy": "2022-10-15T06:06:32.909849Z",
     "iopub.status.idle": "2022-10-15T06:06:42.385888Z",
     "shell.execute_reply": "2022-10-15T06:06:42.385065Z",
     "shell.execute_reply.started": "2022-10-15T06:06:32.910156Z"
    }
   },
   "outputs": [],
   "source": [
    "imputer = SimpleImputer(strategy=\"most_frequent\")\n",
    "imputer.fit(df[['Payment_Behaviour']])\n",
    "df[['Payment_Behaviour']] = imputer.transform(df[['Payment_Behaviour']])"
   ]
  },
  {
   "cell_type": "markdown",
   "id": "e121dfd6",
   "metadata": {},
   "source": [
    "### Handling Outliers "
   ]
  },
  {
   "cell_type": "code",
   "execution_count": 59,
   "id": "85ad3c11",
   "metadata": {
    "execution": {
     "iopub.execute_input": "2022-10-15T06:06:42.387297Z",
     "iopub.status.busy": "2022-10-15T06:06:42.387055Z",
     "iopub.status.idle": "2022-10-15T06:06:42.553141Z",
     "shell.execute_reply": "2022-10-15T06:06:42.552251Z",
     "shell.execute_reply.started": "2022-10-15T06:06:42.387256Z"
    }
   },
   "outputs": [],
   "source": [
    "## replace Outliers with median \n",
    "for col in Numericals :\n",
    "    outliers_indecies = detect_outliers(df,0,[col])\n",
    "    median = df[col].median()\n",
    "    df[col].iloc[outliers_indecies] = median"
   ]
  },
  {
   "cell_type": "markdown",
   "id": "669ffc9e",
   "metadata": {},
   "source": [
    "# Data Preprocessing"
   ]
  },
  {
   "cell_type": "markdown",
   "id": "3be613a9",
   "metadata": {},
   "source": [
    "### Handling Catogerical "
   ]
  },
  {
   "cell_type": "code",
   "execution_count": 60,
   "id": "63f3dc66",
   "metadata": {
    "execution": {
     "iopub.execute_input": "2022-10-15T06:06:42.554747Z",
     "iopub.status.busy": "2022-10-15T06:06:42.554448Z",
     "iopub.status.idle": "2022-10-15T06:06:42.575294Z",
     "shell.execute_reply": "2022-10-15T06:06:42.574378Z",
     "shell.execute_reply.started": "2022-10-15T06:06:42.554711Z"
    }
   },
   "outputs": [
    {
     "data": {
      "text/html": [
       "<div>\n",
       "<style scoped>\n",
       "    .dataframe tbody tr th:only-of-type {\n",
       "        vertical-align: middle;\n",
       "    }\n",
       "\n",
       "    .dataframe tbody tr th {\n",
       "        vertical-align: top;\n",
       "    }\n",
       "\n",
       "    .dataframe thead th {\n",
       "        text-align: right;\n",
       "    }\n",
       "</style>\n",
       "<table border=\"1\" class=\"dataframe\">\n",
       "  <thead>\n",
       "    <tr style=\"text-align: right;\">\n",
       "      <th></th>\n",
       "      <th>Month</th>\n",
       "      <th>Occupation</th>\n",
       "      <th>Payment_of_Min_Amount</th>\n",
       "      <th>Payment_Behaviour</th>\n",
       "      <th>Credit_Score</th>\n",
       "    </tr>\n",
       "  </thead>\n",
       "  <tbody>\n",
       "    <tr>\n",
       "      <th>0</th>\n",
       "      <td>January</td>\n",
       "      <td>Scientist</td>\n",
       "      <td>No</td>\n",
       "      <td>High_spent_Small_value_payments</td>\n",
       "      <td>Good</td>\n",
       "    </tr>\n",
       "    <tr>\n",
       "      <th>1</th>\n",
       "      <td>February</td>\n",
       "      <td>Scientist</td>\n",
       "      <td>No</td>\n",
       "      <td>Low_spent_Large_value_payments</td>\n",
       "      <td>Good</td>\n",
       "    </tr>\n",
       "    <tr>\n",
       "      <th>2</th>\n",
       "      <td>March</td>\n",
       "      <td>Scientist</td>\n",
       "      <td>No</td>\n",
       "      <td>Low_spent_Medium_value_payments</td>\n",
       "      <td>Good</td>\n",
       "    </tr>\n",
       "    <tr>\n",
       "      <th>3</th>\n",
       "      <td>April</td>\n",
       "      <td>Scientist</td>\n",
       "      <td>No</td>\n",
       "      <td>Low_spent_Small_value_payments</td>\n",
       "      <td>Good</td>\n",
       "    </tr>\n",
       "    <tr>\n",
       "      <th>4</th>\n",
       "      <td>May</td>\n",
       "      <td>Scientist</td>\n",
       "      <td>No</td>\n",
       "      <td>High_spent_Medium_value_payments</td>\n",
       "      <td>Good</td>\n",
       "    </tr>\n",
       "    <tr>\n",
       "      <th>...</th>\n",
       "      <td>...</td>\n",
       "      <td>...</td>\n",
       "      <td>...</td>\n",
       "      <td>...</td>\n",
       "      <td>...</td>\n",
       "    </tr>\n",
       "    <tr>\n",
       "      <th>99995</th>\n",
       "      <td>April</td>\n",
       "      <td>Mechanic</td>\n",
       "      <td>No</td>\n",
       "      <td>High_spent_Large_value_payments</td>\n",
       "      <td>Poor</td>\n",
       "    </tr>\n",
       "    <tr>\n",
       "      <th>99996</th>\n",
       "      <td>May</td>\n",
       "      <td>Mechanic</td>\n",
       "      <td>No</td>\n",
       "      <td>High_spent_Medium_value_payments</td>\n",
       "      <td>Poor</td>\n",
       "    </tr>\n",
       "    <tr>\n",
       "      <th>99997</th>\n",
       "      <td>June</td>\n",
       "      <td>Mechanic</td>\n",
       "      <td>No</td>\n",
       "      <td>High_spent_Large_value_payments</td>\n",
       "      <td>Poor</td>\n",
       "    </tr>\n",
       "    <tr>\n",
       "      <th>99998</th>\n",
       "      <td>July</td>\n",
       "      <td>Mechanic</td>\n",
       "      <td>No</td>\n",
       "      <td>Low_spent_Large_value_payments</td>\n",
       "      <td>Standard</td>\n",
       "    </tr>\n",
       "    <tr>\n",
       "      <th>99999</th>\n",
       "      <td>August</td>\n",
       "      <td>Mechanic</td>\n",
       "      <td>No</td>\n",
       "      <td>Low_spent_Small_value_payments</td>\n",
       "      <td>Poor</td>\n",
       "    </tr>\n",
       "  </tbody>\n",
       "</table>\n",
       "<p>100000 rows × 5 columns</p>\n",
       "</div>"
      ],
      "text/plain": [
       "          Month Occupation Payment_of_Min_Amount  \\\n",
       "0       January  Scientist                    No   \n",
       "1      February  Scientist                    No   \n",
       "2         March  Scientist                    No   \n",
       "3         April  Scientist                    No   \n",
       "4           May  Scientist                    No   \n",
       "...         ...        ...                   ...   \n",
       "99995     April   Mechanic                    No   \n",
       "99996       May   Mechanic                    No   \n",
       "99997      June   Mechanic                    No   \n",
       "99998      July   Mechanic                    No   \n",
       "99999    August   Mechanic                    No   \n",
       "\n",
       "                      Payment_Behaviour Credit_Score  \n",
       "0       High_spent_Small_value_payments         Good  \n",
       "1        Low_spent_Large_value_payments         Good  \n",
       "2       Low_spent_Medium_value_payments         Good  \n",
       "3        Low_spent_Small_value_payments         Good  \n",
       "4      High_spent_Medium_value_payments         Good  \n",
       "...                                 ...          ...  \n",
       "99995   High_spent_Large_value_payments         Poor  \n",
       "99996  High_spent_Medium_value_payments         Poor  \n",
       "99997   High_spent_Large_value_payments         Poor  \n",
       "99998    Low_spent_Large_value_payments     Standard  \n",
       "99999    Low_spent_Small_value_payments         Poor  \n",
       "\n",
       "[100000 rows x 5 columns]"
      ]
     },
     "execution_count": 60,
     "metadata": {},
     "output_type": "execute_result"
    }
   ],
   "source": [
    "df.select_dtypes(include=\"object\")"
   ]
  },
  {
   "cell_type": "code",
   "execution_count": 61,
   "id": "538dd6d6",
   "metadata": {
    "execution": {
     "iopub.execute_input": "2022-10-15T06:06:42.576930Z",
     "iopub.status.busy": "2022-10-15T06:06:42.576699Z",
     "iopub.status.idle": "2022-10-15T06:06:42.593045Z",
     "shell.execute_reply": "2022-10-15T06:06:42.592447Z",
     "shell.execute_reply.started": "2022-10-15T06:06:42.576905Z"
    }
   },
   "outputs": [
    {
     "data": {
      "text/plain": [
       "Standard    53174\n",
       "Poor        28998\n",
       "Good        17828\n",
       "Name: Credit_Score, dtype: int64"
      ]
     },
     "execution_count": 61,
     "metadata": {},
     "output_type": "execute_result"
    }
   ],
   "source": [
    "df['Credit_Score'].value_counts()"
   ]
  },
  {
   "cell_type": "code",
   "execution_count": 62,
   "id": "d9e7b039",
   "metadata": {
    "execution": {
     "iopub.execute_input": "2022-10-15T06:06:42.594520Z",
     "iopub.status.busy": "2022-10-15T06:06:42.593942Z",
     "iopub.status.idle": "2022-10-15T06:06:42.604133Z",
     "shell.execute_reply": "2022-10-15T06:06:42.603364Z",
     "shell.execute_reply.started": "2022-10-15T06:06:42.594486Z"
    }
   },
   "outputs": [],
   "source": [
    "m = {\n",
    "    \"Poor\":0,\n",
    "    \"Standard\":1,\n",
    "    \"Good\":2\n",
    "}"
   ]
  },
  {
   "cell_type": "code",
   "execution_count": 63,
   "id": "68182849",
   "metadata": {
    "execution": {
     "iopub.execute_input": "2022-10-15T06:06:42.605662Z",
     "iopub.status.busy": "2022-10-15T06:06:42.605354Z",
     "iopub.status.idle": "2022-10-15T06:06:42.627655Z",
     "shell.execute_reply": "2022-10-15T06:06:42.626631Z",
     "shell.execute_reply.started": "2022-10-15T06:06:42.605635Z"
    }
   },
   "outputs": [],
   "source": [
    "df['Credit_Score'] = df['Credit_Score'].map(m)"
   ]
  },
  {
   "cell_type": "code",
   "execution_count": 64,
   "id": "5ba979f5",
   "metadata": {
    "execution": {
     "iopub.execute_input": "2022-10-15T06:06:42.629698Z",
     "iopub.status.busy": "2022-10-15T06:06:42.629395Z",
     "iopub.status.idle": "2022-10-15T06:06:42.635545Z",
     "shell.execute_reply": "2022-10-15T06:06:42.634972Z",
     "shell.execute_reply.started": "2022-10-15T06:06:42.629660Z"
    }
   },
   "outputs": [],
   "source": [
    "del df['Customer_ID']"
   ]
  },
  {
   "cell_type": "code",
   "execution_count": 65,
   "id": "325974eb",
   "metadata": {
    "execution": {
     "iopub.execute_input": "2022-10-15T06:06:42.636944Z",
     "iopub.status.busy": "2022-10-15T06:06:42.636619Z",
     "iopub.status.idle": "2022-10-15T06:06:42.732126Z",
     "shell.execute_reply": "2022-10-15T06:06:42.731478Z",
     "shell.execute_reply.started": "2022-10-15T06:06:42.636918Z"
    }
   },
   "outputs": [],
   "source": [
    "df = pd.get_dummies(df,drop_first=True)"
   ]
  },
  {
   "cell_type": "code",
   "execution_count": 66,
   "id": "2fad66f1",
   "metadata": {
    "execution": {
     "iopub.execute_input": "2022-10-15T06:06:42.733535Z",
     "iopub.status.busy": "2022-10-15T06:06:42.733261Z",
     "iopub.status.idle": "2022-10-15T06:06:42.759553Z",
     "shell.execute_reply": "2022-10-15T06:06:42.758447Z",
     "shell.execute_reply.started": "2022-10-15T06:06:42.733506Z"
    }
   },
   "outputs": [
    {
     "name": "stdout",
     "output_type": "stream",
     "text": [
      "<class 'pandas.core.frame.DataFrame'>\n",
      "RangeIndex: 100000 entries, 0 to 99999\n",
      "Data columns (total 54 columns):\n",
      " #   Column                                              Non-Null Count   Dtype  \n",
      "---  ------                                              --------------   -----  \n",
      " 0   Age                                                 100000 non-null  float64\n",
      " 1   Annual_Income                                       100000 non-null  float64\n",
      " 2   Monthly_Inhand_Salary                               100000 non-null  float64\n",
      " 3   Num_Bank_Accounts                                   100000 non-null  float64\n",
      " 4   Num_Credit_Card                                     100000 non-null  float64\n",
      " 5   Interest_Rate                                       100000 non-null  float64\n",
      " 6   Num_of_Loan                                         100000 non-null  float64\n",
      " 7   Delay_from_due_date                                 100000 non-null  float64\n",
      " 8   Num_of_Delayed_Payment                              100000 non-null  float64\n",
      " 9   Changed_Credit_Limit                                100000 non-null  float64\n",
      " 10  Num_Credit_Inquiries                                100000 non-null  float64\n",
      " 11  Credit_Mix                                          100000 non-null  float64\n",
      " 12  Outstanding_Debt                                    100000 non-null  float64\n",
      " 13  Credit_Utilization_Ratio                            100000 non-null  float64\n",
      " 14  Credit_History_Age                                  100000 non-null  float64\n",
      " 15  Total_EMI_per_month                                 100000 non-null  float64\n",
      " 16  Amount_invested_monthly                             100000 non-null  float64\n",
      " 17  Monthly_Balance                                     100000 non-null  float64\n",
      " 18  Credit_Score                                        100000 non-null  int64  \n",
      " 19  Credit-Builder Loan                                 100000 non-null  float64\n",
      " 20  Personal Loan                                       100000 non-null  float64\n",
      " 21  Debt Consolidation Loan                             100000 non-null  float64\n",
      " 22  Student Loan                                        100000 non-null  float64\n",
      " 23  Payday Loan                                         100000 non-null  float64\n",
      " 24  Mortgage Loan                                       100000 non-null  float64\n",
      " 25  Auto Loan                                           100000 non-null  float64\n",
      " 26  Home Equity Loan                                    100000 non-null  float64\n",
      " 27  Month_August                                        100000 non-null  uint8  \n",
      " 28  Month_February                                      100000 non-null  uint8  \n",
      " 29  Month_January                                       100000 non-null  uint8  \n",
      " 30  Month_July                                          100000 non-null  uint8  \n",
      " 31  Month_June                                          100000 non-null  uint8  \n",
      " 32  Month_March                                         100000 non-null  uint8  \n",
      " 33  Month_May                                           100000 non-null  uint8  \n",
      " 34  Occupation_Architect                                100000 non-null  uint8  \n",
      " 35  Occupation_Developer                                100000 non-null  uint8  \n",
      " 36  Occupation_Doctor                                   100000 non-null  uint8  \n",
      " 37  Occupation_Engineer                                 100000 non-null  uint8  \n",
      " 38  Occupation_Entrepreneur                             100000 non-null  uint8  \n",
      " 39  Occupation_Journalist                               100000 non-null  uint8  \n",
      " 40  Occupation_Lawyer                                   100000 non-null  uint8  \n",
      " 41  Occupation_Manager                                  100000 non-null  uint8  \n",
      " 42  Occupation_Mechanic                                 100000 non-null  uint8  \n",
      " 43  Occupation_Media_Manager                            100000 non-null  uint8  \n",
      " 44  Occupation_Musician                                 100000 non-null  uint8  \n",
      " 45  Occupation_Scientist                                100000 non-null  uint8  \n",
      " 46  Occupation_Teacher                                  100000 non-null  uint8  \n",
      " 47  Occupation_Writer                                   100000 non-null  uint8  \n",
      " 48  Payment_of_Min_Amount_Yes                           100000 non-null  uint8  \n",
      " 49  Payment_Behaviour_High_spent_Medium_value_payments  100000 non-null  uint8  \n",
      " 50  Payment_Behaviour_High_spent_Small_value_payments   100000 non-null  uint8  \n",
      " 51  Payment_Behaviour_Low_spent_Large_value_payments    100000 non-null  uint8  \n",
      " 52  Payment_Behaviour_Low_spent_Medium_value_payments   100000 non-null  uint8  \n",
      " 53  Payment_Behaviour_Low_spent_Small_value_payments    100000 non-null  uint8  \n",
      "dtypes: float64(26), int64(1), uint8(27)\n",
      "memory usage: 23.2 MB\n"
     ]
    }
   ],
   "source": [
    "df.info()"
   ]
  },
  {
   "cell_type": "code",
   "execution_count": 67,
   "id": "52f5f666",
   "metadata": {
    "execution": {
     "iopub.execute_input": "2022-10-15T06:06:42.760886Z",
     "iopub.status.busy": "2022-10-15T06:06:42.760598Z",
     "iopub.status.idle": "2022-10-15T06:06:42.765867Z",
     "shell.execute_reply": "2022-10-15T06:06:42.764584Z",
     "shell.execute_reply.started": "2022-10-15T06:06:42.760857Z"
    }
   },
   "outputs": [],
   "source": [
    "# df.to_csv(\"Preprocessed_Data.csv\")"
   ]
  },
  {
   "cell_type": "code",
   "execution_count": 10,
   "id": "14a21417",
   "metadata": {
    "execution": {
     "iopub.execute_input": "2022-10-15T06:16:34.889614Z",
     "iopub.status.busy": "2022-10-15T06:16:34.889268Z",
     "iopub.status.idle": "2022-10-15T06:16:35.861889Z",
     "shell.execute_reply": "2022-10-15T06:16:35.860869Z",
     "shell.execute_reply.started": "2022-10-15T06:16:34.889577Z"
    }
   },
   "outputs": [],
   "source": [
    "df = pd.read_csv(\"../input/credit-score-data-preprocessed/Preprocessed_Data.csv\",low_memory=False)"
   ]
  },
  {
   "cell_type": "markdown",
   "id": "aeba4547",
   "metadata": {},
   "source": [
    "### Data Spliting \n",
    "- Try Resampling "
   ]
  },
  {
   "cell_type": "code",
   "execution_count": 11,
   "id": "607ea910",
   "metadata": {
    "execution": {
     "iopub.execute_input": "2022-10-15T06:16:35.864385Z",
     "iopub.status.busy": "2022-10-15T06:16:35.864013Z",
     "iopub.status.idle": "2022-10-15T06:16:35.895638Z",
     "shell.execute_reply": "2022-10-15T06:16:35.894938Z",
     "shell.execute_reply.started": "2022-10-15T06:16:35.864322Z"
    }
   },
   "outputs": [],
   "source": [
    "# define dataset\n",
    "X, y = df.drop(\"Credit_Score\",axis=1).values , df[\"Credit_Score\"] "
   ]
  },
  {
   "cell_type": "markdown",
   "id": "fdcbea2b",
   "metadata": {},
   "source": [
    "## Apply oversampling\n",
    "- Data is Not 100% balanced, Let's try improving it. "
   ]
  },
  {
   "cell_type": "code",
   "execution_count": 12,
   "id": "5be77f7b",
   "metadata": {
    "execution": {
     "iopub.execute_input": "2022-10-15T06:16:36.265984Z",
     "iopub.status.busy": "2022-10-15T06:16:36.265494Z",
     "iopub.status.idle": "2022-10-15T06:16:36.276152Z",
     "shell.execute_reply": "2022-10-15T06:16:36.275230Z",
     "shell.execute_reply.started": "2022-10-15T06:16:36.265943Z"
    }
   },
   "outputs": [
    {
     "data": {
      "text/plain": [
       "1    0.53174\n",
       "0    0.28998\n",
       "2    0.17828\n",
       "Name: Credit_Score, dtype: float64"
      ]
     },
     "execution_count": 12,
     "metadata": {},
     "output_type": "execute_result"
    }
   ],
   "source": [
    "y.value_counts(normalize=True)"
   ]
  },
  {
   "cell_type": "code",
   "execution_count": 16,
   "id": "a59364da",
   "metadata": {
    "execution": {
     "iopub.execute_input": "2022-10-15T06:17:37.592181Z",
     "iopub.status.busy": "2022-10-15T06:17:37.591881Z",
     "iopub.status.idle": "2022-10-15T06:17:39.492131Z",
     "shell.execute_reply": "2022-10-15T06:17:39.491026Z",
     "shell.execute_reply.started": "2022-10-15T06:17:37.592151Z"
    }
   },
   "outputs": [],
   "source": [
    "from imblearn.over_sampling import SMOTE\n",
    "rus = SMOTE(sampling_strategy='auto')\n",
    "X_data_rus, y_data_rus = rus.fit_resample(X, y)"
   ]
  },
  {
   "cell_type": "code",
   "execution_count": 17,
   "id": "66d64ea7",
   "metadata": {
    "execution": {
     "iopub.execute_input": "2022-10-15T06:17:40.977274Z",
     "iopub.status.busy": "2022-10-15T06:17:40.976951Z",
     "iopub.status.idle": "2022-10-15T06:17:40.987585Z",
     "shell.execute_reply": "2022-10-15T06:17:40.986776Z",
     "shell.execute_reply.started": "2022-10-15T06:17:40.977240Z"
    }
   },
   "outputs": [
    {
     "data": {
      "text/plain": [
       "2    0.333333\n",
       "1    0.333333\n",
       "0    0.333333\n",
       "Name: Credit_Score, dtype: float64"
      ]
     },
     "execution_count": 17,
     "metadata": {},
     "output_type": "execute_result"
    }
   ],
   "source": [
    "y_data_rus.value_counts(normalize=True)"
   ]
  },
  {
   "cell_type": "code",
   "execution_count": 18,
   "id": "228e4a17",
   "metadata": {
    "execution": {
     "iopub.execute_input": "2022-10-15T06:17:41.756350Z",
     "iopub.status.busy": "2022-10-15T06:17:41.756040Z",
     "iopub.status.idle": "2022-10-15T06:17:41.862651Z",
     "shell.execute_reply": "2022-10-15T06:17:41.861870Z",
     "shell.execute_reply.started": "2022-10-15T06:17:41.756315Z"
    }
   },
   "outputs": [],
   "source": [
    "# split into train and test sets\n",
    "X_train, X_test, y_train, y_test = train_test_split(X_data_rus, y_data_rus, test_size=0.3, random_state=42,stratify=y_data_rus)"
   ]
  },
  {
   "cell_type": "markdown",
   "id": "e5210dba",
   "metadata": {},
   "source": [
    "### Handling Numerical \n",
    "- Using Power transformer to avoid Data Skewness"
   ]
  },
  {
   "cell_type": "code",
   "execution_count": 19,
   "id": "83303eaa",
   "metadata": {
    "execution": {
     "iopub.execute_input": "2022-10-15T06:17:42.391241Z",
     "iopub.status.busy": "2022-10-15T06:17:42.390904Z",
     "iopub.status.idle": "2022-10-15T06:17:51.935726Z",
     "shell.execute_reply": "2022-10-15T06:17:51.934717Z",
     "shell.execute_reply.started": "2022-10-15T06:17:42.391202Z"
    }
   },
   "outputs": [],
   "source": [
    "scalar = PowerTransformer(method='yeo-johnson', standardize=True).fit(X_train)"
   ]
  },
  {
   "cell_type": "code",
   "execution_count": 20,
   "id": "9cbfbb43",
   "metadata": {
    "execution": {
     "iopub.execute_input": "2022-10-15T06:17:51.939155Z",
     "iopub.status.busy": "2022-10-15T06:17:51.937794Z",
     "iopub.status.idle": "2022-10-15T06:17:52.881831Z",
     "shell.execute_reply": "2022-10-15T06:17:52.880707Z",
     "shell.execute_reply.started": "2022-10-15T06:17:51.939106Z"
    }
   },
   "outputs": [],
   "source": [
    "X_train = scalar.transform(X_train)\n",
    "X_test = scalar.transform(X_test)"
   ]
  },
  {
   "cell_type": "markdown",
   "id": "39b1cf95",
   "metadata": {},
   "source": [
    "# Modeling and Evaluation\n"
   ]
  },
  {
   "cell_type": "markdown",
   "id": "85950f98",
   "metadata": {},
   "source": [
    "#### Model Building"
   ]
  },
  {
   "cell_type": "code",
   "execution_count": 25,
   "id": "399001fb",
   "metadata": {
    "execution": {
     "iopub.execute_input": "2022-10-15T06:19:01.758655Z",
     "iopub.status.busy": "2022-10-15T06:19:01.758344Z",
     "iopub.status.idle": "2022-10-15T06:19:01.764831Z",
     "shell.execute_reply": "2022-10-15T06:19:01.764077Z",
     "shell.execute_reply.started": "2022-10-15T06:19:01.758619Z"
    }
   },
   "outputs": [],
   "source": [
    "bagging = BaggingClassifier(n_jobs=-1)\n",
    "extraTrees = ExtraTreesClassifier(max_depth=10, n_jobs=-1)\n",
    "randomForest = RandomForestClassifier(n_jobs=-1)\n",
    "histGradientBoosting = HistGradientBoostingClassifier()\n",
    "XGB = XGBClassifier(n_jobs=-1)\n",
    "\n",
    "model = StackingClassifier([\n",
    "    ('bagging', bagging),\n",
    "    ('extraTress', extraTrees),\n",
    "    ('randomforest', randomForest),\n",
    "    ('histGradientBoosting', histGradientBoosting),\n",
    "    ('XGB', XGB)\n",
    "], n_jobs=-1)"
   ]
  },
  {
   "cell_type": "markdown",
   "id": "9ab632cc",
   "metadata": {},
   "source": [
    "#### Model fitting"
   ]
  },
  {
   "cell_type": "code",
   "execution_count": 26,
   "id": "f6ef5ba4",
   "metadata": {
    "execution": {
     "iopub.execute_input": "2022-10-15T06:19:03.060632Z",
     "iopub.status.busy": "2022-10-15T06:19:03.059511Z",
     "iopub.status.idle": "2022-10-15T06:30:41.257350Z",
     "shell.execute_reply": "2022-10-15T06:30:41.255989Z",
     "shell.execute_reply.started": "2022-10-15T06:19:03.060580Z"
    }
   },
   "outputs": [
    {
     "name": "stdout",
     "output_type": "stream",
     "text": [
      "[06:19:53] WARNING: ../src/learner.cc:1095: Starting in XGBoost 1.3.0, the default evaluation metric used with the objective 'multi:softprob' was changed from 'merror' to 'mlogloss'. Explicitly set eval_metric if you'd like to restore the old behavior.\n"
     ]
    },
    {
     "name": "stderr",
     "output_type": "stream",
     "text": [
      "/opt/conda/lib/python3.7/site-packages/xgboost/sklearn.py:1146: UserWarning: The use of label encoder in XGBClassifier is deprecated and will be removed in a future release. To remove this warning, do the following: 1) Pass option use_label_encoder=False when constructing XGBClassifier object; and 2) Encode your labels (y) as integers starting with 0, i.e. 0, 1, 2, ..., [num_class - 1].\n",
      "  warnings.warn(label_encoder_deprecation_msg, UserWarning)\n",
      "[06:25:17] WARNING: ../src/learner.cc:1095: Starting in XGBoost 1.3.0, the default evaluation metric used with the objective 'multi:softprob' was changed from 'merror' to 'mlogloss'. Explicitly set eval_metric if you'd like to restore the old behavior.\n",
      "[06:25:17] WARNING: ../src/learner.cc:1095: Starting in XGBoost 1.3.0, the default evaluation metric used with the objective 'multi:softprob' was changed from 'merror' to 'mlogloss'. Explicitly set eval_metric if you'd like to restore the old behavior.\n",
      "[06:25:17] WARNING: ../src/learner.cc:1095: Starting in XGBoost 1.3.0, the default evaluation metric used with the objective 'multi:softprob' was changed from 'merror' to 'mlogloss'. Explicitly set eval_metric if you'd like to restore the old behavior.\n",
      "[06:25:17] WARNING: ../src/learner.cc:1095: Starting in XGBoost 1.3.0, the default evaluation metric used with the objective 'multi:softprob' was changed from 'merror' to 'mlogloss'. Explicitly set eval_metric if you'd like to restore the old behavior.\n",
      "[06:29:31] WARNING: ../src/learner.cc:1095: Starting in XGBoost 1.3.0, the default evaluation metric used with the objective 'multi:softprob' was changed from 'merror' to 'mlogloss'. Explicitly set eval_metric if you'd like to restore the old behavior.\n"
     ]
    },
    {
     "data": {
      "text/plain": [
       "StackingClassifier(estimators=[('bagging', BaggingClassifier(n_jobs=-1)),\n",
       "                               ('extraTress',\n",
       "                                ExtraTreesClassifier(max_depth=10, n_jobs=-1)),\n",
       "                               ('randomforest',\n",
       "                                RandomForestClassifier(n_jobs=-1)),\n",
       "                               ('histGradientBoosting',\n",
       "                                HistGradientBoostingClassifier()),\n",
       "                               ('XGB',\n",
       "                                XGBClassifier(base_score=None, booster=None,\n",
       "                                              colsample_bylevel=None,\n",
       "                                              colsample_bynode=None,\n",
       "                                              colsample_bytr...\n",
       "                                              importance_type='gain',\n",
       "                                              interaction_constraints=None,\n",
       "                                              learning_rate=None,\n",
       "                                              max_delta_step=None,\n",
       "                                              max_depth=None,\n",
       "                                              min_child_weight=None,\n",
       "                                              missing=nan,\n",
       "                                              monotone_constraints=None,\n",
       "                                              n_estimators=100, n_jobs=-1,\n",
       "                                              num_parallel_tree=None,\n",
       "                                              random_state=None, reg_alpha=None,\n",
       "                                              reg_lambda=None,\n",
       "                                              scale_pos_weight=None,\n",
       "                                              subsample=None, tree_method=None,\n",
       "                                              validate_parameters=None,\n",
       "                                              verbosity=None))],\n",
       "                   n_jobs=-1)"
      ]
     },
     "execution_count": 26,
     "metadata": {},
     "output_type": "execute_result"
    }
   ],
   "source": [
    "model.fit(X_train, y_train)"
   ]
  },
  {
   "cell_type": "markdown",
   "id": "edddf9df",
   "metadata": {},
   "source": [
    "#### model evaluation"
   ]
  },
  {
   "cell_type": "code",
   "execution_count": 27,
   "id": "29aaee6d",
   "metadata": {
    "execution": {
     "iopub.execute_input": "2022-10-15T06:30:41.270189Z",
     "iopub.status.busy": "2022-10-15T06:30:41.266021Z",
     "iopub.status.idle": "2022-10-15T06:30:47.726003Z",
     "shell.execute_reply": "2022-10-15T06:30:47.724857Z",
     "shell.execute_reply.started": "2022-10-15T06:30:41.270080Z"
    }
   },
   "outputs": [
    {
     "name": "stdout",
     "output_type": "stream",
     "text": [
      "Train Score:  0.9988447588769982\n"
     ]
    }
   ],
   "source": [
    "print(\"Train Score: \",model.score(X_train, y_train))"
   ]
  },
  {
   "cell_type": "code",
   "execution_count": 28,
   "id": "e6dddc5a",
   "metadata": {
    "execution": {
     "iopub.execute_input": "2022-10-15T06:30:47.728937Z",
     "iopub.status.busy": "2022-10-15T06:30:47.728252Z",
     "iopub.status.idle": "2022-10-15T06:30:50.301546Z",
     "shell.execute_reply": "2022-10-15T06:30:50.300593Z",
     "shell.execute_reply.started": "2022-10-15T06:30:47.728886Z"
    }
   },
   "outputs": [
    {
     "name": "stdout",
     "output_type": "stream",
     "text": [
      "Test Score:  0.8504085086821155\n"
     ]
    }
   ],
   "source": [
    "print(\"Test Score: \",model.score(X_test, y_test))"
   ]
  },
  {
   "cell_type": "code",
   "execution_count": 29,
   "id": "ee7d172b",
   "metadata": {
    "execution": {
     "iopub.execute_input": "2022-10-15T06:30:50.304905Z",
     "iopub.status.busy": "2022-10-15T06:30:50.304309Z",
     "iopub.status.idle": "2022-10-15T06:30:53.115109Z",
     "shell.execute_reply": "2022-10-15T06:30:53.113972Z",
     "shell.execute_reply.started": "2022-10-15T06:30:50.304862Z"
    }
   },
   "outputs": [],
   "source": [
    "y_pred = model.predict(X_test)"
   ]
  },
  {
   "cell_type": "code",
   "execution_count": 30,
   "id": "a044d421",
   "metadata": {
    "execution": {
     "iopub.execute_input": "2022-10-15T06:30:53.126214Z",
     "iopub.status.busy": "2022-10-15T06:30:53.125529Z",
     "iopub.status.idle": "2022-10-15T06:30:53.289719Z",
     "shell.execute_reply": "2022-10-15T06:30:53.288894Z",
     "shell.execute_reply.started": "2022-10-15T06:30:53.126170Z"
    }
   },
   "outputs": [
    {
     "name": "stdout",
     "output_type": "stream",
     "text": [
      "              precision    recall  f1-score   support\n",
      "\n",
      "           0       0.85      0.87      0.86     15488\n",
      "           1       0.81      0.79      0.80     16284\n",
      "           2       0.90      0.89      0.89     16085\n",
      "\n",
      "    accuracy                           0.85     47857\n",
      "   macro avg       0.85      0.85      0.85     47857\n",
      "weighted avg       0.85      0.85      0.85     47857\n",
      "\n"
     ]
    }
   ],
   "source": [
    "print(classification_report(y_pred,y_test))"
   ]
  },
  {
   "cell_type": "markdown",
   "id": "f71be4a5",
   "metadata": {},
   "source": [
    "#### model Saving"
   ]
  },
  {
   "cell_type": "code",
   "execution_count": 34,
   "id": "df8c5853",
   "metadata": {
    "execution": {
     "iopub.execute_input": "2022-10-15T06:30:53.331172Z",
     "iopub.status.busy": "2022-10-15T06:30:53.329830Z",
     "iopub.status.idle": "2022-10-15T06:30:53.336659Z",
     "shell.execute_reply": "2022-10-15T06:30:53.335945Z",
     "shell.execute_reply.started": "2022-10-15T06:30:53.331129Z"
    }
   },
   "outputs": [],
   "source": [
    "# joblib.dump(model,'model.h5')\n",
    "# joblib.dump(scalar,'scalar.h5')"
   ]
  }
 ],
 "metadata": {
  "kernelspec": {
   "display_name": "Python 3 (ipykernel)",
   "language": "python",
   "name": "python3"
  },
  "language_info": {
   "codemirror_mode": {
    "name": "ipython",
    "version": 3
   },
   "file_extension": ".py",
   "mimetype": "text/x-python",
   "name": "python",
   "nbconvert_exporter": "python",
   "pygments_lexer": "ipython3",
   "version": "3.9.19"
  }
 },
 "nbformat": 4,
 "nbformat_minor": 5
}
