{
 "cells": [
  {
   "cell_type": "code",
   "execution_count": 1,
   "id": "b8c49708-a448-4db2-adc3-243a291d72e8",
   "metadata": {},
   "outputs": [
    {
     "name": "stdout",
     "output_type": "stream",
     "text": [
      "Loan intents updated and saved to: randomised_LI_credit_risk_dataset_final.csv\n",
      "\n",
      "Counts of each loan intent category:\n",
      "loan_intent\n",
      "SMALL_BUSINESS                   7267\n",
      "WOMAN_ENTREPRENEUR               7139\n",
      "SMALL_FARMERS_AND_AGRICULTURE    5608\n",
      "OTHERS                           4444\n",
      "MINORITY_BUSINESS                4067\n",
      "FREELANCE_AND_GIG_WORKERS        4056\n",
      "Name: count, dtype: int64\n",
      "Counts of each loan intent category saved to: loan_intent_counts.csv\n"
     ]
    }
   ],
   "source": [
    "import pandas as pd\n",
    "import numpy as np\n",
    "\n",
    "# Load the dataset\n",
    "file_path = 'credit_risk_dataset.csv'  # Update this path to your actual file path\n",
    "df = pd.read_csv(file_path)\n",
    "\n",
    "# Set the seed for reproducibility\n",
    "np.random.seed(42)\n",
    "\n",
    "# Function to map existing loan intents to new categories\n",
    "def map_loan_intent(intent):\n",
    "    mapping = {\n",
    "        'PERSONAL': ['WOMAN_ENTREPRENEUR', 'SMALL_BUSINESS'],\n",
    "        'VENTURE': ['MINORITY_BUSINESS', 'FREELANCE_AND_GIG_WORKERS'],\n",
    "        'DEBTCONSOLIDATION': ['SMALL_FARMERS_AND_AGRICULTURE', 'OTHERS'],\n",
    "        'MEDICAL': ['WOMAN_ENTREPRENEUR', 'SMALL_BUSINESS', 'MINORITY_BUSINESS', 'FREELANCE_AND_GIG_WORKERS', 'SMALL_FARMERS_AND_AGRICULTURE'],\n",
    "        'HOMEIMPROVEMENT': ['SMALL_FARMERS_AND_AGRICULTURE', 'OTHERS'],\n",
    "        'EDUCATION': ['WOMAN_ENTREPRENEUR', 'SMALL_BUSINESS']\n",
    "    }\n",
    "    return np.random.choice(mapping[intent])\n",
    "\n",
    "# Apply the mapping function to the 'loan_intent' column\n",
    "df['loan_intent'] = df['loan_intent'].apply(map_loan_intent)\n",
    "\n",
    "# Count the number of each loan intent category\n",
    "loan_intent_counts = df['loan_intent'].value_counts()\n",
    "\n",
    "# Save the updated dataframe to a new CSV file\n",
    "output_file_path = 'randomised_LI_credit_risk_dataset_final.csv'  # Update this path to your desired output file path\n",
    "df.to_csv(output_file_path, index=False)\n",
    "\n",
    "# Print the counts of each loan intent category\n",
    "print(\"Loan intents updated and saved to:\", output_file_path)\n",
    "print(\"\\nCounts of each loan intent category:\")\n",
    "print(loan_intent_counts)\n",
    "\n",
    "# Optionally save the counts to a file\n",
    "counts_output_file_path = 'loan_intent_counts.csv'  # Update this path to your desired output file path\n",
    "loan_intent_counts.to_csv(counts_output_file_path, header=True)\n",
    "\n",
    "print(\"Counts of each loan intent category saved to:\", counts_output_file_path)\n"
   ]
  },
  {
   "cell_type": "code",
   "execution_count": 1,
   "id": "8fd98fa3-0a07-427c-8961-e79726ac0623",
   "metadata": {},
   "outputs": [
    {
     "name": "stdout",
     "output_type": "stream",
     "text": [
      "loan_intent\n",
      "WOMAN_ENTREPRENEUR        11240\n",
      "GREEN_ENERGY_PROJECTS      6453\n",
      "MINORITY_BUSINESS          6071\n",
      "LGBTQ_ENTREPRENEURS        5212\n",
      "VETERAN_OWNED_BUSINESS     3605\n",
      "Name: count, dtype: int64\n"
     ]
    }
   ],
   "source": [
    "import pandas as pd\n",
    "\n",
    "# Load the original dataset\n",
    "df = pd.read_csv('credit_risk_dataset.csv')\n",
    "\n",
    "# Define the mapping based on current patterns and insights\n",
    "intent_mapping = {\n",
    "    'PERSONAL': 'WOMAN_ENTREPRENEUR',\n",
    "    'VENTURE': 'WOMAN_ENTREPRENEUR',\n",
    "    'DEBTCONSOLIDATION': 'LGBTQ_ENTREPRENEURS',\n",
    "    'MEDICAL': 'MINORITY_BUSINESS',\n",
    "    'HOMEIMPROVEMENT': 'VETERAN_OWNED_BUSINESS',\n",
    "    'EDUCATION': 'GREEN_ENERGY_PROJECTS'\n",
    "}\n",
    "\n",
    "# Apply the mapping to the DataFrame\n",
    "df['loan_intent'] = df['loan_intent'].map(intent_mapping)\n",
    "\n",
    "# Verify the new distribution of loan intents\n",
    "print(df['loan_intent'].value_counts())\n",
    "\n",
    "# Save the new DataFrame to a CSV file\n",
    "df.to_csv('credit_risk_dataset_manipulated.csv', index=False)\n"
   ]
  },
  {
   "cell_type": "code",
   "execution_count": 3,
   "id": "b4cbc6b8-aa77-4f58-96a4-cace72e4abd2",
   "metadata": {},
   "outputs": [
    {
     "name": "stdout",
     "output_type": "stream",
     "text": [
      "business_proposal_analysis\n",
      "High      16595\n",
      "Medium    15923\n",
      "Low          63\n",
      "Name: count, dtype: int64\n"
     ]
    }
   ],
   "source": [
    "# business_proposal_analysis with basic correlations\n",
    "import pandas as pd\n",
    "\n",
    "# Load your edited dataset\n",
    "df = pd.read_csv('credit_risk_dataset_manipulated.csv')\n",
    "\n",
    "# Define function to categorize business proposal analysis\n",
    "def categorize_business_plan(row):\n",
    "    if row['loan_status'] == 0 and row['loan_int_rate'] <= 12.5 and row['loan_percent_income'] <= 0.5:\n",
    "        return 'High'\n",
    "    elif row['loan_status'] == 1 and row['loan_int_rate'] > 20:\n",
    "        return 'Low'\n",
    "    else:\n",
    "        return 'Medium'\n",
    "\n",
    "# Apply the function to create the new column\n",
    "df['business_proposal_analysis'] = df.apply(categorize_business_plan, axis=1)\n",
    "\n",
    "# Verify the new distribution of business proposal analysis\n",
    "print(df['business_proposal_analysis'].value_counts())\n",
    "\n",
    "# Save the updated DataFrame to a new CSV file\n",
    "df.to_csv('credit_risk_dataset_with_analysis_general.csv', index=False)"
   ]
  },
  {
   "cell_type": "code",
   "execution_count": 4,
   "id": "c4f78b40-88f8-4d75-a42e-3e7cc423e82c",
   "metadata": {},
   "outputs": [
    {
     "name": "stdout",
     "output_type": "stream",
     "text": [
      "business_proposal_analysis\n",
      "Low       18778\n",
      "High       7394\n",
      "Medium     6409\n",
      "Name: count, dtype: int64\n"
     ]
    }
   ],
   "source": [
    "# business_proposal_analysis with advanced correlations\n",
    "import pandas as pd\n",
    "\n",
    "# Load your edited dataset\n",
    "df = pd.read_csv('credit_risk_dataset_manipulated.csv')\n",
    "\n",
    "def categorize_business_plan(row):\n",
    "    if (row['loan_status'] == 0 and row['loan_int_rate'] <= 12.5 and row['loan_percent_income'] <= 0.5 and \n",
    "        row['cb_person_default_on_file'] == 'N' and row['cb_person_cred_hist_length'] > 4):\n",
    "        return 'High'\n",
    "    elif (row['loan_status'] == 1 and row['loan_int_rate'] > 20):\n",
    "        return 'Low'\n",
    "    elif (row['loan_status'] == 0 and row['loan_int_rate'] > 12.5 and row['loan_int_rate'] <= 20 and row['loan_percent_income'] > 0.5 and row['loan_percent_income'] <= 0.9) or (\n",
    "          row['loan_status'] == 1 and row['loan_int_rate'] <= 20):\n",
    "        return 'Medium'\n",
    "    else:\n",
    "        return 'Low'\n",
    "\n",
    "# Apply the refined function\n",
    "df['business_proposal_analysis'] = df.apply(categorize_business_plan, axis=1)\n",
    "\n",
    "# Verify the new distribution of business proposal analysis\n",
    "print(df['business_proposal_analysis'].value_counts())\n",
    "\n",
    "# Save the updated DataFrame to a new CSV file\n",
    "df.to_csv('credit_risk_dataset_with_analysis_advanced.csv', index=False)\n"
   ]
  },
  {
   "cell_type": "code",
   "execution_count": 5,
   "id": "36bf9b7e-316e-49f8-9411-31ab698becc4",
   "metadata": {},
   "outputs": [
    {
     "name": "stdout",
     "output_type": "stream",
     "text": [
      "business_proposal_analysis\n",
      "Medium    25124\n",
      "High       7394\n",
      "Low          63\n",
      "Name: count, dtype: int64\n"
     ]
    }
   ],
   "source": [
    "import pandas as pd\n",
    "\n",
    "# Load your edited dataset\n",
    "df = pd.read_csv('credit_risk_dataset_manipulated.csv')\n",
    "def categorize_business_plan(row):\n",
    "    if (row['loan_status'] == 0 and row['loan_int_rate'] <= 12.5 and row['loan_percent_income'] <= 0.5 and \n",
    "        row['cb_person_default_on_file'] == 'N' and row['cb_person_cred_hist_length'] > 4):\n",
    "        return 'High'\n",
    "    elif (row['loan_status'] == 1 and row['loan_int_rate'] > 20):\n",
    "        return 'Low'\n",
    "    elif (row['loan_status'] == 0 and row['loan_int_rate'] > 12.5 and row['loan_int_rate'] <= 20 and row['loan_percent_income'] <= 0.9) or (\n",
    "          row['loan_status'] == 1 and row['loan_int_rate'] <= 20):\n",
    "        return 'Medium'\n",
    "    else:\n",
    "        return 'Medium'  # Changing the default case to 'Medium' to balance the distribution\n",
    "\n",
    "# Apply the adjusted function\n",
    "df['business_proposal_analysis'] = df.apply(categorize_business_plan, axis=1)\n",
    "\n",
    "# Verify the new distribution of business proposal analysis\n",
    "print(df['business_proposal_analysis'].value_counts())\n",
    "\n",
    "# Save the updated DataFrame to a new CSV file\n",
    "df.to_csv('credit_risk_dataset_with_analysis_advanced_2.csv', index=False)\n"
   ]
  },
  {
   "cell_type": "code",
   "execution_count": 4,
   "id": "b9aea439-aa1e-4fcd-841d-e13d77d5c53f",
   "metadata": {},
   "outputs": [
    {
     "name": "stdout",
     "output_type": "stream",
     "text": [
      "business_proposal_analysis\n",
      "Medium    19895\n",
      "High       8375\n",
      "Low        4311\n",
      "Name: count, dtype: int64\n"
     ]
    }
   ],
   "source": [
    "import pandas as pd\n",
    "\n",
    "# Load your edited dataset\n",
    "df = pd.read_csv('randomised_LI_credit_risk_dataset.csv')\n",
    "def categorize_business_plan(row):\n",
    "    if (row['loan_status'] == 0 and row['loan_int_rate'] <= 12.5 and row['loan_percent_income'] <= 0.5 and \n",
    "        row['cb_person_default_on_file'] == 'N' and row['cb_person_cred_hist_length'] > 4):\n",
    "        return 'High'\n",
    "    elif (row['loan_status'] == 1 and row['loan_int_rate'] <= 12.5 and row['loan_percent_income'] <= 0.5 and \n",
    "        row['cb_person_default_on_file'] == 'N' and row['cb_person_cred_hist_length'] > 4):\n",
    "        return 'High'\n",
    "    # frequent prior defaults and short credit history\n",
    "    elif (row['loan_status'] == 1 and (row['loan_int_rate'] > 17 or \n",
    "                                       row['cb_person_cred_hist_length'] <= 3 or \n",
    "                                       row['cb_person_default_on_file'] == 'Y')):\n",
    "        return 'Low'\n",
    "    elif (row['loan_status'] == 0 and (row['loan_int_rate'] > 17 and \n",
    "                                       row['cb_person_cred_hist_length'] <= 3 and \n",
    "                                       row['cb_person_default_on_file'] == 'Y')):\n",
    "        return 'Low'\n",
    "    elif (row['loan_status'] == 0 and row['loan_int_rate'] > 12.5 and row['loan_int_rate'] <= 17 and row['loan_percent_income'] <= 0.9) or (\n",
    "          row['loan_status'] == 1 and row['loan_int_rate'] <= 17):\n",
    "        return 'Medium'\n",
    "    else:\n",
    "        return 'Medium'  # Changing the default case to 'Medium' to balance the distribution\n",
    "\n",
    "# Apply the adjusted function\n",
    "df['business_proposal_analysis'] = df.apply(categorize_business_plan, axis=1)\n",
    "\n",
    "# Verify the new distribution of business proposal analysis\n",
    "print(df['business_proposal_analysis'].value_counts())\n",
    "\n",
    "# Save the updated DataFrame to a new CSV file\n",
    "df.to_csv('randomised_LI_credit_risk_dataset_with_prop.csv', index=False)"
   ]
  },
  {
   "cell_type": "code",
   "execution_count": 7,
   "id": "2ad6f767-7dc0-4f71-9d50-408846713574",
   "metadata": {},
   "outputs": [
    {
     "name": "stdout",
     "output_type": "stream",
     "text": [
      "business_proposal_analysis\n",
      "Medium    13176\n",
      "Low       11030\n",
      "High       8375\n",
      "Name: count, dtype: int64\n"
     ]
    }
   ],
   "source": [
    "import pandas as pd\n",
    "\n",
    "# Load your edited dataset\n",
    "df = pd.read_csv('randomised_LI_credit_risk_dataset.csv')\n",
    "\n",
    "def categorize_business_plan(row):\n",
    "    if (row['loan_status'] == 0 and row['loan_int_rate'] <= 12.5 and row['loan_percent_income'] <= 0.5 and \n",
    "        row['cb_person_default_on_file'] == 'N' and row['cb_person_cred_hist_length'] > 4):\n",
    "        return 'High'\n",
    "    elif (row['loan_status'] == 1 and row['loan_int_rate'] <= 12.5 and row['loan_percent_income'] <= 0.5 and \n",
    "          row['cb_person_default_on_file'] == 'N' and row['cb_person_cred_hist_length'] > 4):\n",
    "        return 'High'\n",
    "    elif (row['loan_int_rate'] > 17 or row['cb_person_cred_hist_length'] <= 2 or row['cb_person_default_on_file'] == 'Y'):\n",
    "        if (row['loan_status'] == 0):\n",
    "            return 'Low'\n",
    "        elif (row['loan_status'] == 1):\n",
    "            return 'Low'\n",
    "    else:\n",
    "        return 'Medium'\n",
    "\n",
    "# Apply the adjusted function\n",
    "df['business_proposal_analysis'] = df.apply(categorize_business_plan, axis=1)\n",
    "\n",
    "# Verify the new distribution of business proposal analysis\n",
    "print(df['business_proposal_analysis'].value_counts())\n",
    "\n",
    "# Save the updated DataFrame to a new CSV file\n",
    "df.to_csv('randomised_LI_credit_risk_dataset_with_prop_2.csv', index=False)\n"
   ]
  },
  {
   "cell_type": "code",
   "execution_count": null,
   "id": "fa8640f9-e771-40c5-8669-8bf9d3001a64",
   "metadata": {},
   "outputs": [],
   "source": []
  }
 ],
 "metadata": {
  "kernelspec": {
   "display_name": "Python 3 (ipykernel)",
   "language": "python",
   "name": "python3"
  },
  "language_info": {
   "codemirror_mode": {
    "name": "ipython",
    "version": 3
   },
   "file_extension": ".py",
   "mimetype": "text/x-python",
   "name": "python",
   "nbconvert_exporter": "python",
   "pygments_lexer": "ipython3",
   "version": "3.11.5"
  }
 },
 "nbformat": 4,
 "nbformat_minor": 5
}
